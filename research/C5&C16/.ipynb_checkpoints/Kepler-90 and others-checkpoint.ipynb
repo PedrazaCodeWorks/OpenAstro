{
 "cells": [
  {
   "cell_type": "markdown",
   "metadata": {},
   "source": [
    "# Interesting transiting systems"
   ]
  },
  {
   "cell_type": "markdown",
   "metadata": {},
   "source": [
    "## Target\n",
    "\n",
    "* Kepler-90: [Simbad](http://simbad.u-strasbg.fr/simbad/sim-id?Ident=KIC11442793), [other names](http://simbad.u-strasbg.fr/simbad/sim-id?Ident=KIC11442793)\n",
    "* [Shallue & Vanderburg (2017)](https://arxiv.org/pdf/1712.05044.pdf)\n",
    "\n",
    "* [V830 Tau](http://exoplanet.eu/catalog/v830_tau_b/)"
   ]
  },
  {
   "cell_type": "markdown",
   "metadata": {},
   "source": [
    "## To do:\n",
    "* download lc from each pipelines (using [K2plr](http://dfm.io/kplr/)) \n",
    " * [K2SC](https://archive.stsci.edu/prepds/k2sc/)\n",
    " * [K2SFF](https://archive.stsci.edu/k2/hlsp/k2sff/search.php)\n",
    " * [Everest](https://archive.stsci.edu/prepds/everest/)\n",
    " * [k2phot](https://exofop.ipac.caltech.edu/k2/) (form exofop)"
   ]
  },
  {
   "cell_type": "code",
   "execution_count": 1,
   "metadata": {
    "ExecuteTime": {
     "end_time": "2017-12-23T02:23:13.148788Z",
     "start_time": "2017-12-23T02:23:13.133739Z"
    }
   },
   "outputs": [
    {
     "data": {
      "text/plain": [
       "'astroconda35'"
      ]
     },
     "execution_count": 1,
     "metadata": {},
     "output_type": "execute_result"
    }
   ],
   "source": [
    "import os\n",
    "\n",
    "os.environ['CONDA_DEFAULT_ENV']"
   ]
  },
  {
   "cell_type": "markdown",
   "metadata": {},
   "source": [
    "## Download data\n",
    "* [kplr](http://dfm.io/kplr/)\n",
    "* [data archive](http://archive.stsci.edu/kepler/data_search/search.php?action=Search&ktc_kepler_id=11442793)"
   ]
  },
  {
   "cell_type": "code",
   "execution_count": 1,
   "metadata": {
    "ExecuteTime": {
     "end_time": "2017-12-23T02:57:52.976558Z",
     "start_time": "2017-12-23T02:57:45.141723Z"
    }
   },
   "outputs": [
    {
     "ename": "ValueError",
     "evalue": "No KOI found with the number: '351'",
     "output_type": "error",
     "traceback": [
      "\u001b[0;31m---------------------------------------------------------------------------\u001b[0m",
      "\u001b[0;31mValueError\u001b[0m                                Traceback (most recent call last)",
      "\u001b[0;32m<ipython-input-1-e81111782baa>\u001b[0m in \u001b[0;36m<module>\u001b[0;34m()\u001b[0m\n\u001b[1;32m      6\u001b[0m \u001b[0;34m\u001b[0m\u001b[0m\n\u001b[1;32m      7\u001b[0m \u001b[0;31m# Find a KOI.\u001b[0m\u001b[0;34m\u001b[0m\u001b[0;34m\u001b[0m\u001b[0m\n\u001b[0;32m----> 8\u001b[0;31m \u001b[0mkoi\u001b[0m \u001b[0;34m=\u001b[0m \u001b[0mclient\u001b[0m\u001b[0;34m.\u001b[0m\u001b[0mkoi\u001b[0m\u001b[0;34m(\u001b[0m\u001b[0mkoi\u001b[0m\u001b[0;34m)\u001b[0m\u001b[0;34m\u001b[0m\u001b[0m\n\u001b[0m\u001b[1;32m      9\u001b[0m \u001b[0mprint\u001b[0m\u001b[0;34m(\u001b[0m\u001b[0mkoi\u001b[0m\u001b[0;34m.\u001b[0m\u001b[0mkoi_period\u001b[0m\u001b[0;34m)\u001b[0m\u001b[0;34m\u001b[0m\u001b[0m\n\u001b[1;32m     10\u001b[0m \u001b[0;34m\u001b[0m\u001b[0m\n",
      "\u001b[0;32m~/miniconda3/envs/astroconda35/lib/python3.6/site-packages/kplr/api.py\u001b[0m in \u001b[0;36mkoi\u001b[0;34m(self, koi_number, **params)\u001b[0m\n\u001b[1;32m    262\u001b[0m         \u001b[0;32mif\u001b[0m \u001b[0;32mnot\u001b[0m \u001b[0mlen\u001b[0m\u001b[0;34m(\u001b[0m\u001b[0mkois\u001b[0m\u001b[0;34m)\u001b[0m\u001b[0;34m:\u001b[0m\u001b[0;34m\u001b[0m\u001b[0m\n\u001b[1;32m    263\u001b[0m             raise ValueError(\"No KOI found with the number: '{0}'\"\n\u001b[0;32m--> 264\u001b[0;31m                              .format(koi_number))\n\u001b[0m\u001b[1;32m    265\u001b[0m         \u001b[0;32mreturn\u001b[0m \u001b[0mkois\u001b[0m\u001b[0;34m[\u001b[0m\u001b[0;36m0\u001b[0m\u001b[0;34m]\u001b[0m\u001b[0;34m\u001b[0m\u001b[0m\n\u001b[1;32m    266\u001b[0m \u001b[0;34m\u001b[0m\u001b[0m\n",
      "\u001b[0;31mValueError\u001b[0m: No KOI found with the number: '351'"
     ]
    }
   ],
   "source": [
    "import kplr\n",
    "client = kplr.API()\n",
    "\n",
    "kepler_id = 11442793\n",
    "koi       = 351\n",
    "\n",
    "# Find a KOI.\n",
    "koi = client.koi(koi)\n",
    "print(koi.koi_period)\n",
    "\n",
    "# This KOI has an associated star.\n",
    "star = koi.star\n",
    "print(star.kic_teff)\n",
    "\n",
    "# Download the lightcurves for this KOI.\n",
    "lightcurves = koi.get_light_curves()\n",
    "for lc in lightcurves:\n",
    "    print(lc.filename)"
   ]
  },
  {
   "cell_type": "markdown",
   "metadata": {},
   "source": [
    "## Everest pipeline lc"
   ]
  },
  {
   "cell_type": "code",
   "execution_count": 3,
   "metadata": {
    "ExecuteTime": {
     "end_time": "2017-12-23T05:24:31.206548Z",
     "start_time": "2017-12-23T05:24:31.115152Z"
    }
   },
   "outputs": [
    {
     "name": "stderr",
     "output_type": "stream",
     "text": [
      "100%|██████████| 1/1 [00:00<00:00, 16.70it/s]\n"
     ]
    }
   ],
   "source": [
    "epics='211413752'.split(',')\n",
    "\n",
    "from tqdm import tqdm\n",
    "import k2plr\n",
    "\n",
    "everest={} #stellar params\n",
    "for epic in tqdm(epics):\n",
    "    try:\n",
    "        star = k2plr.EVEREST(int(epic))\n",
    "        everest[epic]=star\n",
    "    except Exception as e:\n",
    "        print(e)"
   ]
  },
  {
   "cell_type": "code",
   "execution_count": 4,
   "metadata": {
    "ExecuteTime": {
     "end_time": "2017-12-23T05:24:32.074189Z",
     "start_time": "2017-12-23T05:24:32.067973Z"
    }
   },
   "outputs": [
    {
     "data": {
      "text/plain": [
       "1"
      ]
     },
     "execution_count": 4,
     "metadata": {},
     "output_type": "execute_result"
    }
   ],
   "source": [
    "len(everest)"
   ]
  },
  {
   "cell_type": "code",
   "execution_count": 5,
   "metadata": {
    "ExecuteTime": {
     "end_time": "2017-12-23T05:24:32.573556Z",
     "start_time": "2017-12-23T05:24:32.564504Z"
    }
   },
   "outputs": [
    {
     "data": {
      "text/plain": [
       "3663"
      ]
     },
     "execution_count": 5,
     "metadata": {},
     "output_type": "execute_result"
    }
   ],
   "source": [
    "len(everest[epic].flux)"
   ]
  },
  {
   "cell_type": "code",
   "execution_count": 6,
   "metadata": {
    "ExecuteTime": {
     "end_time": "2017-12-23T05:24:32.947215Z",
     "start_time": "2017-12-23T05:24:32.941524Z"
    }
   },
   "outputs": [
    {
     "data": {
      "text/plain": [
       "3663"
      ]
     },
     "execution_count": 6,
     "metadata": {},
     "output_type": "execute_result"
    }
   ],
   "source": [
    "len(everest[epic].time)"
   ]
  },
  {
   "cell_type": "code",
   "execution_count": 7,
   "metadata": {
    "ExecuteTime": {
     "end_time": "2017-12-23T05:24:33.769353Z",
     "start_time": "2017-12-23T05:24:33.497014Z"
    },
    "scrolled": true
   },
   "outputs": [
    {
     "data": {
      "image/png": "[encoded data removed]",
      "text/plain": [
       "<matplotlib.figure.Figure at 0x7f7069866208>"
      ]
     },
     "metadata": {},
     "output_type": "display_data"
    }
   ],
   "source": [
    "import matplotlib.pyplot as pl\n",
    "%matplotlib inline\n",
    "f=everest[epic].flux\n",
    "t=everest[epic].time\n",
    "\n",
    "pl.plot(t,f)\n",
    "pl.title(epic);"
   ]
  },
  {
   "cell_type": "markdown",
   "metadata": {},
   "source": [
    "Remove outliers"
   ]
  },
  {
   "cell_type": "code",
   "execution_count": 18,
   "metadata": {
    "ExecuteTime": {
     "end_time": "2017-12-23T02:30:48.681968Z",
     "start_time": "2017-12-23T02:30:48.432808Z"
    },
    "scrolled": true
   },
   "outputs": [
    {
     "data": {
      "text/plain": [
       "[<matplotlib.lines.Line2D at 0x7fef3722c6d8>]"
      ]
     },
     "execution_count": 18,
     "metadata": {},
     "output_type": "execute_result"
    },
    {
     "data": {
      "image/png": "[encoded data removed]",
      "text/plain": [
       "<matplotlib.figure.Figure at 0x7fef309122b0>"
      ]
     },
     "metadata": {},
     "output_type": "display_data"
    }
   ],
   "source": [
    "import matplotlib.pyplot as pl\n",
    "%matplotlib inline\n",
    "import pandas as pd\n",
    "import numpy as np\n",
    "\n",
    "f=everest[epic].flux\n",
    "t=everest[epic].time\n",
    "\n",
    "sigma = 5.0\n",
    "\n",
    "df=pd.DataFrame(np.c_[t,f],columns=['t','f'])\n",
    "#retain values within sigma from the mean\n",
    "mask = np.abs(df-df.mean())<=(sigma*df.std())\n",
    "df = df[mask]\n",
    "\n",
    "pl.plot(df.t,df.f)"
   ]
  },
  {
   "cell_type": "raw",
   "metadata": {
    "ExecuteTime": {
     "end_time": "2017-12-23T02:31:00.187137Z",
     "start_time": "2017-12-23T02:30:59.768629Z"
    }
   },
   "source": [
    "import pandas as pd\n",
    "from astropy.stats import sigma_clip\n",
    "import numpy as np\n",
    "\n",
    "sigma = 5.0\n",
    "\n",
    "for k in sorted(everest.keys()):\n",
    "    f=everest[k].flux\n",
    "    t=everest[k].time\n",
    "    df=pd.DataFrame(np.c_[t,f],columns=['t','f'])\n",
    "    #retain values within sigma from the mean\n",
    "    mask = np.abs(df-df.mean())<=(sigma*df.std())\n",
    "    df = df[mask]\n",
    "    #remove outliers\n",
    "    everest[k] = df\n",
    "    print('{}:\\nno. of outliers {}'.format(k, np.sum(~mask['f'])))"
   ]
  },
  {
   "cell_type": "raw",
   "metadata": {
    "ExecuteTime": {
     "end_time": "2017-12-23T02:15:46.621686Z",
     "start_time": "2017-12-23T02:15:42.812084Z"
    },
    "scrolled": false
   },
   "source": [
    "import matplotlib.pyplot as pl\n",
    "%matplotlib inline\n",
    "\n",
    "ncols = 2\n",
    "nrows = int(len(everest.keys())/ncols)+1\n",
    "\n",
    "fig, ax = pl.subplots(nrows, ncols, figsize=(15,35))\n",
    "for n,epic in enumerate(sorted(everest.keys())):\n",
    "    f=everest[epic].f\n",
    "    t=everest[epic].t\n",
    "    if ncols == 1:\n",
    "        ax[n].plot(t,f)\n",
    "        ax[n].set_title(epic)\n",
    "    else:\n",
    "        ax[int(n/ncols),n%ncols].plot(t,f)\n",
    "        ax[int(n/ncols),n%ncols].set_title(epic)\n",
    "fig.tight_layout()"
   ]
  },
  {
   "cell_type": "raw",
   "metadata": {},
   "source": [
    "## K2SFF lc"
   ]
  },
  {
   "cell_type": "raw",
   "metadata": {
    "ExecuteTime": {
     "end_time": "2017-10-20T11:44:12.143698Z",
     "start_time": "2017-10-20T11:44:11.983273Z"
    }
   },
   "source": [
    "k2plr.K2SFF(int(epic))"
   ]
  },
  {
   "cell_type": "raw",
   "metadata": {
    "collapsed": true
   },
   "source": [
    "from tqdm import tqdm\n",
    "\n",
    "k2sff={} #stellar params\n",
    "for epic in tqdm(epics):\n",
    "    try:\n",
    "        star = k2plr.K2SFF(int(epic))\n",
    "        k2sff[epic]=star\n",
    "    except Exception as e:\n",
    "        print(e)"
   ]
  },
  {
   "cell_type": "raw",
   "metadata": {},
   "source": [
    "## K2SC lc"
   ]
  },
  {
   "cell_type": "raw",
   "metadata": {
    "ExecuteTime": {
     "end_time": "2017-10-20T11:44:22.402416Z",
     "start_time": "2017-10-20T11:44:20.506940Z"
    }
   },
   "source": [
    "k2plr.K2SC(int(epic))"
   ]
  },
  {
   "cell_type": "raw",
   "metadata": {
    "ExecuteTime": {
     "end_time": "2017-10-20T11:39:13.127738Z",
     "start_time": "2017-10-20T11:38:30.104522Z"
    }
   },
   "source": [
    "from tqdm import tqdm\n",
    "\n",
    "k2sc={} #stellar params\n",
    "for epic in tqdm(epics):\n",
    "    try:\n",
    "        star = k2plr.K2SC(int(epic))\n",
    "        k2sc[epic]=star\n",
    "    except Exception as e:\n",
    "        print(e)"
   ]
  },
  {
   "cell_type": "code",
   "execution_count": null,
   "metadata": {
    "collapsed": true
   },
   "outputs": [],
   "source": []
  },
  {
   "cell_type": "code",
   "execution_count": null,
   "metadata": {
    "collapsed": true
   },
   "outputs": [],
   "source": []
  }
 ],
 "metadata": {
  "kernelspec": {
   "display_name": "Python 3",
   "language": "python",
   "name": "python3"
  },
  "language_info": {
   "codemirror_mode": {
    "name": "ipython",
    "version": 3
   },
   "file_extension": ".py",
   "mimetype": "text/x-python",
   "name": "python",
   "nbconvert_exporter": "python",
   "pygments_lexer": "ipython3",
   "version": "3.6.1"
  }
 },
 "nbformat": 4,
 "nbformat_minor": 2
}
