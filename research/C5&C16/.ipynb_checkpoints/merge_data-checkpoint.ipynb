{
 "cells": [
  {
   "cell_type": "code",
   "execution_count": 29,
   "metadata": {
    "ExecuteTime": {
     "end_time": "2017-12-26T06:07:23.999209Z",
     "start_time": "2017-12-26T06:07:23.989083Z"
    }
   },
   "outputs": [],
   "source": [
    "import pandas as pd\n",
    "\n",
    "df1=pd.read_csv('C5-C16-MuSCAT2.csv',delimiter=',',skiprows=[0,1,2,3,4,5,6,7,8])"
   ]
  },
  {
   "cell_type": "code",
   "execution_count": 30,
   "metadata": {
    "ExecuteTime": {
     "end_time": "2017-12-26T06:07:24.480748Z",
     "start_time": "2017-12-26T06:07:24.439868Z"
    }
   },
   "outputs": [
    {
     "data": {
      "text/html": [
       "<div>\n",
       "<style>\n",
       "    .dataframe thead tr:only-child th {\n",
       "        text-align: right;\n",
       "    }\n",
       "\n",
       "    .dataframe thead th {\n",
       "        text-align: left;\n",
       "    }\n",
       "\n",
       "    .dataframe tbody tr th {\n",
       "        vertical-align: top;\n",
       "    }\n",
       "</style>\n",
       "<table border=\"1\" class=\"dataframe\">\n",
       "  <thead>\n",
       "    <tr style=\"text-align: right;\">\n",
       "      <th></th>\n",
       "      <th>EPIC</th>\n",
       "      <th>RA</th>\n",
       "      <th>DEC</th>\n",
       "      <th>T0 (-2454900)</th>\n",
       "      <th>T0</th>\n",
       "      <th>Period [d]</th>\n",
       "      <th>Period unc.</th>\n",
       "      <th>Duration (hour)</th>\n",
       "      <th>MidpointJD</th>\n",
       "      <th>MidpointAirmass</th>\n",
       "      <th>IngressCalendar(UST)</th>\n",
       "      <th>MidpointCalendar(UST)</th>\n",
       "      <th>EgressCalendar(UST)</th>\n",
       "      <th>Notes</th>\n",
       "      <th>Kepmag</th>\n",
       "      <th>depth</th>\n",
       "    </tr>\n",
       "  </thead>\n",
       "  <tbody>\n",
       "    <tr>\n",
       "      <th>0</th>\n",
       "      <td>211413752b</td>\n",
       "      <td>8:54:50</td>\n",
       "      <td>11:50:54</td>\n",
       "      <td>2241.511433</td>\n",
       "      <td>2457141.511</td>\n",
       "      <td>2.151081</td>\n",
       "      <td>NaN</td>\n",
       "      <td>2.218094</td>\n",
       "      <td>2458137.461</td>\n",
       "      <td>1.43</td>\n",
       "      <td>1/18/2018 21:57:27</td>\n",
       "      <td>1/18/2018 23:04:00</td>\n",
       "      <td>1/19/2018 0:10:33</td>\n",
       "      <td>1.63 Re (inner) around solar-type star</td>\n",
       "      <td>13.539</td>\n",
       "      <td>0.000872</td>\n",
       "    </tr>\n",
       "    <tr>\n",
       "      <th>1</th>\n",
       "      <td>NaN</td>\n",
       "      <td>NaN</td>\n",
       "      <td>NaN</td>\n",
       "      <td>NaN</td>\n",
       "      <td>NaN</td>\n",
       "      <td>NaN</td>\n",
       "      <td>NaN</td>\n",
       "      <td>NaN</td>\n",
       "      <td>2458139.612</td>\n",
       "      <td>1.06</td>\n",
       "      <td>1/21/2018 1:34:27</td>\n",
       "      <td>1/21/2018 2:41:00</td>\n",
       "      <td>1/21/2018 3:47:33</td>\n",
       "      <td>NaN</td>\n",
       "      <td>NaN</td>\n",
       "      <td>NaN</td>\n",
       "    </tr>\n",
       "    <tr>\n",
       "      <th>2</th>\n",
       "      <td>NaN</td>\n",
       "      <td>NaN</td>\n",
       "      <td>NaN</td>\n",
       "      <td>NaN</td>\n",
       "      <td>NaN</td>\n",
       "      <td>NaN</td>\n",
       "      <td>NaN</td>\n",
       "      <td>NaN</td>\n",
       "      <td>2458152.519</td>\n",
       "      <td>1.06</td>\n",
       "      <td>2/2/2018 23:20:27</td>\n",
       "      <td>2/3/2018 0:27:00</td>\n",
       "      <td>2/3/2018 1:33:33</td>\n",
       "      <td>NaN</td>\n",
       "      <td>NaN</td>\n",
       "      <td>NaN</td>\n",
       "    </tr>\n",
       "    <tr>\n",
       "      <th>3</th>\n",
       "      <td>NaN</td>\n",
       "      <td>NaN</td>\n",
       "      <td>NaN</td>\n",
       "      <td>NaN</td>\n",
       "      <td>NaN</td>\n",
       "      <td>NaN</td>\n",
       "      <td>NaN</td>\n",
       "      <td>NaN</td>\n",
       "      <td>2458154.670</td>\n",
       "      <td>1.44</td>\n",
       "      <td>2/5/2018 2:57:27</td>\n",
       "      <td>2/5/2018 4:04:00</td>\n",
       "      <td>2/5/2018 5:10:33</td>\n",
       "      <td>NaN</td>\n",
       "      <td>NaN</td>\n",
       "      <td>NaN</td>\n",
       "    </tr>\n",
       "    <tr>\n",
       "      <th>4</th>\n",
       "      <td>NaN</td>\n",
       "      <td>NaN</td>\n",
       "      <td>NaN</td>\n",
       "      <td>NaN</td>\n",
       "      <td>NaN</td>\n",
       "      <td>NaN</td>\n",
       "      <td>NaN</td>\n",
       "      <td>NaN</td>\n",
       "      <td>2458167.576</td>\n",
       "      <td>1.14</td>\n",
       "      <td>2/18/2018 0:43:27</td>\n",
       "      <td>2/18/2018 1:50:00</td>\n",
       "      <td>2/18/2018 2:56:33</td>\n",
       "      <td>NaN</td>\n",
       "      <td>NaN</td>\n",
       "      <td>NaN</td>\n",
       "    </tr>\n",
       "  </tbody>\n",
       "</table>\n",
       "</div>"
      ],
      "text/plain": [
       "         EPIC       RA       DEC  T0 (-2454900)           T0  Period [d]  \\\n",
       "0  211413752b  8:54:50  11:50:54    2241.511433  2457141.511    2.151081   \n",
       "1         NaN      NaN       NaN            NaN          NaN         NaN   \n",
       "2         NaN      NaN       NaN            NaN          NaN         NaN   \n",
       "3         NaN      NaN       NaN            NaN          NaN         NaN   \n",
       "4         NaN      NaN       NaN            NaN          NaN         NaN   \n",
       "\n",
       "   Period unc.  Duration (hour)   MidpointJD  MidpointAirmass  \\\n",
       "0          NaN         2.218094  2458137.461             1.43   \n",
       "1          NaN              NaN  2458139.612             1.06   \n",
       "2          NaN              NaN  2458152.519             1.06   \n",
       "3          NaN              NaN  2458154.670             1.44   \n",
       "4          NaN              NaN  2458167.576             1.14   \n",
       "\n",
       "  IngressCalendar(UST) MidpointCalendar(UST) EgressCalendar(UST)  \\\n",
       "0   1/18/2018 21:57:27    1/18/2018 23:04:00   1/19/2018 0:10:33   \n",
       "1    1/21/2018 1:34:27     1/21/2018 2:41:00   1/21/2018 3:47:33   \n",
       "2    2/2/2018 23:20:27      2/3/2018 0:27:00    2/3/2018 1:33:33   \n",
       "3     2/5/2018 2:57:27      2/5/2018 4:04:00    2/5/2018 5:10:33   \n",
       "4    2/18/2018 0:43:27     2/18/2018 1:50:00   2/18/2018 2:56:33   \n",
       "\n",
       "                                    Notes  Kepmag     depth  \n",
       "0  1.63 Re (inner) around solar-type star  13.539  0.000872  \n",
       "1                                     NaN     NaN       NaN  \n",
       "2                                     NaN     NaN       NaN  \n",
       "3                                     NaN     NaN       NaN  \n",
       "4                                     NaN     NaN       NaN  "
      ]
     },
     "execution_count": 30,
     "metadata": {},
     "output_type": "execute_result"
    }
   ],
   "source": [
    "df1.head()"
   ]
  },
  {
   "cell_type": "code",
   "execution_count": 31,
   "metadata": {
    "ExecuteTime": {
     "end_time": "2017-12-26T06:07:29.880885Z",
     "start_time": "2017-12-26T06:07:29.865971Z"
    }
   },
   "outputs": [],
   "source": [
    "df2=pd.read_csv('Field 5 planet candidates (KESPRINT).csv',delimiter=',')"
   ]
  },
  {
   "cell_type": "code",
   "execution_count": 35,
   "metadata": {
    "ExecuteTime": {
     "end_time": "2017-12-26T06:07:55.190449Z",
     "start_time": "2017-12-26T06:07:55.130101Z"
    }
   },
   "outputs": [
    {
     "data": {
      "text/html": [
       "<div>\n",
       "<style>\n",
       "    .dataframe thead tr:only-child th {\n",
       "        text-align: right;\n",
       "    }\n",
       "\n",
       "    .dataframe thead th {\n",
       "        text-align: left;\n",
       "    }\n",
       "\n",
       "    .dataframe tbody tr th {\n",
       "        vertical-align: top;\n",
       "    }\n",
       "</style>\n",
       "<table border=\"1\" class=\"dataframe\">\n",
       "  <thead>\n",
       "    <tr style=\"text-align: right;\">\n",
       "      <th></th>\n",
       "      <th>EPIC</th>\n",
       "      <th>SNR</th>\n",
       "      <th>V mag</th>\n",
       "      <th>Teff</th>\n",
       "      <th>Rstar</th>\n",
       "      <th>Mstar</th>\n",
       "      <th>Source</th>\n",
       "      <th>RA</th>\n",
       "      <th>DEC</th>\n",
       "      <th>t0 (-2454900)</th>\n",
       "      <th>...</th>\n",
       "      <th>Comment</th>\n",
       "      <th>RAh</th>\n",
       "      <th>RAm</th>\n",
       "      <th>RAs</th>\n",
       "      <th>Unnamed: 29</th>\n",
       "      <th>Unnamed: 30</th>\n",
       "      <th>Decdeg</th>\n",
       "      <th>Decmin</th>\n",
       "      <th>Decsec</th>\n",
       "      <th>Unnamed: 34</th>\n",
       "    </tr>\n",
       "  </thead>\n",
       "  <tbody>\n",
       "    <tr>\n",
       "      <th>0</th>\n",
       "      <td>211309274</td>\n",
       "      <td>8.31</td>\n",
       "      <td>14.81</td>\n",
       "      <td>3551</td>\n",
       "      <td>0.50</td>\n",
       "      <td>0.51</td>\n",
       "      <td>Colors-Mamajek</td>\n",
       "      <td>130.223419</td>\n",
       "      <td>10.037269</td>\n",
       "      <td>2259.36888</td>\n",
       "      <td>...</td>\n",
       "      <td>really low SNR, GO proposal thinks its giant, ...</td>\n",
       "      <td>8.0</td>\n",
       "      <td>40.0</td>\n",
       "      <td>53.62</td>\n",
       "      <td>NaN</td>\n",
       "      <td>+</td>\n",
       "      <td>10.0</td>\n",
       "      <td>28.0</td>\n",
       "      <td>8.87</td>\n",
       "      <td>NaN</td>\n",
       "    </tr>\n",
       "    <tr>\n",
       "      <th>1</th>\n",
       "      <td>211331236b</td>\n",
       "      <td>14.79</td>\n",
       "      <td>14.655</td>\n",
       "      <td>3514</td>\n",
       "      <td>0.49</td>\n",
       "      <td>0.49</td>\n",
       "      <td>Colors-Mamajek</td>\n",
       "      <td>133.855682</td>\n",
       "      <td>10.469131</td>\n",
       "      <td>2240.190847</td>\n",
       "      <td>...</td>\n",
       "      <td>low SNR, GO proposal thinks its giant, but TES...</td>\n",
       "      <td>8.0</td>\n",
       "      <td>55.0</td>\n",
       "      <td>25.36</td>\n",
       "      <td>NaN</td>\n",
       "      <td>+</td>\n",
       "      <td>10.0</td>\n",
       "      <td>28.0</td>\n",
       "      <td>8.87</td>\n",
       "      <td>NaN</td>\n",
       "    </tr>\n",
       "    <tr>\n",
       "      <th>2</th>\n",
       "      <td>211331236c</td>\n",
       "      <td>7.81</td>\n",
       "      <td>14.655</td>\n",
       "      <td>3514</td>\n",
       "      <td>0.49</td>\n",
       "      <td>0.49</td>\n",
       "      <td>Colors-Mamajek</td>\n",
       "      <td>133.855682</td>\n",
       "      <td>10.469131</td>\n",
       "      <td>2243.575527</td>\n",
       "      <td>...</td>\n",
       "      <td>low SNR, GO proposal thinks its giant, but TES...</td>\n",
       "      <td>8.0</td>\n",
       "      <td>55.0</td>\n",
       "      <td>25.36</td>\n",
       "      <td>NaN</td>\n",
       "      <td>+</td>\n",
       "      <td>10.0</td>\n",
       "      <td>50.0</td>\n",
       "      <td>51.31</td>\n",
       "      <td>NaN</td>\n",
       "    </tr>\n",
       "  </tbody>\n",
       "</table>\n",
       "<p>3 rows × 35 columns</p>\n",
       "</div>"
      ],
      "text/plain": [
       "         EPIC    SNR   V mag  Teff  Rstar  Mstar          Source          RA  \\\n",
       "0   211309274   8.31   14.81  3551   0.50   0.51  Colors-Mamajek  130.223419   \n",
       "1  211331236b  14.79  14.655  3514   0.49   0.49  Colors-Mamajek  133.855682   \n",
       "2  211331236c   7.81  14.655  3514   0.49   0.49  Colors-Mamajek  133.855682   \n",
       "\n",
       "         DEC t0 (-2454900)     ...      \\\n",
       "0  10.037269    2259.36888     ...       \n",
       "1  10.469131   2240.190847     ...       \n",
       "2  10.469131   2243.575527     ...       \n",
       "\n",
       "                                             Comment  RAh   RAm    RAs  \\\n",
       "0  really low SNR, GO proposal thinks its giant, ...  8.0  40.0  53.62   \n",
       "1  low SNR, GO proposal thinks its giant, but TES...  8.0  55.0  25.36   \n",
       "2  low SNR, GO proposal thinks its giant, but TES...  8.0  55.0  25.36   \n",
       "\n",
       "   Unnamed: 29  Unnamed: 30 Decdeg  Decmin Decsec Unnamed: 34  \n",
       "0          NaN            +   10.0    28.0   8.87         NaN  \n",
       "1          NaN            +   10.0    28.0   8.87         NaN  \n",
       "2          NaN            +   10.0    50.0  51.31         NaN  \n",
       "\n",
       "[3 rows x 35 columns]"
      ]
     },
     "execution_count": 35,
     "metadata": {},
     "output_type": "execute_result"
    }
   ],
   "source": [
    "df2.head(3)"
   ]
  },
  {
   "cell_type": "code",
   "execution_count": 33,
   "metadata": {
    "ExecuteTime": {
     "end_time": "2017-12-26T06:07:37.891889Z",
     "start_time": "2017-12-26T06:07:37.875004Z"
    }
   },
   "outputs": [
    {
     "data": {
      "text/html": [
       "<div>\n",
       "<style>\n",
       "    .dataframe thead tr:only-child th {\n",
       "        text-align: right;\n",
       "    }\n",
       "\n",
       "    .dataframe thead th {\n",
       "        text-align: left;\n",
       "    }\n",
       "\n",
       "    .dataframe tbody tr th {\n",
       "        vertical-align: top;\n",
       "    }\n",
       "</style>\n",
       "<table border=\"1\" class=\"dataframe\">\n",
       "  <thead>\n",
       "    <tr style=\"text-align: right;\">\n",
       "      <th></th>\n",
       "      <th>EPIC</th>\n",
       "      <th>V mag</th>\n",
       "      <th>Teff</th>\n",
       "      <th>Rstar</th>\n",
       "      <th>Mstar</th>\n",
       "      <th>Comment</th>\n",
       "    </tr>\n",
       "  </thead>\n",
       "  <tbody>\n",
       "    <tr>\n",
       "      <th>0</th>\n",
       "      <td>211309274</td>\n",
       "      <td>14.81</td>\n",
       "      <td>3551</td>\n",
       "      <td>0.50</td>\n",
       "      <td>0.51</td>\n",
       "      <td>really low SNR, GO proposal thinks its giant, ...</td>\n",
       "    </tr>\n",
       "    <tr>\n",
       "      <th>1</th>\n",
       "      <td>211331236b</td>\n",
       "      <td>14.655</td>\n",
       "      <td>3514</td>\n",
       "      <td>0.49</td>\n",
       "      <td>0.49</td>\n",
       "      <td>low SNR, GO proposal thinks its giant, but TES...</td>\n",
       "    </tr>\n",
       "    <tr>\n",
       "      <th>2</th>\n",
       "      <td>211331236c</td>\n",
       "      <td>14.655</td>\n",
       "      <td>3514</td>\n",
       "      <td>0.49</td>\n",
       "      <td>0.49</td>\n",
       "      <td>low SNR, GO proposal thinks its giant, but TES...</td>\n",
       "    </tr>\n",
       "    <tr>\n",
       "      <th>3</th>\n",
       "      <td>211351816</td>\n",
       "      <td>12.61</td>\n",
       "      <td>4673</td>\n",
       "      <td>0.71</td>\n",
       "      <td>0.75</td>\n",
       "      <td>low SNR, possible odd/even difference, star is...</td>\n",
       "    </tr>\n",
       "    <tr>\n",
       "      <th>4</th>\n",
       "      <td>211354933</td>\n",
       "      <td>11.31</td>\n",
       "      <td>6637</td>\n",
       "      <td>2.07</td>\n",
       "      <td>2.67</td>\n",
       "      <td>bright star but the transit is low SNR, need b...</td>\n",
       "    </tr>\n",
       "  </tbody>\n",
       "</table>\n",
       "</div>"
      ],
      "text/plain": [
       "         EPIC   V mag  Teff  Rstar  Mstar  \\\n",
       "0   211309274   14.81  3551   0.50   0.51   \n",
       "1  211331236b  14.655  3514   0.49   0.49   \n",
       "2  211331236c  14.655  3514   0.49   0.49   \n",
       "3   211351816   12.61  4673   0.71   0.75   \n",
       "4   211354933   11.31  6637   2.07   2.67   \n",
       "\n",
       "                                             Comment  \n",
       "0  really low SNR, GO proposal thinks its giant, ...  \n",
       "1  low SNR, GO proposal thinks its giant, but TES...  \n",
       "2  low SNR, GO proposal thinks its giant, but TES...  \n",
       "3  low SNR, possible odd/even difference, star is...  \n",
       "4  bright star but the transit is low SNR, need b...  "
      ]
     },
     "execution_count": 33,
     "metadata": {},
     "output_type": "execute_result"
    }
   ],
   "source": [
    "cols2='EPIC,V mag,Teff,Rstar,Mstar,Comment'.split(',')\n",
    "df2[cols2].head()"
   ]
  },
  {
   "cell_type": "code",
   "execution_count": 34,
   "metadata": {
    "ExecuteTime": {
     "end_time": "2017-12-26T06:07:43.140236Z",
     "start_time": "2017-12-26T06:07:43.135555Z"
    }
   },
   "outputs": [
    {
     "data": {
      "text/plain": [
       "Index(['EPIC', 'RA', 'DEC', 'T0 (-2454900)', 'T0', 'Period [d]', 'Period unc.',\n",
       "       'Duration (hour)', 'MidpointJD', 'MidpointAirmass',\n",
       "       'IngressCalendar(UST)', 'MidpointCalendar(UST)', 'EgressCalendar(UST)',\n",
       "       'Notes', 'Kepmag', 'depth'],\n",
       "      dtype='object')"
      ]
     },
     "execution_count": 34,
     "metadata": {},
     "output_type": "execute_result"
    }
   ],
   "source": [
    "df1.columns"
   ]
  },
  {
   "cell_type": "raw",
   "metadata": {
    "ExecuteTime": {
     "end_time": "2017-12-26T06:08:17.620292Z",
     "start_time": "2017-12-26T06:08:17.488793Z"
    }
   },
   "source": [
    "pd.concat([df1,df2[cols2]])"
   ]
  },
  {
   "cell_type": "code",
   "execution_count": 38,
   "metadata": {
    "ExecuteTime": {
     "end_time": "2017-12-26T06:09:41.265398Z",
     "start_time": "2017-12-26T06:09:41.256883Z"
    }
   },
   "outputs": [],
   "source": [
    "df_final = pd.merge(df1, df2[cols2], on=['EPIC'])"
   ]
  },
  {
   "cell_type": "code",
   "execution_count": 39,
   "metadata": {
    "ExecuteTime": {
     "end_time": "2017-12-26T06:19:57.168237Z",
     "start_time": "2017-12-26T06:19:57.161668Z"
    },
    "collapsed": true
   },
   "outputs": [],
   "source": [
    "df_final.to_csv('test.csv')"
   ]
  },
  {
   "cell_type": "code",
   "execution_count": null,
   "metadata": {
    "collapsed": true
   },
   "outputs": [],
   "source": []
  }
 ],
 "metadata": {
  "kernelspec": {
   "display_name": "Python 3",
   "language": "python",
   "name": "python3"
  },
  "language_info": {
   "codemirror_mode": {
    "name": "ipython",
    "version": 3
   },
   "file_extension": ".py",
   "mimetype": "text/x-python",
   "name": "python",
   "nbconvert_exporter": "python",
   "pygments_lexer": "ipython3",
   "version": "3.6.1"
  }
 },
 "nbformat": 4,
 "nbformat_minor": 2
}
