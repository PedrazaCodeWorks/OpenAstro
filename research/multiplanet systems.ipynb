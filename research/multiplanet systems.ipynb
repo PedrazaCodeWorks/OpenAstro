{
 "cells": [
  {
   "cell_type": "code",
   "execution_count": 1,
   "metadata": {
    "ExecuteTime": {
     "end_time": "2017-11-23T03:23:46.979965Z",
     "start_time": "2017-11-23T03:23:46.856181Z"
    }
   },
   "outputs": [
    {
     "name": "stdout",
     "output_type": "stream",
     "text": [
      "Python 3.6.1 :: Continuum Analytics, Inc.\n",
      "conda environment: astroconda35\n"
     ]
    }
   ],
   "source": [
    "import os\n",
    "!python --version\n",
    "print('conda environment: {}'.format(os.environ['CONDA_DEFAULT_ENV']))"
   ]
  },
  {
   "cell_type": "code",
   "execution_count": 2,
   "metadata": {
    "ExecuteTime": {
     "end_time": "2017-11-23T03:23:47.399560Z",
     "start_time": "2017-11-23T03:23:47.393067Z"
    }
   },
   "outputs": [
    {
     "name": "stdout",
     "output_type": "stream",
     "text": [
      "Last edit on: 2017-11-23 12:23:47.395048\n"
     ]
    }
   ],
   "source": [
    "from datetime import datetime as dt\n",
    "print('Last edit on: {}'.format(dt.now()))"
   ]
  },
  {
   "cell_type": "code",
   "execution_count": 3,
   "metadata": {
    "ExecuteTime": {
     "end_time": "2017-11-23T03:23:55.542739Z",
     "start_time": "2017-11-23T03:23:55.008848Z"
    },
    "scrolled": true
   },
   "outputs": [
    {
     "data": {
      "text/html": [
       "<div>\n",
       "<style>\n",
       "    .dataframe thead tr:only-child th {\n",
       "        text-align: right;\n",
       "    }\n",
       "\n",
       "    .dataframe thead th {\n",
       "        text-align: left;\n",
       "    }\n",
       "\n",
       "    .dataframe tbody tr th {\n",
       "        vertical-align: top;\n",
       "    }\n",
       "</style>\n",
       "<table border=\"1\" class=\"dataframe\">\n",
       "  <thead>\n",
       "    <tr style=\"text-align: right;\">\n",
       "      <th></th>\n",
       "      <th>pl_hostname</th>\n",
       "      <th>pl_letter</th>\n",
       "      <th>pl_discmethod</th>\n",
       "      <th>pl_disc</th>\n",
       "      <th>pl_pnum</th>\n",
       "      <th>pl_orbper</th>\n",
       "      <th>pl_orbsmax</th>\n",
       "      <th>pl_orbeccen</th>\n",
       "      <th>pl_orbincl</th>\n",
       "      <th>pl_bmassj</th>\n",
       "      <th>...</th>\n",
       "      <th>pl_instrument.1</th>\n",
       "      <th>pl_telescope</th>\n",
       "      <th>rowupdate</th>\n",
       "      <th>st_nplc</th>\n",
       "      <th>pl_def_refname</th>\n",
       "      <th>pl_disc_refname</th>\n",
       "      <th>pl_pelink</th>\n",
       "      <th>st_j</th>\n",
       "      <th>st_h</th>\n",
       "      <th>st_k</th>\n",
       "    </tr>\n",
       "  </thead>\n",
       "  <tbody>\n",
       "    <tr>\n",
       "      <th>0</th>\n",
       "      <td>HD 142</td>\n",
       "      <td>b</td>\n",
       "      <td>Radial Velocity</td>\n",
       "      <td>2001</td>\n",
       "      <td>2</td>\n",
       "      <td>349.7</td>\n",
       "      <td>1.02</td>\n",
       "      <td>0.170</td>\n",
       "      <td>NaN</td>\n",
       "      <td>1.25</td>\n",
       "      <td>...</td>\n",
       "      <td>UCLES Spectrograph</td>\n",
       "      <td>3.9 m Anglo-Australian Telescope</td>\n",
       "      <td>2014-08-21</td>\n",
       "      <td>0</td>\n",
       "      <td>Wittenmyer et al. 2012</td>\n",
       "      <td>Tinney et al. 2002</td>\n",
       "      <td>http://exoplanet.eu/catalog/hd_142_b/</td>\n",
       "      <td>4.690</td>\n",
       "      <td>4.646</td>\n",
       "      <td>4.474</td>\n",
       "    </tr>\n",
       "    <tr>\n",
       "      <th>1</th>\n",
       "      <td>HD 142</td>\n",
       "      <td>c</td>\n",
       "      <td>Radial Velocity</td>\n",
       "      <td>2012</td>\n",
       "      <td>2</td>\n",
       "      <td>6005.0</td>\n",
       "      <td>6.80</td>\n",
       "      <td>0.210</td>\n",
       "      <td>NaN</td>\n",
       "      <td>5.30</td>\n",
       "      <td>...</td>\n",
       "      <td>UCLES Spectrograph</td>\n",
       "      <td>3.9 m Anglo-Australian Telescope</td>\n",
       "      <td>2014-08-21</td>\n",
       "      <td>0</td>\n",
       "      <td>Wittenmyer et al. 2012</td>\n",
       "      <td>Wittenmyer et al. 2012</td>\n",
       "      <td>http://exoplanet.eu/catalog/hd_142_c/</td>\n",
       "      <td>4.690</td>\n",
       "      <td>4.646</td>\n",
       "      <td>4.474</td>\n",
       "    </tr>\n",
       "    <tr>\n",
       "      <th>2</th>\n",
       "      <td>HD 1502</td>\n",
       "      <td>b</td>\n",
       "      <td>Radial Velocity</td>\n",
       "      <td>2011</td>\n",
       "      <td>1</td>\n",
       "      <td>431.8</td>\n",
       "      <td>1.31</td>\n",
       "      <td>0.101</td>\n",
       "      <td>NaN</td>\n",
       "      <td>3.10</td>\n",
       "      <td>...</td>\n",
       "      <td>HIRES Spectrometer</td>\n",
       "      <td>10 m Keck I Telescope</td>\n",
       "      <td>2014-05-14</td>\n",
       "      <td>0</td>\n",
       "      <td>Johnson et al. 2011</td>\n",
       "      <td>Johnson et al. 2011</td>\n",
       "      <td>http://exoplanet.eu/catalog/hd_1502_b/</td>\n",
       "      <td>6.681</td>\n",
       "      <td>6.234</td>\n",
       "      <td>6.120</td>\n",
       "    </tr>\n",
       "  </tbody>\n",
       "</table>\n",
       "<p>3 rows × 56 columns</p>\n",
       "</div>"
      ],
      "text/plain": [
       "  pl_hostname pl_letter    pl_discmethod  pl_disc  pl_pnum  pl_orbper  \\\n",
       "0      HD 142         b  Radial Velocity     2001        2      349.7   \n",
       "1      HD 142         c  Radial Velocity     2012        2     6005.0   \n",
       "2     HD 1502         b  Radial Velocity     2011        1      431.8   \n",
       "\n",
       "   pl_orbsmax  pl_orbeccen  pl_orbincl  pl_bmassj  ...       pl_instrument.1  \\\n",
       "0        1.02        0.170         NaN       1.25  ...    UCLES Spectrograph   \n",
       "1        6.80        0.210         NaN       5.30  ...    UCLES Spectrograph   \n",
       "2        1.31        0.101         NaN       3.10  ...    HIRES Spectrometer   \n",
       "\n",
       "                       pl_telescope   rowupdate  st_nplc  \\\n",
       "0  3.9 m Anglo-Australian Telescope  2014-08-21        0   \n",
       "1  3.9 m Anglo-Australian Telescope  2014-08-21        0   \n",
       "2             10 m Keck I Telescope  2014-05-14        0   \n",
       "\n",
       "           pl_def_refname         pl_disc_refname  \\\n",
       "0  Wittenmyer et al. 2012      Tinney et al. 2002   \n",
       "1  Wittenmyer et al. 2012  Wittenmyer et al. 2012   \n",
       "2     Johnson et al. 2011     Johnson et al. 2011   \n",
       "\n",
       "                                pl_pelink   st_j   st_h   st_k  \n",
       "0   http://exoplanet.eu/catalog/hd_142_b/  4.690  4.646  4.474  \n",
       "1   http://exoplanet.eu/catalog/hd_142_c/  4.690  4.646  4.474  \n",
       "2  http://exoplanet.eu/catalog/hd_1502_b/  6.681  6.234  6.120  \n",
       "\n",
       "[3 rows x 56 columns]"
      ]
     },
     "execution_count": 3,
     "metadata": {},
     "output_type": "execute_result"
    }
   ],
   "source": [
    "# Python 2 and 3 compatible\n",
    "try:\n",
    "    from urllib.request import urlopen, Request\n",
    "    from urllib.error import HTTPError\n",
    "except ImportError:\n",
    "    from urllib2 import urlopen, Request, HTTPError\n",
    "import time\n",
    "import warnings\n",
    "warnings.filterwarnings('ignore')\n",
    "import pandas as pd\n",
    "\n",
    "url = 'http://exoplanetarchive.ipac.caltech.edu/cgi-bin/nstedAPI/nph-nstedAPI?table=exoplanets'\n",
    "pl_params = \"pl_hostname,pl_letter,pl_discmethod,pl_disc,pl_pnum,pl_orbper,pl_orbsmax,pl_orbeccen,pl_orbincl,pl_bmassj,pl_radj,pl_radjerr1,pl_radjerr2,pl_dens,pl_trandep,pl_instrument,pl_insol,pl_eqt,\"\n",
    "pl_err = 'pl_bmassjerr1,pl_bmassjerr2,pl_bmassjerr1,pl_bmassjerr2,pl_orbpererr1,pl_orbpererr2,'\n",
    "st_params = \"st_optmag,ra,dec,st_dist,st_teff,st_mass,st_rad,st_plx,gaia_plx,gaia_dist,st_pm,gaia_pm,st_radv,st_spstr,st_logg,st_lum,st_dens,st_metfe,st_age,st_acts,st_bmvj,st_jmh2,\"\n",
    "others = 'pl_instrument,pl_telescope,rowupdate,st_nplc,pl_def_refname,pl_disc_refname,pl_pelink,st_j,st_h,st_k,pl_ttvflag,'\n",
    "full_url= url+'&select='+ pl_params + pl_err + st_params+others\n",
    "\n",
    "outpath_extended = 'confirmed_planets_extended_{}.csv'.format(time.strftime(\"%Y%m%d\")) #include date of download\n",
    "fname='data/'+outpath_extended\n",
    "\n",
    "if os.path.isfile(fname):\n",
    "    df = pd.read_csv(fname)\n",
    "else:\n",
    "    print(\"Downloading data from URL:\\n{}\".format(url))\n",
    "    response = urlopen(full_url)\n",
    "    html = response.read()\n",
    "    \n",
    "    with open(fname,'wb') as f:\n",
    "         f.write(html)\n",
    "    print(\"Saved file as {}\".format(outpath_extended))\n",
    "\n",
    "df = pd.read_csv(fname)\n",
    "df.head(3)"
   ]
  },
  {
   "cell_type": "code",
   "execution_count": 4,
   "metadata": {
    "ExecuteTime": {
     "end_time": "2017-11-23T03:23:55.646364Z",
     "start_time": "2017-11-23T03:23:55.631575Z"
    },
    "scrolled": true
   },
   "outputs": [
    {
     "name": "stdout",
     "output_type": "stream",
     "text": [
      "Number of Detected Planets per Technique:\n",
      "\n"
     ]
    },
    {
     "data": {
      "text/plain": [
       "Transit                          2771\n",
       "Radial Velocity                   654\n",
       "Microlensing                       51\n",
       "Imaging                            44\n",
       "Transit Timing Variations          15\n",
       "Eclipse Timing Variations           9\n",
       "Orbital Brightness Modulation       6\n",
       "Pulsar Timing                       5\n",
       "Pulsation Timing Variations         2\n",
       "Astrometry                          1\n",
       "Name: pl_discmethod, dtype: int64"
      ]
     },
     "execution_count": 4,
     "metadata": {},
     "output_type": "execute_result"
    }
   ],
   "source": [
    "print('Number of Detected Planets per Technique:\\n')\n",
    "df['pl_discmethod'].value_counts()"
   ]
  },
  {
   "cell_type": "markdown",
   "metadata": {},
   "source": [
    "## Questions\n",
    "### How many have stars have multiple planets detected?"
   ]
  },
  {
   "cell_type": "code",
   "execution_count": 5,
   "metadata": {
    "ExecuteTime": {
     "end_time": "2017-11-23T03:23:59.191690Z",
     "start_time": "2017-11-23T03:23:59.179284Z"
    }
   },
   "outputs": [
    {
     "data": {
      "text/plain": [
       "TRAPPIST-1    7\n",
       "KOI-351       7\n",
       "Kepler-11     6\n",
       "HD 219134     6\n",
       "HD 34445      6\n",
       "Name: pl_hostname, dtype: int64"
      ]
     },
     "execution_count": 5,
     "metadata": {},
     "output_type": "execute_result"
    }
   ],
   "source": [
    "df['pl_hostname'].value_counts().head()"
   ]
  },
  {
   "cell_type": "raw",
   "metadata": {
    "ExecuteTime": {
     "end_time": "2017-11-21T14:12:25.798176Z",
     "start_time": "2017-11-21T14:12:24.916346Z"
    }
   },
   "source": [
    "for group_name,group in df.groupby(by='pl_hostname'):\n",
    "    print(group_name)"
   ]
  },
  {
   "cell_type": "raw",
   "metadata": {
    "ExecuteTime": {
     "end_time": "2017-11-21T14:20:11.773963Z",
     "start_time": "2017-11-21T14:20:06.087896Z"
    }
   },
   "source": [
    "for name in df['pl_hostname'].value_counts().index.tolist():\n",
    "    if df.query('pl_hostname == @name')['pl_pnum'].sum() > 1:\n",
    "        print(name)"
   ]
  },
  {
   "cell_type": "markdown",
   "metadata": {},
   "source": [
    "## Multiplanet systems with TTV flag"
   ]
  },
  {
   "cell_type": "code",
   "execution_count": 28,
   "metadata": {
    "ExecuteTime": {
     "end_time": "2017-11-23T03:38:01.601100Z",
     "start_time": "2017-11-23T03:38:01.572617Z"
    }
   },
   "outputs": [
    {
     "data": {
      "text/html": [
       "<div>\n",
       "<style>\n",
       "    .dataframe thead tr:only-child th {\n",
       "        text-align: right;\n",
       "    }\n",
       "\n",
       "    .dataframe thead th {\n",
       "        text-align: left;\n",
       "    }\n",
       "\n",
       "    .dataframe tbody tr th {\n",
       "        vertical-align: top;\n",
       "    }\n",
       "</style>\n",
       "<table border=\"1\" class=\"dataframe\">\n",
       "  <thead>\n",
       "    <tr style=\"text-align: right;\">\n",
       "      <th></th>\n",
       "      <th>pl_hostname</th>\n",
       "      <th>pl_letter</th>\n",
       "      <th>pl_pnum</th>\n",
       "      <th>pl_orbsmax</th>\n",
       "      <th>pl_radj</th>\n",
       "      <th>st_optmag</th>\n",
       "    </tr>\n",
       "  </thead>\n",
       "  <tbody>\n",
       "    <tr>\n",
       "      <th>449</th>\n",
       "      <td>KOI-94</td>\n",
       "      <td>e</td>\n",
       "      <td>4</td>\n",
       "      <td>0.3046</td>\n",
       "      <td>0.585</td>\n",
       "      <td>12.205</td>\n",
       "    </tr>\n",
       "    <tr>\n",
       "      <th>1532</th>\n",
       "      <td>K2-19</td>\n",
       "      <td>b</td>\n",
       "      <td>3</td>\n",
       "      <td>0.0740</td>\n",
       "      <td>0.691</td>\n",
       "      <td>13.000</td>\n",
       "    </tr>\n",
       "    <tr>\n",
       "      <th>1533</th>\n",
       "      <td>K2-19</td>\n",
       "      <td>c</td>\n",
       "      <td>3</td>\n",
       "      <td>0.0971</td>\n",
       "      <td>0.434</td>\n",
       "      <td>13.000</td>\n",
       "    </tr>\n",
       "    <tr>\n",
       "      <th>1663</th>\n",
       "      <td>KOI-94</td>\n",
       "      <td>d</td>\n",
       "      <td>4</td>\n",
       "      <td>0.1684</td>\n",
       "      <td>1.005</td>\n",
       "      <td>12.205</td>\n",
       "    </tr>\n",
       "  </tbody>\n",
       "</table>\n",
       "</div>"
      ],
      "text/plain": [
       "     pl_hostname pl_letter  pl_pnum  pl_orbsmax  pl_radj  st_optmag\n",
       "449       KOI-94         e        4      0.3046    0.585     12.205\n",
       "1532       K2-19         b        3      0.0740    0.691     13.000\n",
       "1533       K2-19         c        3      0.0971    0.434     13.000\n",
       "1663      KOI-94         d        4      0.1684    1.005     12.205"
      ]
     },
     "execution_count": 28,
     "metadata": {},
     "output_type": "execute_result"
    }
   ],
   "source": [
    "cols = 'pl_hostname,pl_letter,pl_pnum,pl_orbsmax,pl_radj,st_optmag'.split(',')\n",
    "df.query('pl_radj > 0.4 and pl_orbsmax < 0.5 and pl_pnum>2')[cols].query('pl_hostname==\"K2-19\" or pl_hostname==\"KOI-94\"')"
   ]
  },
  {
   "cell_type": "code",
   "execution_count": 62,
   "metadata": {
    "ExecuteTime": {
     "end_time": "2017-11-21T14:47:10.269066Z",
     "start_time": "2017-11-21T14:47:10.257931Z"
    },
    "collapsed": true
   },
   "outputs": [],
   "source": [
    "ttv = df.query('pl_pnum > 1 and pl_discmethod==\"Transit\" and pl_ttvflag==1') #.to_csv('multiplanetary_systems.csv')"
   ]
  },
  {
   "cell_type": "raw",
   "metadata": {
    "ExecuteTime": {
     "end_time": "2017-11-21T14:47:29.277299Z",
     "start_time": "2017-11-21T14:47:29.264205Z"
    }
   },
   "source": [
    "ttv.query('st_optmag < 15 and pl_bmassj!=pl_bmassj')['pl_hostname'].value_counts()"
   ]
  },
  {
   "cell_type": "markdown",
   "metadata": {},
   "source": [
    "### Planet in mean motion resonance\n",
    "\n",
    "Few multiplanetary systems are known to be in mean motion resonance. The longest system in near-resonance is TRAPPIST-1 (Gillon et al. 2017). Another is Kepler 223 which Mills et al. (2016) propsed to be a by-product of inward migration. How many system have mean motion resonances and are these systems' architectures similar or different? Does these systems have inner planet (or outer planet) that might indicate migration?    "
   ]
  },
  {
   "cell_type": "code",
   "execution_count": 20,
   "metadata": {
    "ExecuteTime": {
     "end_time": "2017-10-24T11:09:19.706781Z",
     "start_time": "2017-10-24T11:09:19.694798Z"
    }
   },
   "outputs": [
    {
     "data": {
      "text/plain": [
       "1    2052\n",
       "2     768\n",
       "3     378\n",
       "4     196\n",
       "5     100\n",
       "6      24\n",
       "7      14\n",
       "Name: pl_pnum, dtype: int64"
      ]
     },
     "execution_count": 20,
     "metadata": {},
     "output_type": "execute_result"
    }
   ],
   "source": [
    "#non-unique names of multiplanet systems; e.g. HR8799 has 4 entries for b,c,d,e\n",
    "df['pl_pnum'].value_counts()"
   ]
  },
  {
   "cell_type": "code",
   "execution_count": 21,
   "metadata": {
    "ExecuteTime": {
     "end_time": "2017-10-24T11:10:14.615182Z",
     "start_time": "2017-10-24T11:10:14.589509Z"
    }
   },
   "outputs": [
    {
     "data": {
      "text/plain": [
       "KOI-351       7\n",
       "TRAPPIST-1    7\n",
       "Kepler-20     6\n",
       "HD 219134     6\n",
       "Kepler-11     6\n",
       "Name: pl_hostname, dtype: int64"
      ]
     },
     "execution_count": 21,
     "metadata": {},
     "output_type": "execute_result"
    }
   ],
   "source": [
    "#unique names of multiplanet systems\n",
    "multiple_system = df['pl_hostname'].value_counts()#.index\n",
    "\n",
    "multiple_system[:5]"
   ]
  },
  {
   "cell_type": "markdown",
   "metadata": {},
   "source": [
    "## Filter using the ff criteria\n",
    "\n",
    "* distance\n",
    "* optical magnitude\n",
    "* TTV presence\n",
    "* etc..."
   ]
  },
  {
   "cell_type": "code",
   "execution_count": 22,
   "metadata": {
    "ExecuteTime": {
     "end_time": "2017-10-24T11:10:21.274629Z",
     "start_time": "2017-10-24T11:10:20.105061Z"
    }
   },
   "outputs": [
    {
     "data": {
      "image/png": "[encoded data removed]",
      "text/plain": [
       "<matplotlib.figure.Figure at 0x7f59a1b04b70>"
      ]
     },
     "metadata": {},
     "output_type": "display_data"
    }
   ],
   "source": [
    "import matplotlib.pyplot as plt\n",
    "%matplotlib inline\n",
    "#multiple_system.plot(bins=6,kind='hist', normed=True)\n",
    "plt.hist(multiple_system, bins=7, align='left');"
   ]
  },
  {
   "cell_type": "markdown",
   "metadata": {},
   "source": [
    "### Sample\n",
    "\n",
    "see also KOI-351"
   ]
  },
  {
   "cell_type": "code",
   "execution_count": 23,
   "metadata": {
    "ExecuteTime": {
     "end_time": "2017-10-24T11:11:01.653392Z",
     "start_time": "2017-10-24T11:11:01.539942Z"
    }
   },
   "outputs": [
    {
     "name": "stdout",
     "output_type": "stream",
     "text": [
      "ratio of neighbor orbits:\n",
      "\n",
      "1.6029; 7218964347744057/4503599627370496\n",
      "1.6721; 1882654082050065/1125899906842624\n",
      "1.5062; 3391712268725073/2251799813685248\n",
      "1.5094; 3398841209921911/2251799813685248\n",
      "1.3417; 3021319061515599/2251799813685248\n",
      "1.5192; 1710504831377431/1125899906842624\n"
     ]
    }
   ],
   "source": [
    "from fractions import Fraction as F\n",
    "\n",
    "#must be sorted accdg to planet letter\n",
    "var=df.query('pl_hostname == \"TRAPPIST-1\"').sort_values('pl_letter')\n",
    "a=var.pl_orbper.values\n",
    "err=max(var.pl_orbpererr1.values)\n",
    "#count sig fig\n",
    "SF = len(str(err)) -1 \n",
    "print('ratio of neighbor orbits:\\n')\n",
    "for i in range(len(a)-1):\n",
    "    ans=a[i+1]/a[i]\n",
    "    print('{0:.4f}; {1}'.format(ans, F(ans))) #SF=.4"
   ]
  },
  {
   "cell_type": "markdown",
   "metadata": {},
   "source": [
    "Kepler-223--known in near-resonance"
   ]
  },
  {
   "cell_type": "code",
   "execution_count": 24,
   "metadata": {
    "ExecuteTime": {
     "end_time": "2017-10-24T11:11:14.946186Z",
     "start_time": "2017-10-24T11:11:14.858368Z"
    }
   },
   "outputs": [
    {
     "name": "stdout",
     "output_type": "stream",
     "text": [
      "1.33328638809\n",
      "1.50205471661\n",
      "1.33383484271\n"
     ]
    }
   ],
   "source": [
    "a=df.query('pl_hostname == \"Kepler-223\"').sort_values('pl_letter').pl_orbper.values\n",
    "for i in range(len(a)-1):\n",
    "    print(a[i+1]/a[i])"
   ]
  }
 ],
 "metadata": {
  "anaconda-cloud": {},
  "kernelspec": {
   "display_name": "Python 3",
   "language": "python",
   "name": "python3"
  },
  "language_info": {
   "codemirror_mode": {
    "name": "ipython",
    "version": 3
   },
   "file_extension": ".py",
   "mimetype": "text/x-python",
   "name": "python",
   "nbconvert_exporter": "python",
   "pygments_lexer": "ipython3",
   "version": "3.6.1"
  }
 },
 "nbformat": 4,
 "nbformat_minor": 1
}
