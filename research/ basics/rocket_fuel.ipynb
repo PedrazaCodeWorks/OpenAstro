{
 "cells": [
  {
   "cell_type": "code",
   "execution_count": 48,
   "metadata": {
    "collapsed": true
   },
   "outputs": [],
   "source": [
    "import math as m\n",
    "import numpy as np\n",
    "import matplotlib.pyplot as plt\n",
    "\n",
    "Isp = 282 #specific impulse\n",
    "mr = 420000 #rocket mass without fuel\n",
    "rE = 6371000 # earth radius\n",
    "a = 400000 #altitude\n",
    "G = 6.67408e-11#grav constant\n",
    "ME = 5.972e24 #earth mass\n",
    "w = 7.29210e-5 #earth angular velocity\n",
    "g0 = 9.8 #acceleration due to gravity"
   ]
  },
  {
   "cell_type": "code",
   "execution_count": 74,
   "metadata": {
    "collapsed": false
   },
   "outputs": [],
   "source": [
    "def fuel(lat):\n",
    "    #radial velocity, vr\n",
    "    vr = np.sqrt((G*ME)/(rE + a))\n",
    "    print(vr)\n",
    "    #tangential velocity, vt\n",
    "    vt = rE*w*np.cos(np.radians(lat))\n",
    "    print(vt)\n",
    "    fraction = (vr - vt)/(Isp*g0)\n",
    "    print(fraction)\n",
    "    return mr*(np.exp(fraction)-1)"
   ]
  },
  {
   "cell_type": "markdown",
   "metadata": {},
   "source": [
    "Test first if function `fuel` works"
   ]
  },
  {
   "cell_type": "code",
   "execution_count": 70,
   "metadata": {
    "collapsed": false,
    "scrolled": true
   },
   "outputs": [
    {
     "data": {
      "text/plain": [
       "5280840.3434893293"
      ]
     },
     "execution_count": 70,
     "metadata": {},
     "output_type": "execute_result"
    }
   ],
   "source": [
    "ph_lat = 13 #deg\n",
    "\n",
    "fuel(lat_sample)"
   ]
  },
  {
   "cell_type": "markdown",
   "metadata": {},
   "source": [
    "Then, clean your function and proceed to plotting."
   ]
  },
  {
   "cell_type": "code",
   "execution_count": 75,
   "metadata": {
    "collapsed": true
   },
   "outputs": [],
   "source": [
    "def fuel(lat):\n",
    "    #radial velocity, vr\n",
    "    vr = np.sqrt((G*ME)/(rE + a))\n",
    "    #tangential velocity, vt\n",
    "    vt = rE*w*np.cos(np.radians(lat))\n",
    "    fraction = (vr - vt)/(Isp*g0)\n",
    "    return mr*(np.exp(fraction)-1)"
   ]
  },
  {
   "cell_type": "code",
   "execution_count": 76,
   "metadata": {
    "collapsed": false
   },
   "outputs": [
    {
     "data": {
      "image/png": "[encoded data removed]",
      "text/plain": [
       "<matplotlib.figure.Figure at 0x7f04583fcd50>"
      ]
     },
     "metadata": {},
     "output_type": "display_data"
    }
   ],
   "source": [
    "import numpy as np\n",
    "import matplotlib.pyplot as plt\n",
    "\n",
    "lat = np.arange(-90,91,1)\n",
    "#plot all\n",
    "plt.plot(lat, fuel(lat)/1e3, 'k-')\n",
    "#plot PH\n",
    "ph_lat = 13 #deg\n",
    "plt.plot(ph_lat, fuel(ph_lat)/1e3, 'ro')\n",
    "plt.xlabel('Latitude (degree)')\n",
    "plt.ylabel('Fuel (in Thousand of kg)')\n",
    "\n",
    "plt.show()"
   ]
  },
  {
   "cell_type": "code",
   "execution_count": null,
   "metadata": {
    "collapsed": true
   },
   "outputs": [],
   "source": []
  }
 ],
 "metadata": {
  "kernelspec": {
   "display_name": "Python 2 (SageMath)",
   "language": "python",
   "name": "python2"
  },
  "language_info": {
   "codemirror_mode": {
    "name": "ipython",
    "version": 2
   },
   "file_extension": ".py",
   "mimetype": "text/x-python",
   "name": "python",
   "nbconvert_exporter": "python",
   "pygments_lexer": "ipython2",
   "version": "2.7.13"
  }
 },
 "nbformat": 4,
 "nbformat_minor": 1
}
