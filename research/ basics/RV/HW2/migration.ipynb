{
 "cells": [
  {
   "cell_type": "code",
   "execution_count": 1,
   "metadata": {
    "collapsed": false
   },
   "outputs": [
    {
     "name": "stdout",
     "output_type": "stream",
     "text": [
      "Populating the interactive namespace from numpy and matplotlib\n"
     ]
    },
    {
     "name": "stderr",
     "output_type": "stream",
     "text": [
      "/home/dl/miniconda2/envs/transit/lib/python3.5/site-packages/IPython/core/magics/pylab.py:161: UserWarning: pylab import has clobbered these variables: ['plt']\n",
      "`%matplotlib` prevents importing * from pylab and numpy\n",
      "  \"\\n`%matplotlib` prevents importing * from pylab and numpy\"\n"
     ]
    }
   ],
   "source": [
    "import numpy as np\n",
    "import pylab as plt\n",
    "%pylab inline\n",
    "\n",
    "M_sun=1.989E30\n",
    "M_E=5.972E24\n",
    "M_Jup=1.898E27     #kg\n",
    "r_E=149.60E9       #meters\n",
    "r_Jup= r_E * 5.2   #5.2 AU in meters\n",
    "P_E= 365           #days\n",
    "P_Jup= P_E*12   \n",
    "i=30.0\n",
    "e=0.05"
   ]
  },
  {
   "cell_type": "code",
   "execution_count": 2,
   "metadata": {
    "collapsed": false,
    "scrolled": false
   },
   "outputs": [],
   "source": [
    "P_p = np.linspace(0,10000,10) #days\n",
    "Mass_p = np.linspace(0.01,10,10) #M_Jup\n",
    "\n",
    "def K_RV(P_p, M_p,inc,M_star,ecc):\n",
    "    K = 203.*(P_p**(-1./3.))*(((M_p/M_Jup)*np.sin(inc))/(((M_star/M_sun)+9.548E-4*(M_p/M_Jup))**(2./3.)))/(np.sqrt(1-ecc**2))\n",
    "    return abs(K)\n",
    "\n",
    "# RV=[]\n",
    "# for j in range(len(P_p)):\n",
    "#     RV_i = K_RV(P_p[j], M_Jup, i, M_sun, e)\n",
    "#     RV.append(RV_i)"
   ]
  },
  {
   "cell_type": "code",
   "execution_count": 3,
   "metadata": {
    "collapsed": false,
    "scrolled": true
   },
   "outputs": [
    {
     "data": {
      "text/plain": [
       "True"
      ]
     },
     "execution_count": 3,
     "metadata": {},
     "output_type": "execute_result"
    }
   ],
   "source": [
    "range(len(P_p))==range(len(Mass_p))"
   ]
  },
  {
   "cell_type": "code",
   "execution_count": 11,
   "metadata": {
    "collapsed": true
   },
   "outputs": [
    {
     "data": {
      "text/plain": [
       "{9: [inf,\n",
       "  inf,\n",
       "  inf,\n",
       "  inf,\n",
       "  inf,\n",
       "  inf,\n",
       "  inf,\n",
       "  inf,\n",
       "  inf,\n",
       "  inf,\n",
       "  1.0215549349463357e-28,\n",
       "  1.144141527139896e-26,\n",
       "  2.278067504930328e-26,\n",
       "  3.411993482720761e-26,\n",
       "  4.5459194605111938e-26,\n",
       "  5.6798454383016266e-26,\n",
       "  6.8137714160920583e-26,\n",
       "  7.947697393882491e-26,\n",
       "  9.0816233716729238e-26,\n",
       "  1.0215549349463355e-25,\n",
       "  8.1080868918855943e-29,\n",
       "  9.0810573189118652e-27,\n",
       "  1.8081033768904871e-26,\n",
       "  2.7081010218897883e-26,\n",
       "  3.6080986668890891e-26,\n",
       "  4.5080963118883906e-26,\n",
       "  5.4080939568876909e-26,\n",
       "  6.3080916018869923e-26,\n",
       "  7.2080892468862926e-26,\n",
       "  8.1080868918855929e-26,\n",
       "  7.0830663151357121e-29,\n",
       "  7.933034272951997e-27,\n",
       "  1.5795237882752634e-26,\n",
       "  2.3657441492553275e-26,\n",
       "  3.1519645102353913e-26,\n",
       "  3.9381848712154554e-26,\n",
       "  4.7244052321955183e-26,\n",
       "  5.510625593175583e-26,\n",
       "  6.2968459541556471e-26,\n",
       "  7.08306631513571e-26,\n",
       "  6.4353928308143809e-29,\n",
       "  7.2076399705121066e-27,\n",
       "  1.4350926012716067e-26,\n",
       "  2.1494212054920031e-26,\n",
       "  2.8637498097123996e-26,\n",
       "  3.5780784139327958e-26,\n",
       "  4.2924070181531908e-26,\n",
       "  5.0067356223735881e-26,\n",
       "  5.7210642265939848e-26,\n",
       "  6.4353928308143804e-26,\n",
       "  5.974089500683952e-29,\n",
       "  6.6909802407660266e-27,\n",
       "  1.3322219586525209e-26,\n",
       "  1.9953458932284398e-26,\n",
       "  2.658469827804359e-26,\n",
       "  3.3215937623802777e-26,\n",
       "  3.9847176969561952e-26,\n",
       "  4.6478416315321144e-26,\n",
       "  5.3109655661080319e-26,\n",
       "  5.9740895006839517e-26,\n",
       "  5.621833459903473e-29,\n",
       "  6.2964534750918902e-27,\n",
       "  1.2536688615584741e-26,\n",
       "  1.8776923756077597e-26,\n",
       "  2.5017158896570453e-26,\n",
       "  3.1257394037063312e-26,\n",
       "  3.7497629177556154e-26,\n",
       "  4.3737864318049019e-26,\n",
       "  4.9978099458541866e-26,\n",
       "  5.6218334599034714e-26,\n",
       "  5.3402597236446746e-29,\n",
       "  5.9810908904820352e-27,\n",
       "  1.1908779183727621e-26,\n",
       "  1.783646747697321e-26,\n",
       "  2.3764155770218797e-26,\n",
       "  2.969184406346439e-26,\n",
       "  3.5619532356709966e-26,\n",
       "  4.154722064995556e-26,\n",
       "  4.7474908943201141e-26,\n",
       "  5.3402597236446729e-26,\n",
       "  5.1077746747316787e-29,\n",
       "  5.7207076356994802e-27,\n",
       "  1.139033752465164e-26,\n",
       "  1.7059967413603805e-26,\n",
       "  2.2729597302555969e-26,\n",
       "  2.8399227191508133e-26,\n",
       "  3.4068857080460291e-26,\n",
       "  3.9738486969412455e-26,\n",
       "  4.5408116858364619e-26,\n",
       "  5.1077746747316777e-26,\n",
       "  4.9111238865725507e-29,\n",
       "  5.5004587529612572e-27,\n",
       "  1.0951806267056785e-26,\n",
       "  1.6403153781152316e-26,\n",
       "  2.1854501295247849e-26,\n",
       "  2.7305848809343379e-26,\n",
       "  3.2757196323438906e-26,\n",
       "  3.8208543837534439e-26,\n",
       "  4.3659891351629967e-26,\n",
       "  4.91112388657255e-26]}"
      ]
     },
     "execution_count": 11,
     "metadata": {},
     "output_type": "execute_result"
    }
   ],
   "source": [
    "RV_j"
   ]
  },
  {
   "cell_type": "code",
   "execution_count": 27,
   "metadata": {
    "collapsed": false
   },
   "outputs": [
    {
     "name": "stdout",
     "output_type": "stream",
     "text": [
      "{1: [inf]}\n",
      "{2: [inf, 1.0215549349463355e-25]}\n",
      "{3: [inf, 1.0215549349463355e-25, 8.1080868918855929e-26]}\n",
      "{4: [inf, 1.0215549349463355e-25, 8.1080868918855929e-26, 7.08306631513571e-26]}\n",
      "{5: [inf, 1.0215549349463355e-25, 8.1080868918855929e-26, 7.08306631513571e-26, 6.4353928308143804e-26]}\n",
      "{6: [inf, 1.0215549349463355e-25, 8.1080868918855929e-26, 7.08306631513571e-26, 6.4353928308143804e-26, 5.9740895006839517e-26]}\n",
      "{7: [inf, 1.0215549349463355e-25, 8.1080868918855929e-26, 7.08306631513571e-26, 6.4353928308143804e-26, 5.9740895006839517e-26, 5.6218334599034714e-26]}\n",
      "{8: [inf, 1.0215549349463355e-25, 8.1080868918855929e-26, 7.08306631513571e-26, 6.4353928308143804e-26, 5.9740895006839517e-26, 5.6218334599034714e-26, 5.3402597236446729e-26]}\n",
      "{9: [inf, 1.0215549349463355e-25, 8.1080868918855929e-26, 7.08306631513571e-26, 6.4353928308143804e-26, 5.9740895006839517e-26, 5.6218334599034714e-26, 5.3402597236446729e-26, 5.1077746747316777e-26]}\n",
      "{10: [inf, 1.0215549349463355e-25, 8.1080868918855929e-26, 7.08306631513571e-26, 6.4353928308143804e-26, 5.9740895006839517e-26, 5.6218334599034714e-26, 5.3402597236446729e-26, 5.1077746747316777e-26, 4.91112388657255e-26]}\n"
     ]
    },
    {
     "name": "stderr",
     "output_type": "stream",
     "text": [
      "/home/dl/miniconda2/envs/transit/lib/python3.5/site-packages/ipykernel/__main__.py:5: RuntimeWarning: divide by zero encountered in double_scalars\n"
     ]
    },
    {
     "ename": "KeyError",
     "evalue": "9",
     "output_type": "error",
     "traceback": [
      "\u001b[0;31m---------------------------------------------------------------------------\u001b[0m",
      "\u001b[0;31mKeyError\u001b[0m                                  Traceback (most recent call last)",
      "\u001b[0;32m<ipython-input-27-dab24e7adac5>\u001b[0m in \u001b[0;36m<module>\u001b[0;34m()\u001b[0m\n\u001b[1;32m     12\u001b[0m     \u001b[0;31m#RV.update(RV_j)\u001b[0m\u001b[0;34m\u001b[0m\u001b[0;34m\u001b[0m\u001b[0m\n\u001b[1;32m     13\u001b[0m     \u001b[0mprint\u001b[0m\u001b[0;34m(\u001b[0m\u001b[0mRV_j\u001b[0m\u001b[0;34m)\u001b[0m\u001b[0;34m\u001b[0m\u001b[0m\n\u001b[0;32m---> 14\u001b[0;31m \u001b[0mplt\u001b[0m\u001b[0;34m.\u001b[0m\u001b[0mplot\u001b[0m\u001b[0;34m(\u001b[0m\u001b[0mP_p\u001b[0m\u001b[0;34m[\u001b[0m\u001b[0mj\u001b[0m\u001b[0;34m]\u001b[0m\u001b[0;34m,\u001b[0m\u001b[0mRV\u001b[0m\u001b[0;34m[\u001b[0m\u001b[0mj\u001b[0m\u001b[0;34m]\u001b[0m\u001b[0;34m,\u001b[0m\u001b[0;34m'bo'\u001b[0m\u001b[0;34m)\u001b[0m\u001b[0;34m\u001b[0m\u001b[0m\n\u001b[0m",
      "\u001b[0;31mKeyError\u001b[0m: 9"
     ]
    }
   ],
   "source": [
    "RV={}\n",
    "RV_j={}\n",
    "RV_i=[]\n",
    "for j in range(len(P_p)):\n",
    "    #RV[j] = K_RV(P_p[j], M_Jup, i, M_sun, e)\n",
    "    for k in range(len(Mass_p)):\n",
    "        item = K_RV(P_p[j], Mass_p[k], i, M_sun, e)\n",
    "        #print(j,k)\n",
    "    RV_i.append(item)\n",
    "    #print(shape(RV_i))\n",
    "    RV_j = {j+1 : RV_i}\n",
    "    #RV.update(RV_j)\n",
    "    print(RV_j)\n",
    "plt.plot(P_p[j],RV[j],'bo')"
   ]
  },
  {
   "cell_type": "code",
   "execution_count": 16,
   "metadata": {
    "collapsed": false
   },
   "outputs": [
    {
     "data": {
      "image/png": "[encoded data removed]",
      "text/plain": [
       "<matplotlib.figure.Figure at 0x7ff82a59ffd0>"
      ]
     },
     "metadata": {},
     "output_type": "display_data"
    }
   ],
   "source": [
    "K_Jup=K_RV(P_Jup, M_Jup,1.31,M_sun,0.0483)\n",
    "K_E=K_RV(P_E, M_E,0,M_sun,0.0167)\n",
    "    \n",
    "plt.vlines(P_E, 0, 400, color='blue', lw=3, alpha=0.25) #Earth\n",
    "plt.hlines(K_E, 0, 400, color='blue', lw=3, alpha=0.25)\n",
    "#plt.vlines(P_Jup, 0, 400, color='blue', lw=3, alpha=0.25) #Jup\n",
    "#plt.hlines(K_Jup, 0, 400, color='blue', lw=3, alpha=0.25)\n",
    "plt.ylabel('K [m/s]')\n",
    "plt.xlabel('orbital period [days]')\n",
    "#plt.xscale('log')\n",
    "plt.yscale('log')\n",
    "plt.xlim([0,400])\n",
    "plt.ylim([-100,100])\n",
    "plt.show()"
   ]
  },
  {
   "cell_type": "code",
   "execution_count": 12,
   "metadata": {
    "collapsed": true
   },
   "outputs": [],
   "source": [
    "plt.plot?"
   ]
  },
  {
   "cell_type": "code",
   "execution_count": 22,
   "metadata": {
    "collapsed": false
   },
   "outputs": [
    {
     "data": {
      "text/plain": [
       "array([ 0.25612025,  0.2267663 ,  0.7016868 ,  0.80998269,  0.93854136,\n",
       "        0.74263571,  0.03711844,  0.39858586,  0.38705954,  0.04824652])"
      ]
     },
     "execution_count": 22,
     "metadata": {},
     "output_type": "execute_result"
    }
   ],
   "source": [
    "np.random.random(10)"
   ]
  },
  {
   "cell_type": "code",
   "execution_count": null,
   "metadata": {
    "collapsed": true
   },
   "outputs": [],
   "source": []
  }
 ],
 "metadata": {
  "kernelspec": {
   "display_name": "Python 3",
   "language": "python",
   "name": "python3"
  },
  "language_info": {
   "codemirror_mode": {
    "name": "ipython",
    "version": 3
   },
   "file_extension": ".py",
   "mimetype": "text/x-python",
   "name": "python",
   "nbconvert_exporter": "python",
   "pygments_lexer": "ipython3",
   "version": "3.5.2"
  }
 },
 "nbformat": 4,
 "nbformat_minor": 1
}
