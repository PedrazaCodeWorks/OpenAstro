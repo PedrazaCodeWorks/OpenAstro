{
 "cells": [
  {
   "cell_type": "code",
   "execution_count": 1,
   "metadata": {
    "collapsed": false
   },
   "outputs": [
    {
     "name": "stdout",
     "output_type": "stream",
     "text": [
      "Populating the interactive namespace from numpy and matplotlib\n"
     ]
    }
   ],
   "source": [
    "import matplotlib.pyplot as plt\n",
    "%pylab inline\n",
    "import numpy as np\n",
    "from astropy import constants as const\n",
    "from astropy import units as u\n",
    "from astropy.analytic_functions import blackbody_lambda\n",
    "from astropy.analytic_functions import blackbody_nu"
   ]
  },
  {
   "cell_type": "code",
   "execution_count": 2,
   "metadata": {
    "collapsed": false
   },
   "outputs": [
    {
     "data": {
      "text/latex": [
       "$5000 \\; \\mathrm{K}$"
      ],
      "text/plain": [
       "<Quantity 5000.0 K>"
      ]
     },
     "execution_count": 2,
     "metadata": {},
     "output_type": "execute_result"
    }
   ],
   "source": [
    "temperature = 5000 * u.K\n",
    "temperature"
   ]
  },
  {
   "cell_type": "markdown",
   "metadata": {},
   "source": [
    "Determine peak wavelength using Wien's displacement law: `const.b_wien`"
   ]
  },
  {
   "cell_type": "code",
   "execution_count": 16,
   "metadata": {
    "collapsed": false
   },
   "outputs": [
    {
     "data": {
      "text/latex": [
       "$5795.5442 \\; \\mathrm{\\mathring{A}}$"
      ],
      "text/plain": [
       "<Quantity 5795.544199999998 Angstrom>"
      ]
     },
     "execution_count": 16,
     "metadata": {},
     "output_type": "execute_result"
    }
   ],
   "source": [
    "wavemax = (const.b_wien / temperature).to(u.AA)  # Wien's displacement law\n",
    "wavemax"
   ]
  },
  {
   "cell_type": "markdown",
   "metadata": {},
   "source": [
    "`b_wien` has associated unit. We can take the value by:"
   ]
  },
  {
   "cell_type": "code",
   "execution_count": 17,
   "metadata": {
    "collapsed": false
   },
   "outputs": [
    {
     "data": {
      "text/plain": [
       "5795.544199999998"
      ]
     },
     "execution_count": 17,
     "metadata": {},
     "output_type": "execute_result"
    }
   ],
   "source": [
    "wavemax.value"
   ]
  },
  {
   "cell_type": "markdown",
   "metadata": {},
   "source": [
    "Conversion to preferred units"
   ]
  },
  {
   "cell_type": "code",
   "execution_count": 18,
   "metadata": {
    "collapsed": false,
    "scrolled": true
   },
   "outputs": [
    {
     "data": {
      "text/latex": [
       "$[1,~1.0111354,~1.0223947,~\\dots, 62354.574,~63048.914,~63750.986] \\; \\mathrm{\\mathring{A}}$"
      ],
      "text/plain": [
       "<Quantity [  1.00000000e+00,  1.01113536e+00,  1.02239471e+00,\n",
       "             1.03377944e+00,  1.04529094e+00,  1.05693062e+00,\n",
       "             1.06869992e+00,  1.08060027e+00,  1.09263314e+00,\n",
       "             1.10480000e+00,  1.11710234e+00,  1.12954167e+00,\n",
       "             1.14211952e+00,  1.15483743e+00,  1.16769695e+00,\n",
       "             1.18069967e+00,  1.19384718e+00,  1.20714110e+00,\n",
       "             1.22058304e+00,  1.23417467e+00,  1.24791764e+00,\n",
       "             1.26181365e+00,  1.27586439e+00,  1.29007159e+00,\n",
       "             1.30443700e+00,  1.31896237e+00,  1.33364948e+00,\n",
       "             1.34850015e+00,  1.36351617e+00,  1.37869941e+00,\n",
       "             1.39405172e+00,  1.40957498e+00,  1.42527110e+00,\n",
       "             1.44114200e+00,  1.45718963e+00,  1.47341595e+00,\n",
       "             1.48982296e+00,  1.50641267e+00,  1.52318711e+00,\n",
       "             1.54014834e+00,  1.55729844e+00,  1.57463951e+00,\n",
       "             1.59217368e+00,  1.60990310e+00,  1.62782994e+00,\n",
       "             1.64595641e+00,  1.66428472e+00,  1.68281712e+00,\n",
       "             1.70155589e+00,  1.72050332e+00,  1.73966173e+00,\n",
       "             1.75903348e+00,  1.77862095e+00,  1.79842652e+00,\n",
       "             1.81845264e+00,  1.83870176e+00,  1.85917636e+00,\n",
       "             1.87987894e+00,  1.90081206e+00,  1.92197828e+00,\n",
       "             1.94338019e+00,  1.96502042e+00,  1.98690162e+00,\n",
       "             2.00902648e+00,  2.03139770e+00,  2.05401804e+00,\n",
       "             2.07689026e+00,  2.10001717e+00,  2.12340161e+00,\n",
       "             2.14704644e+00,  2.17095456e+00,  2.19512891e+00,\n",
       "             2.21957246e+00,  2.24428818e+00,  2.26927913e+00,\n",
       "             2.29454836e+00,  2.32009897e+00,  2.34593410e+00,\n",
       "             2.37205691e+00,  2.39847060e+00,  2.42517843e+00,\n",
       "             2.45218365e+00,  2.47948959e+00,  2.50709958e+00,\n",
       "             2.53501703e+00,  2.56324534e+00,  2.59178799e+00,\n",
       "             2.62064847e+00,  2.64983033e+00,  2.67933713e+00,\n",
       "             2.70917250e+00,  2.73934010e+00,  2.76984362e+00,\n",
       "             2.80068682e+00,  2.83187346e+00,  2.86340738e+00,\n",
       "             2.89529243e+00,  2.92753254e+00,  2.96013166e+00,\n",
       "             2.99309378e+00,  3.02642294e+00,  3.06012324e+00,\n",
       "             3.09419880e+00,  3.12865380e+00,  3.16349247e+00,\n",
       "             3.19871908e+00,  3.23433796e+00,  3.27035346e+00,\n",
       "             3.30677001e+00,  3.34359207e+00,  3.38082415e+00,\n",
       "             3.41847083e+00,  3.45653672e+00,  3.49502648e+00,\n",
       "             3.53394485e+00,  3.57329658e+00,  3.61308651e+00,\n",
       "             3.65331951e+00,  3.69400052e+00,  3.73513453e+00,\n",
       "             3.77672658e+00,  3.81878177e+00,  3.86130526e+00,\n",
       "             3.90430227e+00,  3.94777806e+00,  3.99173797e+00,\n",
       "             4.03618739e+00,  4.08113178e+00,  4.12657663e+00,\n",
       "             4.17252752e+00,  4.21899010e+00,  4.26597006e+00,\n",
       "             4.31347315e+00,  4.36150520e+00,  4.41007212e+00,\n",
       "             4.45917984e+00,  4.50883439e+00,  4.55904186e+00,\n",
       "             4.60980841e+00,  4.66114027e+00,  4.71304372e+00,\n",
       "             4.76552514e+00,  4.81859095e+00,  4.87224768e+00,\n",
       "             4.92650189e+00,  4.98136023e+00,  5.03682945e+00,\n",
       "             5.09291634e+00,  5.14962777e+00,  5.20697071e+00,\n",
       "             5.26495217e+00,  5.32357929e+00,  5.38285924e+00,\n",
       "             5.44279929e+00,  5.50340679e+00,  5.56468918e+00,\n",
       "             5.62665397e+00,  5.68930876e+00,  5.75266124e+00,\n",
       "             5.81671917e+00,  5.88149040e+00,  5.94698289e+00,\n",
       "             6.01320466e+00,  6.08016383e+00,  6.14786861e+00,\n",
       "             6.21632731e+00,  6.28554833e+00,  6.35554014e+00,\n",
       "             6.42631134e+00,  6.49787060e+00,  6.57022670e+00,\n",
       "             6.64338851e+00,  6.71736500e+00,  6.79216525e+00,\n",
       "             6.86779842e+00,  6.94427380e+00,  7.02160075e+00,\n",
       "             7.09978877e+00,  7.17884744e+00,  7.25878646e+00,\n",
       "             7.33961563e+00,  7.42134486e+00,  7.50398417e+00,\n",
       "             7.58754370e+00,  7.67203369e+00,  7.75746452e+00,\n",
       "             7.84384664e+00,  7.93119066e+00,  8.01950729e+00,\n",
       "             8.10880735e+00,  8.19910180e+00,  8.29040171e+00,\n",
       "             8.38271828e+00,  8.47606283e+00,  8.57044680e+00,\n",
       "             8.66588177e+00,  8.76237945e+00,  8.85995165e+00,\n",
       "             8.95861037e+00,  9.05836768e+00,  9.15923582e+00,\n",
       "             9.26122716e+00,  9.36435422e+00,  9.46862963e+00,\n",
       "             9.57406619e+00,  9.68067682e+00,  9.78847459e+00,\n",
       "             9.89747274e+00,  1.00076846e+01,  1.01191237e+01,\n",
       "             1.02318038e+01,  1.03457385e+01,  1.04609420e+01,\n",
       "             1.05774283e+01,  1.06952118e+01,  1.08143067e+01,\n",
       "             1.09347279e+01,  1.10564900e+01,  1.11796079e+01,\n",
       "             1.13040968e+01,  1.14299720e+01,  1.15572488e+01,\n",
       "             1.16859428e+01,  1.18160700e+01,  1.19476461e+01,\n",
       "             1.20806874e+01,  1.22152101e+01,  1.23512308e+01,\n",
       "             1.24887662e+01,  1.26278330e+01,  1.27684484e+01,\n",
       "             1.29106296e+01,  1.30543941e+01,  1.31997594e+01,\n",
       "             1.33467434e+01,  1.34953642e+01,  1.36456398e+01,\n",
       "             1.37975889e+01,  1.39512299e+01,  1.41065818e+01,\n",
       "             1.42636636e+01,  1.44224946e+01,  1.45830942e+01,\n",
       "             1.47454821e+01,  1.49096783e+01,  1.50757029e+01,\n",
       "             1.52435762e+01,  1.54133188e+01,  1.55849516e+01,\n",
       "             1.57584956e+01,  1.59339720e+01,  1.61114025e+01,\n",
       "             1.62908087e+01,  1.64722126e+01,  1.66556366e+01,\n",
       "             1.68411030e+01,  1.70286347e+01,  1.72182546e+01,\n",
       "             1.74099859e+01,  1.76038523e+01,  1.77998775e+01,\n",
       "             1.79980854e+01,  1.81985005e+01,  1.84011473e+01,\n",
       "             1.86060506e+01,  1.88132356e+01,  1.90227277e+01,\n",
       "             1.92345525e+01,  1.94487361e+01,  1.96653047e+01,\n",
       "             1.98842848e+01,  2.01057034e+01,  2.03295875e+01,\n",
       "             2.05559647e+01,  2.07848627e+01,  2.10163095e+01,\n",
       "             2.12503336e+01,  2.14869636e+01,  2.17262286e+01,\n",
       "             2.19681579e+01,  2.22127811e+01,  2.24601283e+01,\n",
       "             2.27102298e+01,  2.29631163e+01,  2.32188188e+01,\n",
       "             2.34773686e+01,  2.37387974e+01,  2.40031374e+01,\n",
       "             2.42704208e+01,  2.45406806e+01,  2.48139498e+01,\n",
       "             2.50902619e+01,  2.53696509e+01,  2.56521510e+01,\n",
       "             2.59377968e+01,  2.62266234e+01,  2.65186662e+01,\n",
       "             2.68139609e+01,  2.71125439e+01,  2.74144517e+01,\n",
       "             2.77197214e+01,  2.80283904e+01,  2.83404964e+01,\n",
       "             2.86560779e+01,  2.89751736e+01,  2.92978224e+01,\n",
       "             2.96240641e+01,  2.99539386e+01,  3.02874863e+01,\n",
       "             3.06247482e+01,  3.09657657e+01,  3.13105805e+01,\n",
       "             3.16592349e+01,  3.20117718e+01,  3.23682342e+01,\n",
       "             3.27286660e+01,  3.30931113e+01,  3.34616149e+01,\n",
       "             3.38342219e+01,  3.42109779e+01,  3.45919293e+01,\n",
       "             3.49771228e+01,  3.53666055e+01,  3.57604252e+01,\n",
       "             3.61586302e+01,  3.65612694e+01,  3.69683922e+01,\n",
       "             3.73800483e+01,  3.77962885e+01,  3.82171636e+01,\n",
       "             3.86427253e+01,  3.90730257e+01,  3.95081178e+01,\n",
       "             3.99480547e+01,  4.03928905e+01,  4.08426797e+01,\n",
       "             4.12974774e+01,  4.17573395e+01,  4.22223223e+01,\n",
       "             4.26924829e+01,  4.31678789e+01,  4.36485685e+01,\n",
       "             4.41346109e+01,  4.46260654e+01,  4.51229925e+01,\n",
       "             4.56254531e+01,  4.61335087e+01,  4.66472217e+01,\n",
       "             4.71666551e+01,  4.76918726e+01,  4.82229385e+01,\n",
       "             4.87599181e+01,  4.93028771e+01,  4.98518822e+01,\n",
       "             5.04070006e+01,  5.09683005e+01,  5.15358506e+01,\n",
       "             5.21097206e+01,  5.26899809e+01,  5.32767025e+01,\n",
       "             5.38699576e+01,  5.44698187e+01,  5.50763595e+01,\n",
       "             5.56896543e+01,  5.63097784e+01,  5.69368078e+01,\n",
       "             5.75708194e+01,  5.82118909e+01,  5.88601010e+01,\n",
       "             5.95155291e+01,  6.01782557e+01,  6.08483620e+01,\n",
       "             6.15259301e+01,  6.22110432e+01,  6.29037853e+01,\n",
       "             6.36042413e+01,  6.43124971e+01,  6.50286396e+01,\n",
       "             6.57527566e+01,  6.64849369e+01,  6.72252703e+01,\n",
       "             6.79738476e+01,  6.87307606e+01,  6.94961020e+01,\n",
       "             7.02699658e+01,  7.10524469e+01,  7.18436411e+01,\n",
       "             7.26436456e+01,  7.34525584e+01,  7.42704787e+01,\n",
       "             7.50975069e+01,  7.59337443e+01,  7.67792936e+01,\n",
       "             7.76342583e+01,  7.84987433e+01,  7.93728547e+01,\n",
       "             8.02566997e+01,  8.11503865e+01,  8.20540249e+01,\n",
       "             8.29677257e+01,  8.38916008e+01,  8.48257636e+01,\n",
       "             8.57703286e+01,  8.67254117e+01,  8.76911300e+01,\n",
       "             8.86676019e+01,  8.96549471e+01,  9.06532868e+01,\n",
       "             9.16627434e+01,  9.26834406e+01,  9.37155036e+01,\n",
       "             9.47590591e+01,  9.58142349e+01,  9.68811604e+01,\n",
       "             9.79599666e+01,  9.90507856e+01,  1.00153751e+02,\n",
       "             1.01268999e+02,  1.02396665e+02,  1.03536888e+02,\n",
       "             1.04689809e+02,  1.05855567e+02,  1.07034306e+02,\n",
       "             1.08226171e+02,  1.09431308e+02,  1.10649865e+02,\n",
       "             1.11881990e+02,  1.13127836e+02,  1.14387554e+02,\n",
       "             1.15661301e+02,  1.16949230e+02,  1.18251501e+02,\n",
       "             1.19568274e+02,  1.20899709e+02,  1.22245970e+02,\n",
       "             1.23607223e+02,  1.24983633e+02,  1.26375370e+02,\n",
       "             1.27782605e+02,  1.29205510e+02,  1.30644259e+02,\n",
       "             1.32099029e+02,  1.33569999e+02,  1.35057348e+02,\n",
       "             1.36561260e+02,  1.38081918e+02,  1.39619509e+02,\n",
       "             1.41174222e+02,  1.42746247e+02,  1.44335777e+02,\n",
       "             1.45943007e+02,  1.47568135e+02,  1.49211358e+02,\n",
       "             1.50872880e+02,  1.52552903e+02,  1.54251634e+02,\n",
       "             1.55969281e+02,  1.57706054e+02,  1.59462167e+02,\n",
       "             1.61237835e+02,  1.63033275e+02,  1.64848709e+02,\n",
       "             1.66684358e+02,  1.68540447e+02,  1.70417205e+02,\n",
       "             1.72314861e+02,  1.74233648e+02,  1.76173802e+02,\n",
       "             1.78135560e+02,  1.80119163e+02,  1.82124854e+02,\n",
       "             1.84152879e+02,  1.86203486e+02,  1.88276928e+02,\n",
       "             1.90373459e+02,  1.92493335e+02,  1.94636817e+02,\n",
       "             1.96804167e+02,  1.98995651e+02,  2.01211538e+02,\n",
       "             2.03452100e+02,  2.05717612e+02,  2.08008351e+02,\n",
       "             2.10324597e+02,  2.12666637e+02,  2.15034755e+02,\n",
       "             2.17429244e+02,  2.19850395e+02,  2.22298508e+02,\n",
       "             2.24773881e+02,  2.27276818e+02,  2.29807626e+02,\n",
       "             2.32366615e+02,  2.34954100e+02,  2.37570398e+02,\n",
       "             2.40215828e+02,  2.42890717e+02,  2.45595392e+02,\n",
       "             2.48330183e+02,  2.51095428e+02,  2.53891465e+02,\n",
       "             2.56718637e+02,  2.59577290e+02,  2.62467775e+02,\n",
       "             2.65390447e+02,  2.68345664e+02,  2.71333789e+02,\n",
       "             2.74355187e+02,  2.77410229e+02,  2.80499291e+02,\n",
       "             2.83622750e+02,  2.86780990e+02,  2.89974399e+02,\n",
       "             2.93203367e+02,  2.96468290e+02,  2.99769570e+02,\n",
       "             3.03107611e+02,  3.06482822e+02,  3.09895617e+02,\n",
       "             3.13346415e+02,  3.16835638e+02,  3.20363716e+02,\n",
       "             3.23931080e+02,  3.27538167e+02,  3.31185421e+02,\n",
       "             3.34873288e+02,  3.38602222e+02,  3.42372678e+02,\n",
       "             3.46185119e+02,  3.50040013e+02,  3.53937833e+02,\n",
       "             3.57879057e+02,  3.61864167e+02,  3.65893653e+02,\n",
       "             3.69968009e+02,  3.74087735e+02,  3.78253334e+02,\n",
       "             3.82465320e+02,  3.86724207e+02,  3.91030518e+02,\n",
       "             3.95384782e+02,  3.99787532e+02,  4.04239309e+02,\n",
       "             4.08740657e+02,  4.13292129e+02,  4.17894284e+02,\n",
       "             4.22547686e+02,  4.27252904e+02,  4.32010517e+02,\n",
       "             4.36821108e+02,  4.41685266e+02,  4.46603588e+02,\n",
       "             4.51576678e+02,  4.56605145e+02,  4.61689605e+02,\n",
       "             4.66830683e+02,  4.72029009e+02,  4.77285220e+02,\n",
       "             4.82599960e+02,  4.87973882e+02,  4.93407645e+02,\n",
       "             4.98901914e+02,  5.04457364e+02,  5.10074676e+02,\n",
       "             5.15754539e+02,  5.21497649e+02,  5.27304711e+02,\n",
       "             5.33176436e+02,  5.39113545e+02,  5.45116766e+02,\n",
       "             5.51186835e+02,  5.57324496e+02,  5.63530503e+02,\n",
       "             5.69805615e+02,  5.76150603e+02,  5.82566245e+02,\n",
       "             5.89053327e+02,  5.95612645e+02,  6.02245004e+02,\n",
       "             6.08951216e+02,  6.15732104e+02,  6.22588500e+02,\n",
       "             6.29521244e+02,  6.36531187e+02,  6.43619188e+02,\n",
       "             6.50786116e+02,  6.58032851e+02,  6.65360281e+02,\n",
       "             6.72769304e+02,  6.80260829e+02,  6.87835775e+02,\n",
       "             6.95495071e+02,  7.03239656e+02,  7.11070479e+02,\n",
       "             7.18988502e+02,  7.26994694e+02,  7.35090038e+02,\n",
       "             7.43275527e+02,  7.51552164e+02,  7.59920965e+02,\n",
       "             7.68382955e+02,  7.76939172e+02,  7.85590666e+02,\n",
       "             7.94338497e+02,  8.03183739e+02,  8.12127475e+02,\n",
       "             8.21170803e+02,  8.30314832e+02,  8.39560682e+02,\n",
       "             8.48909489e+02,  8.58362398e+02,  8.67920568e+02,\n",
       "             8.77585172e+02,  8.87357395e+02,  8.97238435e+02,\n",
       "             9.07229504e+02,  9.17331827e+02,  9.27546642e+02,\n",
       "             9.37875204e+02,  9.48318778e+02,  9.58878644e+02,\n",
       "             9.69556099e+02,  9.80352450e+02,  9.91269023e+02,\n",
       "             1.00230716e+03,  1.01346820e+03,  1.02475353e+03,\n",
       "             1.03616453e+03,  1.04770259e+03,  1.05936913e+03,\n",
       "             1.07116558e+03,  1.08309339e+03,  1.09515402e+03,\n",
       "             1.10734895e+03,  1.11967967e+03,  1.13214770e+03,\n",
       "             1.14475457e+03,  1.15750182e+03,  1.17039101e+03,\n",
       "             1.18342373e+03,  1.19660158e+03,  1.20992616e+03,\n",
       "             1.22339912e+03,  1.23702210e+03,  1.25079678e+03,\n",
       "             1.26472485e+03,  1.27880801e+03,  1.29304799e+03,\n",
       "             1.30744654e+03,  1.32200542e+03,  1.33672642e+03,\n",
       "             1.35161135e+03,  1.36666202e+03,  1.38188029e+03,\n",
       "             1.39726801e+03,  1.41282709e+03,  1.42855942e+03,\n",
       "             1.44446694e+03,  1.46055159e+03,  1.47681535e+03,\n",
       "             1.49326022e+03,  1.50988820e+03,  1.52670134e+03,\n",
       "             1.54370170e+03,  1.56089137e+03,  1.57827245e+03,\n",
       "             1.59584707e+03,  1.61361740e+03,  1.63158560e+03,\n",
       "             1.64975389e+03,  1.66812448e+03,  1.68669964e+03,\n",
       "             1.70548164e+03,  1.72447279e+03,  1.74367540e+03,\n",
       "             1.76309185e+03,  1.78272450e+03,  1.80257577e+03,\n",
       "             1.82264810e+03,  1.84294393e+03,  1.86346577e+03,\n",
       "             1.88421612e+03,  1.90519753e+03,  1.92641259e+03,\n",
       "             1.94786388e+03,  1.96955403e+03,  1.99148572e+03,\n",
       "             2.01366162e+03,  2.03608445e+03,  2.05875698e+03,\n",
       "             2.08168197e+03,  2.10486224e+03,  2.12830063e+03,\n",
       "             2.15200001e+03,  2.17596330e+03,  2.20019342e+03,\n",
       "             2.22469336e+03,  2.24946611e+03,  2.27451471e+03,\n",
       "             2.29984224e+03,  2.32545180e+03,  2.35134653e+03,\n",
       "             2.37752961e+03,  2.40400425e+03,  2.43077369e+03,\n",
       "             2.45784122e+03,  2.48521016e+03,  2.51288385e+03,\n",
       "             2.54086571e+03,  2.56915915e+03,  2.59776765e+03,\n",
       "             2.62669472e+03,  2.65594390e+03,  2.68551878e+03,\n",
       "             2.71542298e+03,  2.74566018e+03,  2.77623408e+03,\n",
       "             2.80714844e+03,  2.83840703e+03,  2.87001370e+03,\n",
       "             2.90197233e+03,  2.93428682e+03,  2.96696115e+03,\n",
       "             2.99999931e+03,  3.03340537e+03,  3.06718342e+03,\n",
       "             3.10133760e+03,  3.13587209e+03,  3.17079114e+03,\n",
       "             3.20609903e+03,  3.24180008e+03,  3.27789868e+03,\n",
       "             3.31439924e+03,  3.35130626e+03,  3.38862424e+03,\n",
       "             3.42635778e+03,  3.46451149e+03,  3.50309006e+03,\n",
       "             3.54209821e+03,  3.58154073e+03,  3.62142246e+03,\n",
       "             3.66174829e+03,  3.70252315e+03,  3.74375207e+03,\n",
       "             3.78544008e+03,  3.82759230e+03,  3.87021390e+03,\n",
       "             3.91331010e+03,  3.95688620e+03,  4.00094754e+03,\n",
       "             4.04549951e+03,  4.09054758e+03,  4.13609728e+03,\n",
       "             4.18215420e+03,  4.22872397e+03,  4.27581232e+03,\n",
       "             4.32342500e+03,  4.37156788e+03,  4.42024684e+03,\n",
       "             4.46946786e+03,  4.51923697e+03,  4.56956028e+03,\n",
       "             4.62044396e+03,  4.67189425e+03,  4.72391745e+03,\n",
       "             4.77651995e+03,  4.82970820e+03,  4.88348871e+03,\n",
       "             4.93786809e+03,  4.99285301e+03,  5.04845020e+03,\n",
       "             5.10466649e+03,  5.16150877e+03,  5.21898400e+03,\n",
       "             5.27709924e+03,  5.33586162e+03,  5.39527833e+03,\n",
       "             5.45535667e+03,  5.51610401e+03,  5.57752779e+03,\n",
       "             5.63963554e+03,  5.70243489e+03,  5.76593353e+03,\n",
       "             5.83013925e+03,  5.89505992e+03,  5.96070351e+03,\n",
       "             6.02707806e+03,  6.09419171e+03,  6.16205270e+03,\n",
       "             6.23066935e+03,  6.30005007e+03,  6.37020336e+03,\n",
       "             6.44113784e+03,  6.51286220e+03,  6.58538524e+03,\n",
       "             6.65871584e+03,  6.73286301e+03,  6.80783583e+03,\n",
       "             6.88364350e+03,  6.96029532e+03,  7.03780068e+03,\n",
       "             7.11616909e+03,  7.19541017e+03,  7.27553361e+03,\n",
       "             7.35654927e+03,  7.43846706e+03,  7.52129703e+03,\n",
       "             7.60504935e+03,  7.68973427e+03,  7.77536220e+03,\n",
       "             7.86194362e+03,  7.94948916e+03,  8.03800954e+03,\n",
       "             8.12751563e+03,  8.21801841e+03,  8.30952897e+03,\n",
       "             8.40205852e+03,  8.49561843e+03,  8.59022016e+03,\n",
       "             8.68587532e+03,  8.78259562e+03,  8.88039295e+03,\n",
       "             8.97927928e+03,  9.07926674e+03,  9.18036761e+03,\n",
       "             9.28259426e+03,  9.38595925e+03,  9.49047524e+03,\n",
       "             9.59615505e+03,  9.70301165e+03,  9.81105813e+03,\n",
       "             9.92030775e+03,  1.00307739e+04,  1.01424701e+04,\n",
       "             1.02554101e+04,  1.03696078e+04,  1.04850771e+04,\n",
       "             1.06018321e+04,  1.07198873e+04,  1.08392570e+04,\n",
       "             1.09599560e+04,  1.10819990e+04,  1.12054010e+04,\n",
       "             1.13301771e+04,  1.14563427e+04,  1.15839131e+04,\n",
       "             1.17129041e+04,  1.18433315e+04,  1.19752112e+04,\n",
       "             1.21085594e+04,  1.22433925e+04,  1.23797270e+04,\n",
       "             1.25175797e+04,  1.26569674e+04,  1.27979072e+04,\n",
       "             1.29404165e+04,  1.30845126e+04,  1.32302133e+04,\n",
       "             1.33775364e+04,  1.35265001e+04,  1.36771225e+04,\n",
       "             1.38294221e+04,  1.39834176e+04,  1.41391279e+04,\n",
       "             1.42965721e+04,  1.44557696e+04,  1.46167397e+04,\n",
       "             1.47795023e+04,  1.49440773e+04,  1.51104849e+04,\n",
       "             1.52787455e+04,  1.54488798e+04,  1.56209085e+04,\n",
       "             1.57948529e+04,  1.59707342e+04,  1.61485740e+04,\n",
       "             1.63283941e+04,  1.65102166e+04,  1.66940637e+04,\n",
       "             1.68799581e+04,  1.70679224e+04,  1.72579798e+04,\n",
       "             1.74501535e+04,  1.76444672e+04,  1.78409446e+04,\n",
       "             1.80396098e+04,  1.82404873e+04,  1.84436016e+04,\n",
       "             1.86489777e+04,  1.88566407e+04,  1.90666161e+04,\n",
       "             1.92789296e+04,  1.94936073e+04,  1.97106756e+04,\n",
       "             1.99301610e+04,  2.01520904e+04,  2.03764911e+04,\n",
       "             2.06033905e+04,  2.08328166e+04,  2.10647974e+04,\n",
       "             2.12993614e+04,  2.15365374e+04,  2.17763544e+04,\n",
       "             2.20188418e+04,  2.22640295e+04,  2.25119473e+04,\n",
       "             2.27626259e+04,  2.30160958e+04,  2.32723882e+04,\n",
       "             2.35315345e+04,  2.37935665e+04,  2.40585163e+04,\n",
       "             2.43264165e+04,  2.45972998e+04,  2.48711994e+04,\n",
       "             2.51481491e+04,  2.54281827e+04,  2.57113345e+04,\n",
       "             2.59976394e+04,  2.62871323e+04,  2.65798489e+04,\n",
       "             2.68758249e+04,  2.71750968e+04,  2.74777012e+04,\n",
       "             2.77836751e+04,  2.80930562e+04,  2.84058824e+04,\n",
       "             2.87221920e+04,  2.90420238e+04,  2.93654171e+04,\n",
       "             2.96924114e+04,  3.00230470e+04,  3.03573643e+04,\n",
       "             3.06954043e+04,  3.10372085e+04,  3.13828189e+04,\n",
       "             3.17322777e+04,  3.20856279e+04,  3.24429128e+04,\n",
       "             3.28041762e+04,  3.31694623e+04,  3.35388161e+04,\n",
       "             3.39122827e+04,  3.42899080e+04,  3.46717383e+04,\n",
       "             3.50578205e+04,  3.54482017e+04,  3.58429301e+04,\n",
       "             3.62420538e+04,  3.66456220e+04,  3.70536840e+04,\n",
       "             3.74662899e+04,  3.78834904e+04,  3.83053365e+04,\n",
       "             3.87318801e+04,  3.91631733e+04,  3.95992692e+04,\n",
       "             4.00402211e+04,  4.04860832e+04,  4.09369101e+04,\n",
       "             4.13927572e+04,  4.18536802e+04,  4.23197358e+04,\n",
       "             4.27909811e+04,  4.32674739e+04,  4.37492726e+04,\n",
       "             4.42364363e+04,  4.47290247e+04,  4.52270983e+04,\n",
       "             4.57307181e+04,  4.62399459e+04,  4.67548442e+04,\n",
       "             4.72754760e+04,  4.78019052e+04,  4.83341964e+04,\n",
       "             4.88724148e+04,  4.94166266e+04,  4.99668983e+04,\n",
       "             5.05232974e+04,  5.10858923e+04,  5.16547519e+04,\n",
       "             5.22299459e+04,  5.28115449e+04,  5.33996202e+04,\n",
       "             5.39942440e+04,  5.45954891e+04,  5.52034292e+04,\n",
       "             5.58181390e+04,  5.64396938e+04,  5.70681699e+04,\n",
       "             5.77036442e+04,  5.83461948e+04,  5.89959004e+04,\n",
       "             5.96528408e+04,  6.03170963e+04,  6.09887486e+04,\n",
       "             6.16678800e+04,  6.23545738e+04,  6.30489141e+04,\n",
       "             6.37509862e+04] Angstrom>"
      ]
     },
     "execution_count": 18,
     "metadata": {},
     "output_type": "execute_result"
    }
   ],
   "source": [
    "waveset = np.logspace(0, np.log10(wavemax.value + 10 * wavemax.value), num=1000) * u.AA\n",
    "waveset"
   ]
  },
  {
   "cell_type": "code",
   "execution_count": 19,
   "metadata": {
    "collapsed": false
   },
   "outputs": [],
   "source": [
    "with np.errstate(all='ignore'):\n",
    "    flux_lambda = blackbody_lambda(waveset, temperature)\n",
    "    #flux_nu = blackbody_nu(waveset, temperature)"
   ]
  },
  {
   "cell_type": "code",
   "execution_count": 20,
   "metadata": {
    "collapsed": false
   },
   "outputs": [
    {
     "data": {
      "text/plain": [
       "<matplotlib.text.Text at 0x8f4ba20>"
      ]
     },
     "execution_count": 20,
     "metadata": {},
     "output_type": "execute_result"
    },
    {
     "data": {
      "image/png": "[encoded data removed]",
      "text/plain": [
       "<matplotlib.figure.Figure at 0x8f3b320>"
      ]
     },
     "metadata": {},
     "output_type": "display_data"
    }
   ],
   "source": [
    "fig, ax = plt.subplots(figsize=(8, 5))\n",
    "ax.plot(waveset.value, flux_lambda.value)\n",
    "ax.axvline(wavemax.value, ls='--')\n",
    "ax.get_yaxis().get_major_formatter().set_powerlimits((0, 1))\n",
    "ax.set_xlabel(r'$\\lambda$ ({0})'.format(waveset.unit))\n",
    "ax.set_ylabel(r'$B_{\\lambda}(T)$')\n",
    "ax.set_title('Blackbody, T = {0}'.format(temperature))"
   ]
  },
  {
   "cell_type": "markdown",
   "metadata": {},
   "source": [
    "Plot the distribution in terms of frequency."
   ]
  },
  {
   "cell_type": "code",
   "execution_count": null,
   "metadata": {
    "collapsed": true
   },
   "outputs": [],
   "source": [
    "freqm = ?\n",
    "freqset = np.logspace(0, np.log10(freqmax.value + 10 * freqmax.value), num=1000) * u.Hz\n",
    "freqset"
   ]
  },
  {
   "cell_type": "code",
   "execution_count": 21,
   "metadata": {
    "collapsed": false
   },
   "outputs": [
    {
     "data": {
      "image/png": "[encoded data removed]",
      "text/plain": [
       "<matplotlib.figure.Figure at 0x9194908>"
      ]
     },
     "metadata": {},
     "output_type": "display_data"
    }
   ],
   "source": [
    "fig, ax = plt.subplots(figsize=(8, 5))\n",
    "ax.plot(freqset.value, flux_nu.value)\n",
    "ax.axvline(freqmax.value, ls='--')\n",
    "ax.get_yaxis().get_major_formatter().set_powerlimits((0, 1))\n",
    "ax.set_xlabel(r'$\\nu$ ({0})'.format(freqset.unit))\n",
    "ax.set_ylabel(r'$B_{\\nu}(T)$')\n",
    "ax.set_title('Blackbody, T = {0}'.format(temperature))\n",
    "plt.show()"
   ]
  },
  {
   "cell_type": "code",
   "execution_count": null,
   "metadata": {
    "collapsed": true
   },
   "outputs": [],
   "source": []
  }
 ],
 "metadata": {
  "kernelspec": {
   "display_name": "Python 2",
   "language": "python",
   "name": "python2"
  },
  "language_info": {
   "codemirror_mode": {
    "name": "ipython",
    "version": 2
   },
   "file_extension": ".py",
   "mimetype": "text/x-python",
   "name": "python",
   "nbconvert_exporter": "python",
   "pygments_lexer": "ipython2",
   "version": "2.7.12"
  }
 },
 "nbformat": 4,
 "nbformat_minor": 1
}
