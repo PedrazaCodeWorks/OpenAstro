{
 "cells": [
  {
   "cell_type": "markdown",
   "metadata": {},
   "source": [
    "# Primary Transit"
   ]
  },
  {
   "cell_type": "markdown",
   "metadata": {},
   "source": [
    "## Lightcurve observables\n",
    "* modeling\n",
    " * measure the point-to-point scatter around the best-fitting model (mmag rms)\n",
    " * refine physical parameters of the system\n",
    "  * radius\n",
    "  * mass\n",
    "  * age\n",
    "* transit timings\n",
    " * linear or non-linear ephemeris?\n",
    " \n",
    "* lightcurve anomalies; how do they look like?\n",
    " * spot on the photosphere of the parent star\n",
    "  *  get spot position, size, spot contrast and temperature\n",
    " * eclipsing binary\n",
    " * planetary ring (e.g. Aizawa et al. 2017)\n",
    " \n",
    "## Spectra observables\n",
    "In general, observations of planetary spectra may be inverted to obtain useful information about their atmospheres\n",
    "using various statistical retrieval techniques. These are compared with a model set of theoretical spectra\n",
    "computed over a range of atmosphere parameters. A best fit to the observations is found using a statistical algorithm, most commonly a Markov-Chain Monte Carlo algorithm (MCMC). These algorithms provide a posterior distribution for the parameters of the atmosphere, as long as the correct answer is within the forward model set. \n",
    "\n",
    "If multicolor lightcurve is available over the n1–n2 nm wavelength range,\n",
    " * planet’s transmission spectrum: gives atmospheric composition and scale height\n",
    "  * observing transits with simultaneous photometry at different wavelengths allows the radius of a transiting exoplanet (which varies due to changes in opacity of planetary atmosphere) to be measured in multiple passbands and is not affected by temporal variability, for example starspots.\n",
    "  * theoretically predicted variation of the apparent radius as a function of wavelength\n",
    "  * composition and thermal structure of its atmosphere\n",
    "  * no evidence for strong optical absorbers at low pressure (e.g. WASP-19 ([Mancini et al. 2013]()))  * no evidence for strong optical absorbers at low pressure (e.g. WASP-19 ([Mancini et al. 2013]()))\n",
    "   * planet’s atmosphere lacks a dayside inversion?\n",
    "  * the temperature of the planet is not homogenized, because the high warming of its dayside causes the planet to be more efficient in re-radiating than redistributing energy to the night side"
   ]
  },
  {
   "cell_type": "markdown",
   "metadata": {},
   "source": [
    "# Secondary Eclipse \n",
    "\n",
    "## Lightcurve \n",
    "\n",
    "## Spectra\n",
    "*  secondary eclipse spectra: provide information about emission in the infrared, and phase curves over an orbit, which shows longitudinal variation in temperature and chemistry"
   ]
  },
  {
   "cell_type": "markdown",
   "metadata": {},
   "source": [
    "# Caveat\n",
    "* primary transit spectrophotometry is often either featureless within observational uncertainties\n",
    "\n",
    "\n",
    "# Scattering\n",
    "* a rise in transit depth at blue wavelengths, indicates the presence of clouds or hazes that intercept the stellar light\n",
    "* The rise in transit depth observed at short wavelengths is consistent with Mie scattering by micron-size haze particles; with very little mass, a trace species at a high altitude (< 0.01 bar) can produce a rising transit spectrum at short wavelengths (Sing et al. 2016)."
   ]
  },
  {
   "cell_type": "markdown",
   "metadata": {},
   "source": [
    "## Emission/Absorption at a give wavelength\n",
    "* presence of water around 1.4 µm\n",
    "* sodium and potassium lines at 0.59 µm and 0.77 µm\n",
    "* "
   ]
  },
  {
   "cell_type": "markdown",
   "metadata": {},
   "source": [
    "## Models, algorithms, codes\n",
    "* The BART code, produced by Harrington et al., is a highly modular code designed to compute spectra from first principles with thermal equilibrium molecular abundances. \n",
    "* The CHIMERA secondary eclipse code by Line et al. (2013) has a statistics package with multiple Monte Carlo methods and an optimal estimation method for optimization purposes. \n",
    "* The NEMESIS code by Irwin et al. (2008) is designed for a fast and accurate analysis of planetary spectra, particularly optimized for solar system objects, including additional parameters such as limb darkening, surface temperature, and detailed cloud models. \n",
    "* The SCARLET code by Benneke (2015) emphasizes a chemical and structural model by parameterizing 3-D atmosphere properties such as the eddy diffusion constant, heat-transport, and Bond albedo. \n",
    "* Finally, the Tau-REx code by Waldmann et al. (2015b) has a complex statistical package, which includes procedurally-generated priors."
   ]
  },
  {
   "cell_type": "markdown",
   "metadata": {},
   "source": [
    "## Review\n",
    "* Currently, about sixty exoplanets have been observed photometrically in primary transit in multiple wavebands.\n",
    " * Most of these objects are hot jupiters, and most of them have been observed photometrically with the Spitzer Space Telescope. \n",
    " * About twenty exoplanets have been spectroscopically characterized at low resolutions of R ∼ 10-20, mostly with HST between 0.3 and 1.0 µm with STIS and/or between 1.1 and 1.7 µm with WFC3 (Sing et al. 2016). \n",
    " * Three objects have been studied in by far the greatest detail due to the brightness of their host stars and their ease of observation: HD 189733b (Pont et al. 2013; McCullough et al. 2014), HD 209458b (Deming et al. 2013), and the mini-Neptune GJ 1214b (Howe & Burrows 2012)."
   ]
  },
  {
   "cell_type": "markdown",
   "metadata": {},
   "source": [
    "## Exoplanet atmosphere classifications\n",
    "* Fortney et al. (2008) suggested the classification of hot Jupiters in two classes, pM and pL, depending to the incident stellar flux and the expected amount of absorbing substances, such as gaseous titanium oxide (TiO) and vanadium oxide (VO), in their atmospheres.\n",
    " *  pM class: its atmosphere should be rich in oxidized elements, which should cause a variation of its radius by e.g. ∼3% for WASP-19 b between the wavelength ranges 350–400 nm and 500–700 nm. \n",
    " * Such a variation would be directly measurable using MuSCAT?\n",
    "\n",
    "* More recently, Madhusudhan (2012) proposed a new classification scheme for hydrogen-dominated exoplanetary atmospheres, which is based on both irradiation and the carbon-to-oxygen (C/O) ratio. \n",
    " * (O1, O2, C1 and C2)"
   ]
  },
  {
   "cell_type": "markdown",
   "metadata": {},
   "source": [
    "# Test Case: WASP-19 b\n",
    "\n",
    "* [data](http://vizier.cfa.harvard.edu/viz-bin/VizieR?-source=J/A+A/553/A49)"
   ]
  },
  {
   "cell_type": "markdown",
   "metadata": {},
   "source": [
    "* WASP-19: star–planet separation is equivalent to only 1.2 times the Roche tidal radius and suggests that WASP-19b has spiralled inward to its current location likely via the Kozai mechanism or tidal dissipation (Hellier et al. 2011).\n",
    "* Radial velocity (RV) follow-up observations of WASP-19 have been obtained using the HARPS spectrograph to successfully detect the [Rossiter–McLaughlin effect](https://en.wikipedia.org/wiki/Rossiter%E2%80%93McLaughlin_effect)\n",
    " * projected obliquity/ spin-orbit misalignment: sky-projected angle between the stellar spin axis and orbital angular momentum\n",
    " * gives the angle between the planet’s orbit and the sky-projected stellar rotation axis (align or misaligned orbit?)\n",
    "* a starspot in two consecutive planetary transits can be used to obtain a better constraint on "
   ]
  },
  {
   "cell_type": "markdown",
   "metadata": {},
   "source": [
    "# Data Reduction\n",
    "* The images were debiased and flat-fielded using standard methods\n",
    "* subjected to aperture photometry using the APER2 task and an optimal ensemble of comparison stars\n",
    "* Pointing variations were followed by crosscorrelating each image against a reference image. \n",
    "* The shape of the light curves is very insensitive to the aperture sizes, so we chose those which yielded the lowest scatter.\n",
    "* We inflated the error bars using the β approach (e.g. Gillon et al. 2006; Winn et al. 2008; Gibson et al. 2008) to account for any correlated noise.\n",
    "\n",
    "## Transit\n",
    "* The NIR data were calibrated by performing dark subtraction, readout pattern removal and flat division on the raw science images.\n",
    "* Both the dark and flat master frames were created through median-combining a stack of individual measurements, for which the twilight sky flats were adopted. \n",
    "* We also removed the odd–even readout pattern (along the x-axis) before the flat correction by shifting the count level of each column to a common overall level.\n",
    "* After the calibration, we obtained light curves using an aperture photometry routine again based on the IDL/DAOPHOT package. \n",
    "* To determine the centroids of WASP-19 and its comparison stars, we smoothed the defocused images into a lower resolution and fitted Gaussians to the marginal x, y distributions. \n",
    "* We also recorded the full-width at half-maximum (FWHM) by fitting the wing of original point spread function, the central region of which has been masked out. \n",
    "* We carefully chose the comparison stars that were of similar brightness and well within the saturation limit. \n",
    "* The companions close to our chosen stars were masked out in case they contaminated the photometry. \n",
    "* Fluxes of these comparison stars were weighted-averaged together after self-normalization, and divided from that of WASP-19. \n",
    "* We also experimented with a set of aperture and sky annulus sizes, and adopted that which yielded the light curve with least scatter. The final light curves were decorrelated with star position, FWHM, time and airmass. \n",
    "* Uncertainties were treated as for the optical case.\n",
    "\n",
    "## Occultations\n",
    "* We created master bias and master skyflat frames through median combination of a set of individual files, and then corrected the bias and flat-field from the science images.\n",
    "* We performed aperture photometry on the calibrated science images employing the IDL/DAOPHOT routines. \n",
    "* Since the telescope was heavily defocused, to find the centroids of stars, we convolved the science images with a Gaussian kernel so that the doughnut-shaped point spread functions became approximately Gaussian. \n",
    "* The locations of WASP-19 as well as an ensemble of nearby comparison stars of similar brightness were determined by employing IDL/FIND on these convolved images. \n",
    "* We placed 30 apertures on each star in steps of 1 pixel. \n",
    "* 10 annuli for each aperture were tried in steps of 2 pixels. \n",
    "* We normalized the light curve of each star by dividing their out-of-eclipse flux level individually. \n",
    "* We checked each star to remove the ones that were saturated and carefully chose the ensemble with a similar light curve shape to WASP-19. \n",
    "* The chosen ensemble was weight-combined as the composite reference light curve, which was then used to normalize the WASP-19 light curve. \n",
    "* These normalized light curves were modelled, and the one with the lowest standard deviation of the residuals was chosen as the optimal light curve. "
   ]
  },
  {
   "cell_type": "code",
   "execution_count": null,
   "metadata": {
    "collapsed": true
   },
   "outputs": [],
   "source": []
  },
  {
   "cell_type": "markdown",
   "metadata": {},
   "source": [
    "# Hot Jupiter\n",
    "\n",
    "* Current theory suggests that Jovian planets form at orbital distances of & 1 AU where additional protoplanetary solids (ice) augment their formation. They then migrate inwards to become hot Jupiters. Popular theories that attempt to explain their resulting close-in orbits involve a 3rd body (in addition to the Jovian planet and it’s host star) that perturbs the orbit of the soon-to-be hot Jupiter and excites high eccentricities through either the Kozai mechanism or planet-planet scattering. This highly eccentric orbit then decays through tidal interactions into a close-in circular orbit (Nagasawa et al. 2008; Fabrycky & Tremaine 2007; Naoz et al. 2011). This scenario would produce hot Jupiters with a large range of orbital obliquities. Others suggest that hot Jupiters migrate within the circumstellar disk from which they formed through interactions with the disk (Lin et al. 1996). In this case we expect that all of the bodies would lie in coplanar orbits that are all well-aligned with the stellar spin axis. If the orbit of planet b is aligned to host star’s spin, it would suggest that this system was formed by migration rather than perturbation if the two planets are coplanar.  A coplanar and apsidally locked geometry would also allow for a precise measurement of the interior density structure of planet b (Batygin et al. 2009; Mardling 2010).\n",
    "* An emerging trend suggests that hot Jupiters around cool stars (Teff < 6250 K) with large convective envelopes tend to be better aligned with their host star’s rotation axis (Albrecht et al. 2012b). Tidal energy is most efficiently dissipated by turbulent eddies in the convective regions of stars (Zahn 2008).  As a result, the rate of tidal dissipation depends on the mass of the convective envelope. Strong tidal interactions with the convective envelope force the system into alignment in a relatively short time. Stars hotter than 6250 K have small or no convective envelopes, and it takes much longer for the system to align (Winn et al. 2010b). HAT-P-17 is a cool star with Teff~5200 K, but planet b’s orbital distance is relatively large making tidal interactions weak. According to the tidal figure of merit devised by Albrecht et al. (2012b), we would expect the tidal dissipation rate for this system to be too slow to cause obliquity damping, despite the star’s thick convective envelope. This makes HAT-P-17 an interesting test case."
   ]
  },
  {
   "cell_type": "code",
   "execution_count": null,
   "metadata": {
    "collapsed": true
   },
   "outputs": [],
   "source": []
  }
 ],
 "metadata": {
  "kernelspec": {
   "display_name": "Python 2",
   "language": "python",
   "name": "python2"
  },
  "language_info": {
   "codemirror_mode": {
    "name": "ipython",
    "version": 2
   },
   "file_extension": ".py",
   "mimetype": "text/x-python",
   "name": "python",
   "nbconvert_exporter": "python",
   "pygments_lexer": "ipython2",
   "version": "2.7.13"
  }
 },
 "nbformat": 4,
 "nbformat_minor": 2
}
