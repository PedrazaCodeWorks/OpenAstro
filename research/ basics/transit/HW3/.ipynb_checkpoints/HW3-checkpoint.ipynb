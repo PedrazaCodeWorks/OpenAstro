{
 "cells": [
  {
   "cell_type": "code",
   "execution_count": 1,
   "metadata": {
    "collapsed": false
   },
   "outputs": [
    {
     "name": "stdout",
     "output_type": "stream",
     "text": [
      "Populating the interactive namespace from numpy and matplotlib\n"
     ]
    },
    {
     "name": "stderr",
     "output_type": "stream",
     "text": [
      "/home/dl/miniconda2/envs/transit/lib/python3.5/site-packages/IPython/core/magics/pylab.py:161: UserWarning: pylab import has clobbered these variables: ['plt']\n",
      "`%matplotlib` prevents importing * from pylab and numpy\n",
      "  \"\\n`%matplotlib` prevents importing * from pylab and numpy\"\n"
     ]
    }
   ],
   "source": [
    "import numpy as np\n",
    "from matplotlib import pylab as plt\n",
    "%pylab inline"
   ]
  },
  {
   "cell_type": "code",
   "execution_count": 2,
   "metadata": {
    "collapsed": false
   },
   "outputs": [],
   "source": [
    "from pytransit import MandelAgol as MA\n",
    "rc('font', size=12)\n",
    "\n",
    "md = MA()"
   ]
  },
  {
   "cell_type": "markdown",
   "metadata": {},
   "source": [
    "The MandelAgol.evaluate method offers a direct way for the calculation of the light curve as a function of time t. It uses a circular orbit model if eccentricity is close to zero (smaller than 1e-5), and slower eccentric orbit model with non-zero eccentricities.\n",
    "\n",
    "The MandelAgol._ _call_ _ method offers a way to evaluate the transit model as a function of normalised projected distance z. This is useful if we don't want to recalculate the orbit but change the limb darkening coefficients or contamination factor, or if we have a better (faster) method for the calculation of z than provided by the package."
   ]
  },
  {
   "cell_type": "markdown",
   "metadata": {},
   "source": [
    "# Let's investigate the effect of changing the fitting parameters one by one:"
   ]
  },
  {
   "cell_type": "raw",
   "metadata": {},
   "source": [
    "* k = [R_Earth/R_sun, 13*R_Jup/R_sun] #Earth to brown dwarf boundary (analog for radius, not mass)\n",
    "* us = [0, 0.25]\n",
    "* t0 = [centered ~ off-center]?\n",
    "* p = [0.1*365, 30*365]; must change t accordingly\n",
    "* a = [0.1*a_Earth, 30*a_Earth]\n",
    "* i = [0, 0.5*np.pi]\n",
    "* e = [0, 0.9]\n",
    "* w = [0, 0.5*np.pi]"
   ]
  },
  {
   "cell_type": "code",
   "execution_count": 8,
   "metadata": {
    "collapsed": false
   },
   "outputs": [],
   "source": [
    "#Define common constants\n",
    "M_sun = 1.989E30 #kg\n",
    "M_star= 1*M_sun \n",
    "\n",
    "M_planet = 0 #negligible\n",
    "M_Jup = 1.898E27 #kg\n",
    "M_Earth = 5.972E24 #kg\n",
    "M_Neptune=1.024E26 #kg\n",
    "\n",
    "R_sun = 696300000 #m\n",
    "R_Jup = 69911000 #m \n",
    "R_Neptune = 24622000 #m\n",
    "R_Earth = 6371000 #m\n",
    "\n",
    "G = 6.67E-11 #\n",
    "AU = 1.496E11 #m"
   ]
  },
  {
   "cell_type": "code",
   "execution_count": 121,
   "metadata": {
    "collapsed": false,
    "scrolled": true
   },
   "outputs": [
    {
     "name": "stdout",
     "output_type": "stream",
     "text": [
      "[[ 0.        ]\n",
      " [ 0.00914979]\n",
      " [ 0.01829958]\n",
      " [ 0.02744938]\n",
      " [ 0.03659917]\n",
      " [ 0.04574896]\n",
      " [ 0.05489875]\n",
      " [ 0.06404854]\n",
      " [ 0.07319833]\n",
      " [ 0.08234813]]\n"
     ]
    }
   ],
   "source": [
    "#Earth to brown dwarf boundary (analog for radius, not mass) in multiples of R_Earth\n",
    "k1 = 0.1 #typical value ~ R_Earth/R_sun \n",
    "#k2 = np.linspace(R_Earth/R_sun, 0.5, 100) #13*R_Jup is bigger than solar diameter\n",
    "\n",
    "k2 = array([[R_Earth/R_sun*i] for i in range(10)]) #10 sets\n",
    "print(k2)"
   ]
  },
  {
   "cell_type": "code",
   "execution_count": 5,
   "metadata": {
    "collapsed": false
   },
   "outputs": [],
   "source": [
    "u  = [0.4,0.1] #arbitrarily chosen\n",
    "t0 = 1\n",
    "p  = 2*365\n",
    "a = 30.1*AU\n",
    "i = 0.5*np.pi\n",
    "e = 0\n",
    "w = 0#.5*np.pi"
   ]
  },
  {
   "cell_type": "code",
   "execution_count": 7,
   "metadata": {
    "collapsed": false
   },
   "outputs": [
    {
     "name": "stdout",
     "output_type": "stream",
     "text": [
      "transit depth = 0.0013\n",
      "transit duration = 0.036 days\n"
     ]
    }
   ],
   "source": [
    "def delta(R_p,R_s):\n",
    "    return (R_p/R_s)**2\n",
    "\n",
    "def transit_time(R_s, a, p):\n",
    "    return (R_s*p)/(np.pi*a)\n",
    "\n",
    "delta = delta(R_Neptune,R_sun)\n",
    "duration = transit_time(R_sun,a, p)\n",
    "print('transit depth = {0:.4f}'.format(delta))\n",
    "print('transit duration = {0:.3f} days'.format(duration))"
   ]
  },
  {
   "cell_type": "code",
   "execution_count": 146,
   "metadata": {
    "collapsed": true
   },
   "outputs": [],
   "source": [
    "t = np.linspace(t0-duration,t0+duration,100)"
   ]
  },
  {
   "cell_type": "markdown",
   "metadata": {},
   "source": [
    "Note that k2 & t should have the same dimensions that's why I used linspace."
   ]
  },
  {
   "cell_type": "code",
   "execution_count": 147,
   "metadata": {
    "collapsed": false
   },
   "outputs": [
    {
     "data": {
      "text/plain": [
       "(100,)"
      ]
     },
     "execution_count": 147,
     "metadata": {},
     "output_type": "execute_result"
    }
   ],
   "source": [
    "k_i = md.evaluate(t, k1, u, t0, p, a, i, e, w)\n",
    "k_set = md.evaluate(t, k2, u, t0, p, a, i, e, w)\n",
    "k_set.shape"
   ]
  },
  {
   "cell_type": "markdown",
   "metadata": {},
   "source": [
    "The depth of transit should be:"
   ]
  },
  {
   "cell_type": "code",
   "execution_count": 149,
   "metadata": {
    "collapsed": false
   },
   "outputs": [
    {
     "data": {
      "image/png": "[encoded data removed]",
      "text/plain": [
       "<matplotlib.figure.Figure at 0x7f98241fc400>"
      ]
     },
     "metadata": {},
     "output_type": "display_data"
    }
   ],
   "source": [
    "fig,ax = subplots(1,2,figsize=(14,5))\n",
    "#lightcurve \n",
    "ax[0].plot(t, k_i, 'k');\n",
    "#10 curves with various limb darkening coeffs\n",
    "ax[1].plot(t, k_set, 'k');\n",
    "setp(ax[0], ylim=(1-2*delta,1.001), \n",
    "     xlabel='Time [d]', ylabel='Normalised flux');#, \n",
    "     #title='Light curve for a single set of limb darkening coefficients');\n",
    "setp(ax[1], ylim=(1-2*delta,1.001), \n",
    "     yticks=[], xlabel='Time [d]', ylabel='Normalised flux');#, \n",
    "     #title='Light curve for a set of multiple limb darkening coefficients');\n",
    "#change \n",
    "fig.tight_layout()\n",
    "#fig.savefig('model_example_1.png')"
   ]
  },
  {
   "cell_type": "markdown",
   "metadata": {},
   "source": [
    "# 1. \n",
    "Polly Photometer studies the star psi Cap. She has heard that this star has a Neptune-like planet orbiting it with a period of 2 years."
   ]
  },
  {
   "cell_type": "markdown",
   "metadata": {},
   "source": [
    "### a. Create a graph showing the (theoretical) V-band light curve of this star during a transit. Make sure that your scales on the time and magnitude axes are accurate.\n"
   ]
  },
  {
   "cell_type": "markdown",
   "metadata": {},
   "source": [
    "Psi Capricorni ($\\psi$ Cap, $\\psi$ Capricorni) is a star in the constellation Capricornus. $\\psi$ Cap is a yellow-white **F-type main sequence dwarf** with an apparent magnitude of M = +4.13. It is approximately d=47.9 light years from Earth. The measured rotational velocity of this star is approximately $v_{\\mathrm{rot}}$ = 41 km/s[6] (the Sun has an equatorial rotation velocity of 2 km/s). Analysis of the line profile of the star's spectrum indicates that it is undergoing differential rotation, with the variation by latitude being similar to the Sun.\n",
    "\n",
    "References:\n",
    "Habets, G. M. H. J.; Heintze, J. R. W. (November 1981). \"Empirical bolometric corrections for the main-sequence\". Astronomy and Astrophysics Supplement. 46: 193–237. Bibcode:1981A&AS...46..193H"
   ]
  },
  {
   "cell_type": "code",
   "execution_count": 8,
   "metadata": {
    "collapsed": true
   },
   "outputs": [],
   "source": [
    "t0 = 1. #midtransit: unknown; value should be between t_lims (centered on x-axis)\n",
    "p_in_day = 2*365 #period = 2 years in days \n",
    "p_in_sec = 2*365*24*60*60\n",
    "\n",
    "i = 0.5*np.pi #edge-on assumption-- in deg\n",
    "e = 0 #circular orbit assumption\n",
    "w = 0.5*np.pi #arg. of periastron =90 assumption-- in deg (e.g. periastron and reference aligned; true anomaly = 0)\n",
    "k = M_Neptune/M_star \n",
    "#Psi Cap is F2V dwarf star=1.0 to 1.4 M_sun and T_surf = 6000-7600 K\n",
    "\n",
    "t = linspace(0.5,1.5,1000)\n",
    "\n",
    "#unknown\n",
    "us = [0.4,0.1]\n",
    "um = array([[0.04*iu, 0.025*iu] for iu in range(10)])"
   ]
  },
  {
   "cell_type": "code",
   "execution_count": 11,
   "metadata": {
    "collapsed": false
   },
   "outputs": [],
   "source": [
    "def orb_rad(M_s, M_p, p):\n",
    "    return (G*(M_s+M_p)/(4*np.pi**2)*p**2)**(1/3)\n",
    "\n",
    "a = orb_rad(M_sun, M_Neptune, p_in_sec)"
   ]
  },
  {
   "cell_type": "code",
   "execution_count": 12,
   "metadata": {
    "collapsed": false
   },
   "outputs": [
    {
     "data": {
      "text/plain": [
       "1.5864773925282294"
      ]
     },
     "execution_count": 12,
     "metadata": {},
     "output_type": "execute_result"
    }
   ],
   "source": [
    "a/AU"
   ]
  },
  {
   "cell_type": "code",
   "execution_count": 159,
   "metadata": {
    "collapsed": false
   },
   "outputs": [
    {
     "data": {
      "text/plain": [
       "0.00125041410385487"
      ]
     },
     "execution_count": 159,
     "metadata": {},
     "output_type": "execute_result"
    }
   ],
   "source": [
    "def delta(R_p,R_s):\n",
    "    k=R_p/R_s\n",
    "    return k**2\n",
    "\n",
    "delta(R_Neptune,R_sun)"
   ]
  },
  {
   "cell_type": "code",
   "execution_count": 160,
   "metadata": {
    "collapsed": false
   },
   "outputs": [
    {
     "data": {
      "text/plain": [
       "-93.955222129182886"
      ]
     },
     "execution_count": 160,
     "metadata": {},
     "output_type": "execute_result"
    }
   ],
   "source": [
    "def P_trans(a, R_s, R_p, e, w):\n",
    "    P_t = (a/(2*(R_s+R_p)))*((1-e*np.cos(np.pi/2)-w)/(1-e**2))\n",
    "    return P_t\n",
    "\n",
    "P_trans(a, R_sun, R_Neptune, e, w)"
   ]
  },
  {
   "cell_type": "code",
   "execution_count": 155,
   "metadata": {
    "collapsed": false
   },
   "outputs": [
    {
     "data": {
      "text/plain": [
       "3123.0563084494579"
      ]
     },
     "execution_count": 155,
     "metadata": {},
     "output_type": "execute_result"
    }
   ],
   "source": []
  },
  {
   "cell_type": "markdown",
   "metadata": {},
   "source": [
    "### b. Create a graph showing the (theoretical) V-band light curve of this star during one full orbit of the planet. Assume that the albedo of the planet's clouds is a = 0.5. Make a closeup around the time of the secondary eclipse (= occultation = when the planet goes behind the star). Make sure that your scales on the time and magnitude axes are accurate."
   ]
  },
  {
   "cell_type": "code",
   "execution_count": null,
   "metadata": {
    "collapsed": true
   },
   "outputs": [],
   "source": []
  },
  {
   "cell_type": "markdown",
   "metadata": {},
   "source": [
    "### c. Bonus! Polly has access to a 1-m space telescope with an expensive CCD. Should she apply for time to observe this star and actually confirm the presence of this planet? Should she ask for time around both primary and secondary eclipses? Justify your answer."
   ]
  },
  {
   "cell_type": "code",
   "execution_count": null,
   "metadata": {
    "collapsed": true
   },
   "outputs": [],
   "source": []
  },
  {
   "cell_type": "markdown",
   "metadata": {},
   "source": [
    "# 2.\n",
    "Polly decides to look at a different star instead. She acquires the following photometric measurements during one transit. Answer the following as well as you can; include uncertainties where possible."
   ]
  },
  {
   "cell_type": "code",
   "execution_count": 3,
   "metadata": {
    "collapsed": false
   },
   "outputs": [
    {
     "name": "stdout",
     "output_type": "stream",
     "text": [
      "Populating the interactive namespace from numpy and matplotlib\n"
     ]
    }
   ],
   "source": [
    "import pandas as pd\n",
    "import numpy as np\n",
    "from matplotlib import pyplot as plt\n",
    "%pylab inline\n",
    "\n",
    "filename='sample_transit.dat'\n",
    "df = pd.read_csv(filename,delim_whitespace=True)# error_bad_lines=False, skiprows=?\n",
    "df.head()\n",
    "\n",
    "df.columns = ['t','f']\n",
    "t =df.t\n",
    "f =df.f"
   ]
  },
  {
   "cell_type": "code",
   "execution_count": 4,
   "metadata": {
    "collapsed": false
   },
   "outputs": [
    {
     "data": {
      "text/html": [
       "<div>\n",
       "<table border=\"1\" class=\"dataframe\">\n",
       "  <thead>\n",
       "    <tr style=\"text-align: right;\">\n",
       "      <th></th>\n",
       "      <th>t</th>\n",
       "      <th>f</th>\n",
       "    </tr>\n",
       "  </thead>\n",
       "  <tbody>\n",
       "    <tr>\n",
       "      <th>0</th>\n",
       "      <td>2.456734e+06</td>\n",
       "      <td>0.999600</td>\n",
       "    </tr>\n",
       "    <tr>\n",
       "      <th>1</th>\n",
       "      <td>2.456734e+06</td>\n",
       "      <td>1.001299</td>\n",
       "    </tr>\n",
       "    <tr>\n",
       "      <th>2</th>\n",
       "      <td>2.456734e+06</td>\n",
       "      <td>0.998397</td>\n",
       "    </tr>\n",
       "    <tr>\n",
       "      <th>3</th>\n",
       "      <td>2.456734e+06</td>\n",
       "      <td>0.998795</td>\n",
       "    </tr>\n",
       "    <tr>\n",
       "      <th>4</th>\n",
       "      <td>2.456734e+06</td>\n",
       "      <td>0.999893</td>\n",
       "    </tr>\n",
       "  </tbody>\n",
       "</table>\n",
       "</div>"
      ],
      "text/plain": [
       "              t         f\n",
       "0  2.456734e+06  0.999600\n",
       "1  2.456734e+06  1.001299\n",
       "2  2.456734e+06  0.998397\n",
       "3  2.456734e+06  0.998795\n",
       "4  2.456734e+06  0.999893"
      ]
     },
     "execution_count": 4,
     "metadata": {},
     "output_type": "execute_result"
    }
   ],
   "source": [
    "df.head()"
   ]
  },
  {
   "cell_type": "markdown",
   "metadata": {},
   "source": [
    "### a. What is the depth of this transit?"
   ]
  },
  {
   "cell_type": "code",
   "execution_count": 5,
   "metadata": {
    "collapsed": false,
    "scrolled": false
   },
   "outputs": [
    {
     "name": "stderr",
     "output_type": "stream",
     "text": [
      "/home/dl/miniconda2/envs/transit/lib/python3.5/site-packages/IPython/html.py:14: ShimWarning: The `IPython.html` package has been deprecated. You should import from `notebook` instead. `IPython.html.widgets` has moved to `ipywidgets`.\n",
      "  \"`IPython.html.widgets` has moved to `ipywidgets`.\", ShimWarning)\n"
     ]
    },
    {
     "data": {
      "image/png": "[encoded data removed]",
      "text/plain": [
       "<matplotlib.figure.Figure at 0x7f8bf58fa8d0>"
      ]
     },
     "metadata": {},
     "output_type": "display_data"
    }
   ],
   "source": [
    "#Estimate loc of data points in key transit location\n",
    "t1 = 11\n",
    "t2 = 22\n",
    "t3 = 64\n",
    "t4 = 74\n",
    "\n",
    "import seaborn as sb\n",
    "with sb.axes_style('whitegrid'):\n",
    "    fig, ax = plt.subplots(1,1,figsize=(15,3))\n",
    "    ax.plot(t,f,'bo')\n",
    "    ax.plot(t[:t1],f[:t1],'ro')\n",
    "    ax.plot(t[t4:],f[t4:],'ro')\n",
    "    ax.plot(t[t2:t3],f[t2:t3],'ro')\n",
    "    ax.set_xlabel('Time [JY]')\n",
    "    ax.set_ylabel('Normalized Flux')"
   ]
  },
  {
   "cell_type": "code",
   "execution_count": 9,
   "metadata": {
    "collapsed": false
   },
   "outputs": [
    {
     "name": "stdout",
     "output_type": "stream",
     "text": [
      "Estimated delta = 0.022\n"
     ]
    }
   ],
   "source": [
    "top = f[:11]\n",
    "top.append(f[74:-1])\n",
    "lc_max=np.median(top)\n",
    "#lc_max=np.mean(top)\n",
    "\n",
    "bottom = f[22:64]\n",
    "lc_min = np.median(bottom)\n",
    "#lc_min = np.mean(bottom)\n",
    "\n",
    "delta = lc_max - lc_min\n",
    "print('Estimated delta = {0:.3f}'.format(delta))"
   ]
  },
  {
   "cell_type": "markdown",
   "metadata": {},
   "source": [
    "If the host star is sun-like, then we can estimate the radius of the planet."
   ]
  },
  {
   "cell_type": "code",
   "execution_count": 10,
   "metadata": {
    "collapsed": false
   },
   "outputs": [
    {
     "name": "stdout",
     "output_type": "stream",
     "text": [
      "Estimated R_p = 1.482 R_Jup assuming R_s = R_sun\n"
     ]
    }
   ],
   "source": [
    "def R_p(delta, R_s):\n",
    "    k = delta*R_s\n",
    "    return np.sqrt(delta)*R_s\n",
    "R_p = R_p(delta, R_sun)\n",
    "print('Estimated R_p = {0:.3f} R_Jup assuming R_s = R_sun'.format(R_p/R_Jup))"
   ]
  },
  {
   "cell_type": "markdown",
   "metadata": {},
   "source": [
    "### b. What is the duration of this transit?"
   ]
  },
  {
   "cell_type": "code",
   "execution_count": 11,
   "metadata": {
    "collapsed": false
   },
   "outputs": [
    {
     "name": "stdout",
     "output_type": "stream",
     "text": [
      "Estimated T = 0.116 day or 2.775 hours\n"
     ]
    }
   ],
   "source": [
    "duration = t[t4]-t[t1]\n",
    "print('Estimated T = {0:.3f} day or {1:.3f} hours'.format(duration, duration*24))"
   ]
  },
  {
   "cell_type": "markdown",
   "metadata": {},
   "source": [
    "### c. What is the time of mid-transit?"
   ]
  },
  {
   "cell_type": "code",
   "execution_count": 12,
   "metadata": {
    "collapsed": false,
    "scrolled": false
   },
   "outputs": [
    {
     "name": "stdout",
     "output_type": "stream",
     "text": [
      "Estimated t0 = 1228366.9704 JY\n"
     ]
    }
   ],
   "source": [
    "t0 = (t[int((t4-t1)/2)+t1])/2  #or p+t[t1] if p is known\n",
    "print('Estimated t0 = {0:.4f} JY'.format(t0))"
   ]
  },
  {
   "cell_type": "markdown",
   "metadata": {
    "collapsed": true
   },
   "source": [
    "Let's fit a curve with estimated values and then optimize to get answer in b and c below."
   ]
  },
  {
   "cell_type": "markdown",
   "metadata": {},
   "source": [
    "We need to calculate $a$ to get the period. "
   ]
  },
  {
   "cell_type": "markdown",
   "metadata": {},
   "source": [
    "Using orbital radius of the planet and transit duration, we can compute for the period."
   ]
  },
  {
   "cell_type": "code",
   "execution_count": 13,
   "metadata": {
    "collapsed": false
   },
   "outputs": [
    {
     "ename": "NameError",
     "evalue": "name 'a' is not defined",
     "output_type": "error",
     "traceback": [
      "\u001b[0;31m---------------------------------------------------------------------------\u001b[0m",
      "\u001b[0;31mNameError\u001b[0m                                 Traceback (most recent call last)",
      "\u001b[0;32m<ipython-input-13-c2b4adced7c1>\u001b[0m in \u001b[0;36m<module>\u001b[0;34m()\u001b[0m\n\u001b[1;32m      2\u001b[0m     \u001b[0;32mreturn\u001b[0m \u001b[0;34m(\u001b[0m\u001b[0mduration\u001b[0m\u001b[0;34m*\u001b[0m\u001b[0mnp\u001b[0m\u001b[0;34m.\u001b[0m\u001b[0mpi\u001b[0m\u001b[0;34m*\u001b[0m\u001b[0ma\u001b[0m\u001b[0;34m/\u001b[0m\u001b[0mR_s\u001b[0m\u001b[0;34m)\u001b[0m\u001b[0;34m\u001b[0m\u001b[0m\n\u001b[1;32m      3\u001b[0m \u001b[0;34m\u001b[0m\u001b[0m\n\u001b[0;32m----> 4\u001b[0;31m \u001b[0mp\u001b[0m \u001b[0;34m=\u001b[0m \u001b[0mperiod\u001b[0m\u001b[0;34m(\u001b[0m\u001b[0mR_sun\u001b[0m\u001b[0;34m,\u001b[0m \u001b[0ma\u001b[0m\u001b[0;34m,\u001b[0m \u001b[0mduration\u001b[0m\u001b[0;34m)\u001b[0m\u001b[0;34m\u001b[0m\u001b[0m\n\u001b[0m\u001b[1;32m      5\u001b[0m \u001b[0mprint\u001b[0m\u001b[0;34m(\u001b[0m\u001b[0;34m'Estimated p = {0:.3f} days'\u001b[0m\u001b[0;34m.\u001b[0m\u001b[0mformat\u001b[0m\u001b[0;34m(\u001b[0m\u001b[0mp\u001b[0m\u001b[0;34m)\u001b[0m\u001b[0;34m)\u001b[0m\u001b[0;34m\u001b[0m\u001b[0m\n",
      "\u001b[0;31mNameError\u001b[0m: name 'a' is not defined"
     ]
    }
   ],
   "source": [
    "def period(R_s, a, duration):\n",
    "    return (duration*np.pi*a/R_s)\n",
    "\n",
    "p = period(R_sun, a, duration)\n",
    "print('Estimated p = {0:.3f} days'.format(p))"
   ]
  },
  {
   "cell_type": "code",
   "execution_count": null,
   "metadata": {
    "collapsed": true
   },
   "outputs": [],
   "source": [
    "from pytransit import MandelAgol\n",
    "MA = MandelAgol()\n",
    "\n",
    "def model(theta, t):\n",
    "    \n",
    "    k,t0,p,a,i,u1,u2,_,_,_,_,_ = theta\n",
    "    model = MA.evaluate(t, k, (u1,u2), t0, p, a, i)\n",
    "    \n",
    "    return model"
   ]
  },
  {
   "cell_type": "code",
   "execution_count": null,
   "metadata": {
    "collapsed": true
   },
   "outputs": [],
   "source": [
    "k =  R_Nep/R_sun\n",
    "a =  \n",
    "i =  0.4*np.pi\n",
    "u1 = 0\n",
    "u2 = 0\n",
    "\n",
    "theta = array(k,t0,p,a,i,u1,u2,_,_,_,_,_)\n",
    "\n",
    "model(theta, t)"
   ]
  },
  {
   "cell_type": "code",
   "execution_count": 181,
   "metadata": {
    "collapsed": false
   },
   "outputs": [
    {
     "data": {
      "text/plain": [
       "11"
      ]
     },
     "execution_count": 181,
     "metadata": {},
     "output_type": "execute_result"
    }
   ],
   "source": [
    "t0, p = opt.x[1], opt.x[2]\n",
    "\n",
    "tf, ff = fold(t, f, p, t0)\n",
    "ff /= np.median(ff)\n",
    "\n",
    "with sb.axes_style('white'):\n",
    "    fig, ax = plt.subplots(1,1,figsize=(15,5))\n",
    "    ax.plot(tf, ff, '.')\n",
    "    plt.xlabel('Phase')\n",
    "    plt.ylabel('Normalized Flux')"
   ]
  },
  {
   "cell_type": "code",
   "execution_count": 13,
   "metadata": {
    "collapsed": false
   },
   "outputs": [
    {
     "name": "stdout",
     "output_type": "stream",
     "text": [
      "True\n",
      "[  1.50849775e-01   1.24019816e+06   4.01910806e+00   1.29215593e+01\n",
      "   1.52570101e+00   1.99805129e-01   1.98480680e-01   1.06270704e-02\n",
      "  -1.21682934e-04   8.40844937e-05  -7.66136541e-05   2.81174552e-05]\n"
     ]
    }
   ],
   "source": [
    "from pytransit import MandelAgol\n",
    "\n",
    "MA = MandelAgol()\n",
    "\n",
    "\n",
    "def model(theta, t):\n",
    "    \n",
    "    k,t0,p,a,i,u1,u2,_,_,_,_,_ = theta\n",
    "    model = MA.evaluate(t, k, (u1,u2), t0, p, a, i)\n",
    "    \n",
    "    return model\n",
    "\n",
    "\n",
    "def baseline(theta, t):\n",
    "    ti = t - t.mean()\n",
    "    c0,c1,c2,c3 = theta[-4:]\n",
    "    return c0 + c1 * ti + c2 * ti**2 + c3 * ti**3\n",
    "    \n",
    "    \n",
    "def lnlike(theta, t, f):\n",
    "    \n",
    "    k,t0,p,a,i,u1,u2,sig,c0,c1,c2,c3 = theta\n",
    "    m = model(theta, t) + baseline(theta, t)\n",
    "    resid = f - m\n",
    "    inv_sigma2 = 1.0/(sig**2)\n",
    "\n",
    "    return -0.5*(np.sum((resid)**2*inv_sigma2 - np.log(inv_sigma2)))\n",
    "\n",
    "\n",
    "def lnprob(theta, t, f):\n",
    "    \n",
    "    if np.any(theta[:-4] < 0):\n",
    "        return -np.inf\n",
    "    if theta[4] > np.pi/2.:\n",
    "        return -np.inf\n",
    "\n",
    "    ll = lnlike(theta, t, f)\n",
    "    return ll if np.isfinite(ll) else -np.inf\n",
    "\n",
    "\n",
    "def scaled_a(p, t14, k, i=np.pi/2.):\n",
    "    numer = np.sqrt( (k + 1) ** 2 )\n",
    "    denom = np.sin(i) * np.sin(t14 * np.pi / p)\n",
    "    return float(numer / denom)\n",
    "\n",
    "p = 4 #arbitrary assumption\n",
    "t14 = t[t4] - t[t1]\n",
    "k = np.sqrt(1-lc_min)\n",
    "i = np.pi/2. #assumption\n",
    "a = scaled_a(p, t14, k, i)\n",
    "u1, u2 = 0.2, 0.2 #assumption\n",
    "sig = f.std()\n",
    "lna = 1e-1\n",
    "lntau = 1\n",
    "initial = k,t0,p,a,i,u1,u2,sig,0,0,0,0\n",
    "args = (t, f)\n",
    "\n",
    "nlp = lambda *args: -lnprob(*args)\n",
    "\n",
    "import scipy.optimize as op\n",
    "\n",
    "opt = op.minimize(nlp, initial, args=args, method='nelder-mead')\n",
    "print(opt.success)\n",
    "print(opt.x)"
   ]
  },
  {
   "cell_type": "code",
   "execution_count": 14,
   "metadata": {
    "collapsed": false
   },
   "outputs": [
    {
     "data": {
      "text/plain": [
       "(1240198.1569148707, 4.0191080596753261)"
      ]
     },
     "execution_count": 14,
     "metadata": {},
     "output_type": "execute_result"
    }
   ],
   "source": [
    "opt.x[1], opt.x[2]"
   ]
  },
  {
   "cell_type": "code",
   "execution_count": null,
   "metadata": {
    "collapsed": false
   },
   "outputs": [],
   "source": [
    "#import simfit\n",
    "#tf, ff = simfit.util.fold(t, f, peak, t0)\n",
    "\n",
    "def get_tns(t, p, t0):\n",
    "\n",
    "    idx = t != 0\n",
    "    t = t[idx]\n",
    "\n",
    "    while t0-p > t.min():\n",
    "        t0 -= p\n",
    "    if t0 < t.min():\n",
    "        t0 += p\n",
    "\n",
    "    tns = [t0+p*i for i in range(int((t.max()-t0)/p+1))]\n",
    "\n",
    "    while tns[-1] > t.max():\n",
    "        tns.pop()\n",
    "\n",
    "    while tns[0] < t.min():\n",
    "        tns = tns[1:]\n",
    "\n",
    "    return tns\n",
    "\n",
    "\n",
    "def extract_individual(star, p, t0, width=1):\n",
    "\n",
    "    t, f = star.time, star.flux\n",
    "    idx = np.isfinite(t) & np.isfinite(f)\n",
    "    t, f = t[idx], f[idx]\n",
    "\n",
    "    tns =  get_tns(t, p, t0)\n",
    "\n",
    "    transits = []\n",
    "    for i,tn in enumerate(tns):\n",
    "        idx = (t > tn - width/2.) & (t < tn + width/2.)\n",
    "        if idx.sum() == 0:\n",
    "            continue\n",
    "        ti = t[idx].tolist()\n",
    "        fi = f[idx].tolist()\n",
    "        transits.append((ti,fi))\n",
    "\n",
    "    return transits\n",
    "\n",
    "def fold(t, f, p, t0, width=0.4, clip=False, bl=False, t14=0.2):\n",
    "    tns = get_tns(t, p, t0)\n",
    "    tf, ff = np.empty(0), np.empty(0)\n",
    "    for i,tn in enumerate(tns):\n",
    "        idx = (t > tn - width/2.) & (t < tn + width/2.)\n",
    "        ti = t[idx]-tn\n",
    "        fi = f[idx]\n",
    "        fi /= np.nanmedian(fi)\n",
    "        if bl:\n",
    "            idx = (ti < -t14/2.) | (ti > t14/2.)\n",
    "            assert np.isfinite(ti[idx]).all() & np.isfinite(fi[idx]).all()\n",
    "            assert idx.sum() > 0\n",
    "            try:\n",
    "                res = sm.RLM(fi[idx], sm.add_constant(ti[idx])).fit()\n",
    "                if np.abs(res.params[1]) > 1e-2:\n",
    "                    print('bad data probably causing poor fit')\n",
    "                    print('transit {} baseline params: {}'.format(i, res.params))\n",
    "                    continue\n",
    "                model = res.params[0] + res.params[1] * ti\n",
    "                fi = fi - model + 1\n",
    "            except:\n",
    "                print(\"error computing baseline for transit {}\".format(i))\n",
    "                print(\"num. points: {}\".format(idx.sum()))\n",
    "                print(ti)\n",
    "        tf = np.append(tf, ti)\n",
    "        ff = np.append(ff, fi / np.nanmedian(fi))\n",
    "    idx = np.argsort(tf)\n",
    "    tf = tf[idx]\n",
    "    ff = ff[idx]\n",
    "    if clip:\n",
    "        fc = sigma_clip(ff, sigma_lower=10, sigma_upper=2)\n",
    "        tf, ff = tf[~fc.mask], ff[~fc.mask]\n",
    "    return tf, ff\n",
    "\n",
    "tf, ff = fold(t, f, p, t0)\n",
    "with sb.axes_style('white'):\n",
    "    fig, ax = plt.subplots(1,1,figsize=(15,5))\n",
    "    ax.plot(tf, ff, '.')"
   ]
  },
  {
   "cell_type": "code",
   "execution_count": null,
   "metadata": {
    "collapsed": false
   },
   "outputs": [],
   "source": [
    "t0, p = opt.x[1], opt.x[2]\n",
    "\n",
    "tf, ff = fold(t, f, p, t0)\n",
    "ff /= np.median(ff)\n",
    "\n",
    "with sb.axes_style('white'):\n",
    "    fig, ax = plt.subplots(1,1,figsize=(15,5))\n",
    "    ax.plot(tf, ff, '.')\n",
    "    plt.xlabel('Phase')\n",
    "    plt.ylabel('Normalized Flux')"
   ]
  },
  {
   "cell_type": "markdown",
   "metadata": {},
   "source": [
    "### d. (Bonus!) Polly finds in a textbook that limb-darkening is sometimes expressed in the following manner. If θ is the angle between the line of sight to the observer and the line from the center of the star to a point on the photosphere, then the intensity of that point I relative to the intensity at the center of the disk I0 is\n"
   ]
  },
  {
   "cell_type": "code",
   "execution_count": null,
   "metadata": {
    "collapsed": true
   },
   "outputs": [],
   "source": [
    "I = I_0(1-mu(1-np.cos*theta))"
   ]
  },
  {
   "cell_type": "markdown",
   "metadata": {},
   "source": [
    "### What is the value of the coefficient μ which fits this data best?"
   ]
  },
  {
   "cell_type": "code",
   "execution_count": 94,
   "metadata": {
    "collapsed": true
   },
   "outputs": [],
   "source": [
    "import gatspy\n",
    "from gatspy.periodic import LombScargleFast\n",
    "\n",
    "f /= np.median(f)                 #normalize\n",
    "\n",
    "model = LombScargleFast().fit(t, f)\n",
    "periods, power = model.periodogram_auto(nyquist_factor=100)"
   ]
  },
  {
   "cell_type": "code",
   "execution_count": 95,
   "metadata": {
    "collapsed": false
   },
   "outputs": [
    {
     "ename": "TypeError",
     "evalue": "'int' object is not subscriptable",
     "output_type": "error",
     "traceback": [
      "\u001b[0;31m---------------------------------------------------------------------------\u001b[0m",
      "\u001b[0;31mTypeError\u001b[0m                                 Traceback (most recent call last)",
      "\u001b[0;32m<ipython-input-95-bbdbe3f9c9b5>\u001b[0m in \u001b[0;36m<module>\u001b[0;34m()\u001b[0m\n\u001b[1;32m      1\u001b[0m \u001b[0midx1\u001b[0m \u001b[0;34m=\u001b[0m \u001b[0mperiods\u001b[0m \u001b[0;34m=\u001b[0m \u001b[0;36m1\u001b[0m\u001b[0;34m\u001b[0m\u001b[0m\n\u001b[1;32m      2\u001b[0m \u001b[0midx2\u001b[0m \u001b[0;34m=\u001b[0m \u001b[0mnp\u001b[0m\u001b[0;34m.\u001b[0m\u001b[0margmax\u001b[0m\u001b[0;34m(\u001b[0m\u001b[0mpower\u001b[0m\u001b[0;34m[\u001b[0m\u001b[0midx1\u001b[0m\u001b[0;34m]\u001b[0m\u001b[0;34m)\u001b[0m\u001b[0;34m\u001b[0m\u001b[0m\n\u001b[0;32m----> 3\u001b[0;31m \u001b[0mpeak\u001b[0m \u001b[0;34m=\u001b[0m \u001b[0mperiods\u001b[0m\u001b[0;34m[\u001b[0m\u001b[0midx1\u001b[0m\u001b[0;34m]\u001b[0m\u001b[0;34m[\u001b[0m\u001b[0midx2\u001b[0m\u001b[0;34m]\u001b[0m\u001b[0;34m\u001b[0m\u001b[0m\n\u001b[0m\u001b[1;32m      4\u001b[0m \u001b[0;34m\u001b[0m\u001b[0m\n\u001b[1;32m      5\u001b[0m \u001b[0;32mwith\u001b[0m \u001b[0msb\u001b[0m\u001b[0;34m.\u001b[0m\u001b[0maxes_style\u001b[0m\u001b[0;34m(\u001b[0m\u001b[0;34m'white'\u001b[0m\u001b[0;34m)\u001b[0m\u001b[0;34m:\u001b[0m\u001b[0;34m\u001b[0m\u001b[0m\n",
      "\u001b[0;31mTypeError\u001b[0m: 'int' object is not subscriptable"
     ]
    }
   ],
   "source": [
    "idx1 = periods > 1\n",
    "idx2 = np.argmax(power[idx1])\n",
    "peak = periods[idx1][idx2]\n",
    "\n",
    "with sb.axes_style('white'):\n",
    "    fig, ax = plt.subplots(1,1,figsize=(15,5))\n",
    "    ax.plot(periods, power, 'k-')\n",
    "    ax.set(xlim=(0.5, 5),\n",
    "       xlabel='period (days)',\n",
    "       ylabel='Lomb-Scargle Power')\n",
    "    ax.vlines(peak, *ax.get_ylim(), linestyles='dotted', colors='r')"
   ]
  },
  {
   "cell_type": "markdown",
   "metadata": {},
   "source": [
    "### e. Bonus! This is a real exoplanet. Which one?"
   ]
  },
  {
   "cell_type": "code",
   "execution_count": null,
   "metadata": {
    "collapsed": true
   },
   "outputs": [],
   "source": []
  },
  {
   "cell_type": "markdown",
   "metadata": {},
   "source": [
    "# 3.\n",
    "Aliens are everywhere, and they have telescopes! Every single star within 25 parsecs of the Sun has an alien astronomer, and all of them are constantly monitoring the Sun."
   ]
  },
  {
   "cell_type": "markdown",
   "metadata": {},
   "source": [
    "### a. How many of these astronomers will be able to see a transit by the Earth?\n",
    "The transit probability for an exoplanet is the probability that the planet would be observed to eclipse its parent star if the planet and its parent star were observed at random orientations with respect to the inclination angle of the planet's plane of orbit."
   ]
  },
  {
   "cell_type": "code",
   "execution_count": 49,
   "metadata": {
    "collapsed": false
   },
   "outputs": [
    {
     "data": {
      "text/plain": [
       "654.4984694978735"
      ]
     },
     "execution_count": 49,
     "metadata": {},
     "output_type": "execute_result"
    }
   ],
   "source": [
    "rho =0.01\n",
    "d = 25 #pc\n",
    "\n",
    "def N(rho, d):\n",
    "    return rho* (4*np.pi*d**3)/3\n",
    "\n",
    "N(rho, d)"
   ]
  },
  {
   "cell_type": "code",
   "execution_count": 24,
   "metadata": {
    "collapsed": false
   },
   "outputs": [
    {
     "data": {
      "text/plain": [
       "0.004696998663101604"
      ]
     },
     "execution_count": 24,
     "metadata": {},
     "output_type": "execute_result"
    }
   ],
   "source": [
    "def p_trans(R_s, R_p, a, e, w):\n",
    "    return ((R_s+R_p)/a)*(1-e*np.sin(w))/(1-e**2)\n",
    "\n",
    "p_trans(R_sun, R_Earth, AU, 0, 0.5*np.pi)"
   ]
  },
  {
   "cell_type": "code",
   "execution_count": 43,
   "metadata": {
    "collapsed": false
   },
   "outputs": [
    {
     "name": "stdout",
     "output_type": "stream",
     "text": [
      "1 30\n"
     ]
    }
   ],
   "source": [
    "n_Neptunes = int(N(rho, d) * p_trans(R_sun, R_Neptune, 30.1*AU, 0, 0.5*np.pi))\n",
    "n_Earths = int(N(rho, d) * p_trans(R_sun, R_Earth, AU, 0, 0.5*np.pi))\n",
    "\n",
    "print(n_Neptunes, n_Earths)"
   ]
  },
  {
   "cell_type": "markdown",
   "metadata": {},
   "source": [
    "Using number of stars in Woolley + 2006 catalog, "
   ]
  },
  {
   "cell_type": "code",
   "execution_count": 52,
   "metadata": {
    "collapsed": false
   },
   "outputs": [
    {
     "name": "stdout",
     "output_type": "stream",
     "text": [
      "0 10\n"
     ]
    }
   ],
   "source": [
    "N_Woolley = 2150\n",
    "n_Neptunes = int(N_Woolley * p_trans(R_sun, R_Neptune, 30.1*AU, 0, 0.5*np.pi))\n",
    "n_Earths = int(N_Woolley * p_trans(R_sun, R_Earth, AU, 0, 0.5*np.pi))\n",
    "\n",
    "print(n_Neptunes, n_Earths)"
   ]
  },
  {
   "cell_type": "markdown",
   "metadata": {},
   "source": [
    "### b. How many of these astronomers will be able to see a transit by any planet?"
   ]
  },
  {
   "cell_type": "markdown",
   "metadata": {},
   "source": [
    "We can assume a distribution of relevant parameters: r_planet = [], a_planet = []"
   ]
  },
  {
   "cell_type": "code",
   "execution_count": null,
   "metadata": {
    "collapsed": true
   },
   "outputs": [],
   "source": []
  }
 ],
 "metadata": {
  "kernelspec": {
   "display_name": "Python 3",
   "language": "python",
   "name": "python3"
  },
  "language_info": {
   "codemirror_mode": {
    "name": "ipython",
    "version": 3
   },
   "file_extension": ".py",
   "mimetype": "text/x-python",
   "name": "python",
   "nbconvert_exporter": "python",
   "pygments_lexer": "ipython3",
   "version": "3.5.2"
  }
 },
 "nbformat": 4,
 "nbformat_minor": 1
}
