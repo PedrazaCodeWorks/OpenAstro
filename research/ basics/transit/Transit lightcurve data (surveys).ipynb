{
 "cells": [
  {
   "cell_type": "markdown",
   "metadata": {},
   "source": [
    "# Transit Surveys\n",
    "\n",
    "* K2 Targets (Search)\n",
    "* K2 Candidates Table\n",
    "* K2 Names Table\n",
    "* CoRoT Astero-Seismology\n",
    "* SuperWASP Light Curves (Search)\n",
    "* KELT Light Curves (Search)\n",
    "* KELT Praesepe Light Curves\n",
    "* XO Light Curves\n",
    "* HATNet Light Curves\n",
    "* Cluster Light Curves\n",
    "* TrES Light Curves\n",
    "\n",
    "[List](https://exoplanetarchive.ipac.caltech.edu/docs/data.html)"
   ]
  },
  {
   "cell_type": "code",
   "execution_count": null,
   "metadata": {
    "collapsed": true
   },
   "outputs": [],
   "source": []
  }
 ],
 "metadata": {
  "kernelspec": {
   "display_name": "Python 2",
   "language": "python",
   "name": "python2"
  },
  "language_info": {
   "codemirror_mode": {
    "name": "ipython",
    "version": 2
   },
   "file_extension": ".py",
   "mimetype": "text/x-python",
   "name": "python",
   "nbconvert_exporter": "python",
   "pygments_lexer": "ipython2",
   "version": "2.7.13"
  }
 },
 "nbformat": 4,
 "nbformat_minor": 2
}
