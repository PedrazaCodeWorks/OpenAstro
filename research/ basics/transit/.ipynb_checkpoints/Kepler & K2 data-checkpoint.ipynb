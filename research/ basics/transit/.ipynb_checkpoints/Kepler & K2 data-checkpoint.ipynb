{
 "cells": [
  {
   "cell_type": "markdown",
   "metadata": {},
   "source": [
    "# Analyzing Kepler & K2 light curves"
   ]
  },
  {
   "cell_type": "markdown",
   "metadata": {},
   "source": [
    "## Downloading data\n",
    "* using everest"
   ]
  },
  {
   "cell_type": "markdown",
   "metadata": {},
   "source": [
    "## Lomb-Scargle Algorithms in Python\n",
    "\n",
    "* scipy.signal.lombscargle, an O[$N^2$] implementation from SciPy.\n",
    "* astroML.time_series.lomb_scargle, an O[$N^2$] implementation from astroML.\n",
    "* gatspy.periodic.LombScargle, an O[$N^2$] implementation from gatspy.\n",
    "* gatspy.periodic.LombScargleFast, an O[$N\\log N$] implementation, also from gatspy.\n",
    "\n",
    "See more details [here](http://jakevdp.github.io/blog/2017/03/30/practical-lomb-scargle/) and [here](https://jakevdp.github.io/blog/2015/06/13/lomb-scargle-in-python/)."
   ]
  },
  {
   "cell_type": "code",
   "execution_count": null,
   "metadata": {
    "collapsed": true
   },
   "outputs": [],
   "source": []
  }
 ],
 "metadata": {
  "kernelspec": {
   "display_name": "Python 3",
   "language": "python",
   "name": "python3"
  },
  "language_info": {
   "codemirror_mode": {
    "name": "ipython",
    "version": 3
   },
   "file_extension": ".py",
   "mimetype": "text/x-python",
   "name": "python",
   "nbconvert_exporter": "python",
   "pygments_lexer": "ipython3",
   "version": "3.6.1"
  }
 },
 "nbformat": 4,
 "nbformat_minor": 2
}
