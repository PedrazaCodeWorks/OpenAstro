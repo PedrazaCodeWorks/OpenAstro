{
 "cells": [
  {
   "cell_type": "code",
   "execution_count": 1,
   "metadata": {},
   "outputs": [
    {
     "name": "stdout",
     "output_type": "stream",
     "text": [
      "Python 2.7.13 :: Continuum Analytics, Inc.\r\n"
     ]
    }
   ],
   "source": [
    "!python --version"
   ]
  },
  {
   "cell_type": "code",
   "execution_count": 2,
   "metadata": {},
   "outputs": [
    {
     "name": "stdout",
     "output_type": "stream",
     "text": [
      "# conda environments:\r\n",
      "#\r\n",
      "GoogEarthEngine          /home/jp/miniconda2/envs/GoogEarthEngine\r\n",
      "astroconda               /home/jp/miniconda2/envs/astroconda\r\n",
      "everest-pipeline         /home/jp/miniconda2/envs/everest-pipeline\r\n",
      "helios                   /home/jp/miniconda2/envs/helios\r\n",
      "iraf27                   /home/jp/miniconda2/envs/iraf27\r\n",
      "ircs_pol                 /home/jp/miniconda2/envs/ircs_pol\r\n",
      "moscatel                 /home/jp/miniconda2/envs/moscatel\r\n",
      "radmc3dpy                /home/jp/miniconda2/envs/radmc3dpy\r\n",
      "root                  *  /home/jp/miniconda2\r\n",
      "\r\n"
     ]
    }
   ],
   "source": [
    "!conda env list"
   ]
  },
  {
   "cell_type": "markdown",
   "metadata": {},
   "source": [
    "Quick estimate of centroiding accuracy as a function of signal to noise"
   ]
  },
  {
   "cell_type": "code",
   "execution_count": 3,
   "metadata": {},
   "outputs": [],
   "source": [
    "from astropy.convolution import Gaussian1DKernel,convolve"
   ]
  },
  {
   "cell_type": "code",
   "execution_count": 9,
   "metadata": {},
   "outputs": [],
   "source": [
    "import numpy as np\n",
    "\n",
    "# define our x axis: will be 10 \"angstroms\" wide with a 2-angstrom fwhm resolution\n",
    "# Each resel will be sampled by 3 pixels\n",
    "npix = 15 #3*10/2.0\n",
    "\n",
    "\n",
    "x_angstroms = np.linspace(-5,5,npix)\n",
    "pixel_scale = (x_angstroms.max()-x_angstroms.min())/npix #nm per pix"
   ]
  },
  {
   "cell_type": "code",
   "execution_count": 10,
   "metadata": {},
   "outputs": [],
   "source": [
    "# Unresolved line.  Amplitude = 1\n",
    "xcen = 0.4\n",
    "# oversample, then downsample\n",
    "x_hires = np.linspace(x_angstroms.min(),x_angstroms.max(),npix*10)\n",
    "pixel_scale_hires = (x_hires.max()-x_hires.min())/(npix*10)\n",
    "gg = np.exp(-(x_hires-xcen)**2/(2*0.1**2))\n",
    "instrument_smooth_function = Gaussian1DKernel(2/pixel_scale_hires/2.35)\n",
    "ggsm = convolve(gg, instrument_smooth_function)[::int(pixel_scale/pixel_scale_hires)]"
   ]
  },
  {
   "cell_type": "code",
   "execution_count": 11,
   "metadata": {},
   "outputs": [
    {
     "data": {
      "text/plain": [
       "((15,), 15, 15)"
      ]
     },
     "execution_count": 11,
     "metadata": {},
     "output_type": "execute_result"
    }
   ],
   "source": [
    "pixel_scale,pixel_scale_hires\n",
    "ggsm.shape, npix, x_angstroms.size"
   ]
  },
  {
   "cell_type": "code",
   "execution_count": 14,
   "metadata": {},
   "outputs": [
    {
     "data": {
      "text/plain": [
       "[<matplotlib.lines.Line2D at 0x7fecbfdcf290>]"
      ]
     },
     "execution_count": 14,
     "metadata": {},
     "output_type": "execute_result"
    },
    {
     "data": {
      "image/png": "[encoded data removed]",
      "text/plain": [
       "<matplotlib.figure.Figure at 0x7fecbfebf6d0>"
      ]
     },
     "metadata": {},
     "output_type": "display_data"
    }
   ],
   "source": [
    "import pylab as pl\n",
    "%matplotlib inline\n",
    "pl.plot(x_angstroms,ggsm)"
   ]
  },
  {
   "cell_type": "code",
   "execution_count": 15,
   "metadata": {},
   "outputs": [
    {
     "data": {
      "text/plain": [
       "[<matplotlib.lines.Line2D at 0x7fecbfd0e9d0>]"
      ]
     },
     "execution_count": 15,
     "metadata": {},
     "output_type": "execute_result"
    },
    {
     "data": {
      "image/png": "[encoded data removed]",
      "text/plain": [
       "<matplotlib.figure.Figure at 0x7fecbfde03d0>"
      ]
     },
     "metadata": {},
     "output_type": "display_data"
    }
   ],
   "source": [
    "pl.plot(x_angstroms,ggsm+np.random.randn(ggsm.size)/76.)"
   ]
  },
  {
   "cell_type": "code",
   "execution_count": 16,
   "metadata": {},
   "outputs": [],
   "source": [
    "from scipy.optimize import curve_fit"
   ]
  },
  {
   "cell_type": "code",
   "execution_count": 17,
   "metadata": {},
   "outputs": [],
   "source": [
    "# fit a gaussian back to the input\n",
    "def g(x,xc,sig): return np.exp(-(x-xc)**2/(2*sig**2))"
   ]
  },
  {
   "cell_type": "code",
   "execution_count": 18,
   "metadata": {},
   "outputs": [
    {
     "data": {
      "text/plain": [
       "(array([-0.78174807,  0.46569365]), array([[ 0.46131243,  0.04800528],\n",
       "        [ 0.04800528,  0.21036561]]))"
      ]
     },
     "execution_count": 18,
     "metadata": {},
     "output_type": "execute_result"
    }
   ],
   "source": [
    "curve_fit(g, x_angstroms, ggsm+np.random.randn(x_angstroms.size))"
   ]
  },
  {
   "cell_type": "code",
   "execution_count": 19,
   "metadata": {},
   "outputs": [],
   "source": [
    "y = [curve_fit(g,x_angstroms,ggsm+np.random.rand(npix)/76)[0][0] for i in range(1000)]"
   ]
  },
  {
   "cell_type": "code",
   "execution_count": 20,
   "metadata": {},
   "outputs": [
    {
     "data": {
      "text/plain": [
       "0.0019276854579521779"
      ]
     },
     "execution_count": 20,
     "metadata": {},
     "output_type": "execute_result"
    }
   ],
   "source": [
    "np.std(y)"
   ]
  },
  {
   "cell_type": "code",
   "execution_count": 21,
   "metadata": {},
   "outputs": [
    {
     "data": {
      "text/plain": [
       "(array([  20.,   63.,   95.,  177.,  178.,  161.,  139.,   95.,   51.,   21.]),\n",
       " array([ 1.05632798,  1.05727322,  1.05821847,  1.05916371,  1.06010896,\n",
       "         1.06105421,  1.06199945,  1.0629447 ,  1.06388994,  1.06483519,\n",
       "         1.06578043]),\n",
       " <a list of 10 Patch objects>)"
      ]
     },
     "execution_count": 21,
     "metadata": {},
     "output_type": "execute_result"
    },
    {
     "data": {
      "image/png": "[encoded data removed]",
      "text/plain": [
       "<matplotlib.figure.Figure at 0x7fecbfd48810>"
      ]
     },
     "metadata": {},
     "output_type": "display_data"
    }
   ],
   "source": [
    "pl.hist(y)"
   ]
  },
  {
   "cell_type": "code",
   "execution_count": 22,
   "metadata": {},
   "outputs": [],
   "source": [
    "z = [curve_fit(g,x_angstroms,ggsm+np.random.rand(x_angstroms.size)/214)[0][0] for i in range(1000)]"
   ]
  },
  {
   "cell_type": "code",
   "execution_count": 23,
   "metadata": {},
   "outputs": [
    {
     "data": {
      "text/plain": [
       "(array([  20.,   68.,  111.,  141.,  167.,  166.,  143.,   90.,   65.,   29.]),\n",
       " array([ 1.05913001,  1.05947427,  1.05981853,  1.06016279,  1.06050705,\n",
       "         1.06085131,  1.06119557,  1.06153983,  1.06188409,  1.06222835,\n",
       "         1.06257261]),\n",
       " <a list of 10 Patch objects>)"
      ]
     },
     "execution_count": 23,
     "metadata": {},
     "output_type": "execute_result"
    },
    {
     "data": {
      "image/png": "[encoded data removed]",
      "text/plain": [
       "<matplotlib.figure.Figure at 0x7fecbf9f15d0>"
      ]
     },
     "metadata": {},
     "output_type": "display_data"
    }
   ],
   "source": [
    "pl.hist(z)"
   ]
  },
  {
   "cell_type": "code",
   "execution_count": 24,
   "metadata": {},
   "outputs": [
    {
     "data": {
      "text/plain": [
       "0.00074154699845705308"
      ]
     },
     "execution_count": 24,
     "metadata": {},
     "output_type": "execute_result"
    }
   ],
   "source": [
    "np.std(z)"
   ]
  },
  {
   "cell_type": "code",
   "execution_count": 15,
   "metadata": {},
   "outputs": [],
   "source": []
  },
  {
   "cell_type": "code",
   "execution_count": 15,
   "metadata": {},
   "outputs": [],
   "source": []
  }
 ],
 "metadata": {
  "kernelspec": {
   "display_name": "Python 2",
   "language": "python",
   "name": "python2"
  },
  "language_info": {
   "codemirror_mode": {
    "name": "ipython",
    "version": 2
   },
   "file_extension": ".py",
   "mimetype": "text/x-python",
   "name": "python",
   "nbconvert_exporter": "python",
   "pygments_lexer": "ipython2",
   "version": "2.7.13"
  }
 },
 "nbformat": 4,
 "nbformat_minor": 1
}
