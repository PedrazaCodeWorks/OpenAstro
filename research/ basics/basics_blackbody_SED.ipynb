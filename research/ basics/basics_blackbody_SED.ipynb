{
 "cells": [
  {
   "cell_type": "raw",
   "metadata": {},
   "source": [
    "last stable run on 11/10/2016 @Win, py27 \n",
    "\n",
    "$pip  install pip --upgrade\n",
    "update (notebook 4.3 -> 5.0): \n",
    "widgets worked on 3/12/2017 @Linux, astroconda"
   ]
  },
  {
   "cell_type": "code",
   "execution_count": 1,
   "metadata": {},
   "outputs": [
    {
     "name": "stdout",
     "output_type": "stream",
     "text": [
      "Enabling notebook extension jupyter-js-widgets/extension...\r\n",
      "      - Validating: \u001b[32mOK\u001b[0m\r\n"
     ]
    }
   ],
   "source": [
    "!jupyter nbextension enable --py --sys-prefix widgetsnbextension"
   ]
  },
  {
   "cell_type": "markdown",
   "metadata": {},
   "source": [
    "Test"
   ]
  },
  {
   "cell_type": "code",
   "execution_count": 2,
   "metadata": {},
   "outputs": [
    {
     "name": "stderr",
     "output_type": "stream",
     "text": [
      "Widget Javascript not detected.  It may not be installed or enabled properly.\n"
     ]
    },
    {
     "data": {
      "application/vnd.jupyter.widget-view+json": {
       "model_id": "ec59787f87b64008902b95ce621e7924"
      }
     },
     "metadata": {},
     "output_type": "display_data"
    }
   ],
   "source": [
    "from ipywidgets import interact\n",
    "\n",
    "@interact(x=True, y=1.0)\n",
    "def g(x, y):\n",
    "    return (x, y)"
   ]
  },
  {
   "cell_type": "code",
   "execution_count": 3,
   "metadata": {},
   "outputs": [
    {
     "name": "stderr",
     "output_type": "stream",
     "text": [
      "Widget Javascript not detected.  It may not be installed or enabled properly.\n"
     ]
    },
    {
     "data": {
      "application/vnd.jupyter.widget-view+json": {
       "model_id": "425b59d46e4b43e0b9187ea19b767de7"
      }
     },
     "metadata": {},
     "output_type": "display_data"
    }
   ],
   "source": [
    "from ipywidgets import IntSlider, interact\n",
    "slider = IntSlider()\n",
    "\n",
    "@interact\n",
    "def print_value(x=slider):\n",
    "    print(x)"
   ]
  },
  {
   "cell_type": "markdown",
   "metadata": {},
   "source": [
    "Below still shows bug:"
   ]
  },
  {
   "cell_type": "code",
   "execution_count": 4,
   "metadata": {},
   "outputs": [],
   "source": [
    "from ipywidgets import interact, Output#, Hbox\n",
    "left = Output()\n",
    "right = Output()\n",
    "with left:\n",
    "    @interact(x=(0,10))\n",
    "    def f(x):\n",
    "        @interact(y=(0,x))\n",
    "        def g(y):\n",
    "            with right:\n",
    "                print('Product', x*y)"
   ]
  },
  {
   "cell_type": "code",
   "execution_count": 5,
   "metadata": {},
   "outputs": [
    {
     "name": "stdout",
     "output_type": "stream",
     "text": [
      "Enabling notebook extension jupyter-js-widgets/extension...\r\n",
      "      - Validating: \u001b[32mOK\u001b[0m\r\n"
     ]
    }
   ],
   "source": [
    "!jupyter nbextension enable --py --sys-prefix widgetsnbextension"
   ]
  },
  {
   "cell_type": "markdown",
   "metadata": {},
   "source": [
    "# Blackbody Radiation of a star and a planet\n",
    "\n",
    "The radiation has a specific spectrum and intensity that depends only on the temperature of the body. The distribution of intensity versus wavelength is distributed following the Planck function. \n",
    "\n",
    "## Planck's Law\n",
    "\\begin{equation}\n",
    "I(\\nu,T) = \\frac{2h\\nu^3}{c^2}\\frac{1}{e^{h\\nu/kT}-1}\n",
    "\\end{equation}\n",
    "where I is the specific intensity of radiation at the frequency $\\nu$ and temperature $T$, with units [W m$^{-2}$ Hz $^{-1}$ sr$^{-1}$]. "
   ]
  },
  {
   "cell_type": "markdown",
   "metadata": {},
   "source": [
    "#see http://docs.astropy.org/en/stable/constants/\n",
    "import astropy.units as u\n",
    "from astropy.constants import c, h, k_B\n",
    "#useful to convert\n",
    "c.to('km/s') "
   ]
  },
  {
   "cell_type": "code",
   "execution_count": 6,
   "metadata": {
    "scrolled": false
   },
   "outputs": [
    {
     "data": {
      "image/png": "[encoded data removed]",
      "text/plain": [
       "<matplotlib.figure.Figure at 0x7fad37d27b90>"
      ]
     },
     "metadata": {},
     "output_type": "display_data"
    }
   ],
   "source": [
    "import matplotlib.pyplot as plt\n",
    "%matplotlib inline\n",
    "import numpy as np\n",
    "\n",
    "#remove raised error = overflow in numpy\n",
    "np.seterr(all='ignore')\n",
    "#to reset\n",
    "#np.seterr(all='warn', over='raise')\n",
    "\n",
    "h = 6.626e-34\n",
    "c = 3.0e+8\n",
    "k = 1.38e-23\n",
    "\n",
    "def planck(lambda_, T):\n",
    "    a = 2.0*h*c**2\n",
    "    b = h*c/(lambda_*k*T)\n",
    "    return a/ ((lambda_**5) * (np.exp(b) - 1.0))\n",
    "\n",
    "# generate x-axis in increments from 1nm to 3 micrometer in 1 nm increments\n",
    "# starting at 1 nm to avoid wav = 0, which would result in division by zero.\n",
    "wavelengths = np.arange(1e-9, 3e-6, 1e-9) \n",
    "\n",
    "# intensity at T=4000K, 5000K, 6000K, 7000K\n",
    "temperature = [4.0e3,5.0e3,6.0e3,7.0e3]\n",
    "I = []\n",
    "for i in temperature:\n",
    "    ii = planck(wavelengths, i)\n",
    "    I.append(ii)\n",
    "\n",
    "fig, ax = plt.subplots(nrows=1, ncols=1, figsize=(8,5))\n",
    "\n",
    "colors = ['r-', 'g-', 'b-', 'k-']\n",
    "counter = 0\n",
    "for j,c in zip(I,colors):\n",
    "    ax.plot(wavelengths*1e9, j, c, label='T={}K'.format(temperature[counter]))\n",
    "    counter+=1\n",
    "\n",
    "ax.set_ylabel('Intensity (J m$^{-2}$ sr$^{-1}$ Hz$^{-1}$)')\n",
    "ax.set_xlabel('$\\lambda$ (nm)')\n",
    "plt.legend()\n",
    "plt.show()"
   ]
  },
  {
   "cell_type": "markdown",
   "metadata": {},
   "source": [
    "Make plotting interactive"
   ]
  },
  {
   "cell_type": "code",
   "execution_count": 7,
   "metadata": {
    "scrolled": false
   },
   "outputs": [
    {
     "name": "stderr",
     "output_type": "stream",
     "text": [
      "Widget Javascript not detected.  It may not be installed or enabled properly.\n"
     ]
    },
    {
     "data": {
      "application/vnd.jupyter.widget-view+json": {
       "model_id": "948578f535484e2cb6aa7c76438fc1dd"
      }
     },
     "metadata": {},
     "output_type": "display_data"
    }
   ],
   "source": [
    "from __future__ import print_function\n",
    "from ipywidgets import interact, interactive\n",
    "import ipywidgets as widgets\n",
    "\n",
    "h = 6.626e-34\n",
    "c = 3.0e+8\n",
    "k = 1.38e-23\n",
    "\n",
    "def plotBB(T):\n",
    "    fig, ax = plt.subplots(nrows=1, ncols=1, figsize=(8,5))\n",
    "    ax.set_xlabel('$\\lambda$ (nm)')\n",
    "    ax.set_ylabel('Intensity (J m$^{-2}$ sr$^{-1}$ Hz$^{-1}$)')\n",
    "    ax.set_xlim(0,3000)\n",
    "    ax.set_ylim(0,7e13)\n",
    "    ax.plot(wavelengths*1e9, planck(wavelengths, T))\n",
    "    plt.show()\n",
    "interact(plotBB, T=(5000,7000,100)); #T is temp from 5000-7000 K in 100K intervals"
   ]
  },
  {
   "cell_type": "markdown",
   "metadata": {},
   "source": [
    "We can find the peak of the blackbody curves using Wien's displacement law."
   ]
  },
  {
   "cell_type": "code",
   "execution_count": 8,
   "metadata": {},
   "outputs": [
    {
     "name": "stdout",
     "output_type": "stream",
     "text": [
      "724.44 nm\n",
      "579.55 nm\n",
      "482.96 nm\n",
      "413.97 nm\n"
     ]
    }
   ],
   "source": [
    "def Wien(T):\n",
    "    return 2.8977729e-3/T #m/K\n",
    "\n",
    "lambda_max= []\n",
    "for i in temperature:\n",
    "    j = Wien(i)\n",
    "    lambda_max.append(j)\n",
    "    print('{:.2f} nm'.format(j*1e9))\n",
    "#print('{}'.format(lambda_max*1e6))"
   ]
  },
  {
   "cell_type": "code",
   "execution_count": 9,
   "metadata": {},
   "outputs": [],
   "source": [
    "import pandas as pd\n",
    "\n",
    "d = pd.Series(wavelengths)\n",
    "df = pd.DataFrame(wavelengths)\n",
    "d1 = pd.Series(I[0])\n",
    "d2 = pd.Series(I[1])\n",
    "d3 = pd.Series(I[2])\n",
    "d4 = pd.Series(I[3])\n",
    "\n",
    "df['I1'] = pd.DataFrame(d1) \n",
    "df['I2'] = pd.DataFrame(d2)\n",
    "df['I3'] = pd.DataFrame(d3)\n",
    "df['I4'] = pd.DataFrame(d4)\n",
    "\n",
    "df.columns = ['w','I1','I2','I3','I4']\n",
    "df.tail()\n",
    "\n",
    "w, I1, I2, I3, I4 = df.w, df.I1, df.I2, df.I3, df.I4"
   ]
  },
  {
   "cell_type": "markdown",
   "metadata": {},
   "source": [
    "Let's determine the $\\lambda_{max}$"
   ]
  },
  {
   "cell_type": "code",
   "execution_count": 10,
   "metadata": {},
   "outputs": [
    {
     "data": {
      "text/html": [
       "<div>\n",
       "<style>\n",
       "    .dataframe thead tr:only-child th {\n",
       "        text-align: right;\n",
       "    }\n",
       "\n",
       "    .dataframe thead th {\n",
       "        text-align: left;\n",
       "    }\n",
       "\n",
       "    .dataframe tbody tr th {\n",
       "        vertical-align: top;\n",
       "    }\n",
       "</style>\n",
       "<table border=\"1\" class=\"dataframe\">\n",
       "  <thead>\n",
       "    <tr style=\"text-align: right;\">\n",
       "      <th></th>\n",
       "      <th>I_max</th>\n",
       "      <th>wav_max</th>\n",
       "    </tr>\n",
       "  </thead>\n",
       "  <tbody>\n",
       "    <tr>\n",
       "      <th>0</th>\n",
       "      <td>4.175620e+12</td>\n",
       "      <td>7.250000e-07</td>\n",
       "    </tr>\n",
       "    <tr>\n",
       "      <th>1</th>\n",
       "      <td>1.274298e+13</td>\n",
       "      <td>5.800000e-07</td>\n",
       "    </tr>\n",
       "    <tr>\n",
       "      <th>2</th>\n",
       "      <td>3.170855e+13</td>\n",
       "      <td>4.840000e-07</td>\n",
       "    </tr>\n",
       "    <tr>\n",
       "      <th>3</th>\n",
       "      <td>6.853465e+13</td>\n",
       "      <td>4.140000e-07</td>\n",
       "    </tr>\n",
       "  </tbody>\n",
       "</table>\n",
       "</div>"
      ],
      "text/plain": [
       "          I_max       wav_max\n",
       "0  4.175620e+12  7.250000e-07\n",
       "1  1.274298e+13  5.800000e-07\n",
       "2  3.170855e+13  4.840000e-07\n",
       "3  6.853465e+13  4.140000e-07"
      ]
     },
     "execution_count": 10,
     "metadata": {},
     "output_type": "execute_result"
    }
   ],
   "source": [
    "I_max = np.array((max(I1), max(I2), max(I3), max(I4)), dtype=float)\n",
    "wav_max =  np.array((w[I1.idxmax], w[I2.idxmax], w[I3.idxmax], w[I4.idxmax]), dtype=float)\n",
    "w1 = pd.Series(I_max)\n",
    "w2 = pd.Series(wav_max)\n",
    "df2 = pd.DataFrame(w1)\n",
    "df2['wav_max'] = pd.DataFrame(w2)\n",
    "df2.columns = ['I_max','wav_max']\n",
    "df2"
   ]
  },
  {
   "cell_type": "markdown",
   "metadata": {},
   "source": [
    "#colors = ['r-', 'g-', 'b-', 'k-']\n",
    "ax = plt.plot(df)\n",
    "plt.ylabel('Intensity (J m$^{-2}$ sr$^{-1}$ Hz$^{-1}$)')\n",
    "plt.xlabel('$\\lambda$ (nm)')\n",
    "plt.legend([i for i in temperature])\n",
    "#plt.legend(df.columns[1:])\n",
    "plt.vlines(x=wav_max*1e9, ymin=0, ymax=I_max, color='k')\n",
    "plt.show()"
   ]
  },
  {
   "cell_type": "markdown",
   "metadata": {},
   "source": [
    "There's a problem with label colors. I will rather use the former plotting method."
   ]
  },
  {
   "cell_type": "code",
   "execution_count": 11,
   "metadata": {
    "scrolled": false
   },
   "outputs": [
    {
     "data": {
      "image/png": "[encoded data removed]",
      "text/plain": [
       "<matplotlib.figure.Figure at 0x7fad2d5a7290>"
      ]
     },
     "metadata": {},
     "output_type": "display_data"
    }
   ],
   "source": [
    "colors = ['r-', 'g-', 'b-', 'm-']\n",
    "counter = 0\n",
    "for j,c in zip(I,colors):\n",
    "    plt.plot(wavelengths*1e9, j, c, label='T={}K'.format(temperature[counter]))\n",
    "    counter+=1\n",
    "    plt.ylabel('Intensity (J m$^{-2}$ sr$^{-1}$ Hz$^{-1}$)')\n",
    "plt.vlines(x=wav_max*1e9, ymin=0, ymax=I_max, color='k', linestyles='dotted')\n",
    "plt.xlabel('$\\lambda$ (nm)')\n",
    "for i,j in zip(wav_max, I_max):\n",
    "    plt.text(i, j, r'$\\lambda$={:.0f} nm'.format(i*1e9), fontsize=10)\n",
    "plt.legend()\n",
    "plt.show()"
   ]
  },
  {
   "cell_type": "markdown",
   "metadata": {},
   "source": [
    "Make plotting interactive"
   ]
  },
  {
   "cell_type": "code",
   "execution_count": 12,
   "metadata": {},
   "outputs": [
    {
     "name": "stderr",
     "output_type": "stream",
     "text": [
      "Widget Javascript not detected.  It may not be installed or enabled properly.\n"
     ]
    },
    {
     "data": {
      "application/vnd.jupyter.widget-view+json": {
       "model_id": "8fd519fdeff84406a306017a1d18961b"
      }
     },
     "metadata": {},
     "output_type": "display_data"
    }
   ],
   "source": [
    "from __future__ import print_function\n",
    "from ipywidgets import interact, interactive, fixed\n",
    "import ipywidgets as widgets\n",
    "\n",
    "h = 6.626e-34\n",
    "c = 3.0e+8\n",
    "k = 1.38e-23\n",
    "\n",
    "def Wien(T):\n",
    "    return 2.8977729e-3/T #m/K\n",
    "\n",
    "def plotBB(temp):\n",
    "    fig, ax = plt.subplots(nrows=1, ncols=1, figsize=(8,5))\n",
    "    ax.set_xlabel('$\\lambda$ (nm)')\n",
    "    ax.set_ylabel('Intensity (J . m$^{-2}$ sr$^{-1}$ Hz$^{-1}$)')\n",
    "    ax.set_xlim(0,3000)\n",
    "    ax.set_ylim(0,8e13)\n",
    "    ax.set_title('Blackbody curve of a star')\n",
    "    ax.plot(wavelengths*1e9, planck(wavelengths, temp), label='T={}K'.format(temp))\n",
    "    wav_peak=Wien(temp)\n",
    "    I_peak=planck(Wien(temp), temp)\n",
    "    ax.vlines(x=wav_peak*1e9, ymin=0, ymax=I_peak, color='k', linestyles='dotted')\n",
    "    ax.text(wav_peak, I_peak, r'$\\lambda$={:.0f} nm'.format(wav_peak*1e9), fontsize=10, horizontalalignment='left')\n",
    "    \n",
    "    plt.legend()\n",
    "    plt.show()\n",
    "interact(plotBB, temp=(5000,7000,100));"
   ]
  },
  {
   "cell_type": "markdown",
   "metadata": {},
   "source": [
    "Theoretical models of disks undergoing the accretion of mass from an infalling cloud envelope predict disk temperatures in good agreement with these constraints: a moderately warm (500–1500 K) inner disk, surrounded by a cool (50–150 K) outer disk (Boss, 1998)."
   ]
  },
  {
   "cell_type": "markdown",
   "metadata": {},
   "source": [
    "I_sum = [x + y for x, y in zip(I_disk[0], I_disk[1])]\n",
    "len(I_sum)"
   ]
  },
  {
   "cell_type": "code",
   "execution_count": 13,
   "metadata": {
    "scrolled": false
   },
   "outputs": [
    {
     "data": {
      "image/png": "[encoded data removed]",
      "text/plain": [
       "<matplotlib.figure.Figure at 0x7fad3337ac10>"
      ]
     },
     "metadata": {},
     "output_type": "display_data"
    },
    {
     "name": "stdout",
     "output_type": "stream",
     "text": [
      "contrast=4.83e-07\n"
     ]
    }
   ],
   "source": [
    "h = 6.626e-34\n",
    "c = 3.0e+8\n",
    "k = 1.38e-23\n",
    "\n",
    "temp_disk = [5.5e3, 2*1.5e2] #inner and outer disk in K\n",
    "wavelengths = np.arange(0.1e-6, 30e-6, 1e-9)  #towards infrared region\n",
    "\n",
    "I_disk=[]\n",
    "for idx in temp_disk:\n",
    "    I2 = planck(wavelengths, idx)\n",
    "    I_disk.append(I2)\n",
    "\n",
    "#Sum of 2 intensities\n",
    "I_sum = I_disk[0]+I_disk[1]\n",
    "\n",
    "colors = ['r-', 'g-', 'b-', 'm-']\n",
    "counter = 0\n",
    "\n",
    "#ax, fig = subplots(1,2,figsize=(15,4))\n",
    "for j,c in zip(I_disk,colors):\n",
    "    plt.plot(wavelengths*1e6, j, c, label='T={}K'.format(temp_disk[counter]))\n",
    "    counter+=1\n",
    "\n",
    "plt.plot(wavelengths*1e6, I_sum, 'k--', label='sum')\n",
    "plt.ylabel('Intensity (J m$^{-2}$ sr$^{-1}$ Hz$^{-1}$)')\n",
    "#plt.vlines(x=wav_max*1e9, ymin=0, ymax=I_max, color='k', linestyles='dotted')\n",
    "plt.xlabel('$\\lambda$ ($\\mu$m)')\n",
    "#for i,j in zip(wav_max, I_max):\n",
    "#    plt.text(i, j, r'$\\lambda$={:.0f} nm'.format(i*1e9), fontsize=12)\n",
    "plt.yscale('log')\n",
    "#plt.xscale('log')\n",
    "plt.legend()\n",
    "plt.ylim([1e4,1e14])\n",
    "plt.show()\n",
    "\n",
    "contrast = max(I_disk[1])/max(I_disk[0])\n",
    "print('contrast={0:.2e}'.format(contrast))"
   ]
  },
  {
   "cell_type": "markdown",
   "metadata": {},
   "source": [
    "The contribution of the disk to the total spectrum (black dotted lines) is very small such that the difference between the star and the sum spectra negligible. \n",
    "\n",
    "Now, we wish to reproduce the bump or excess in the infrared in Spectral Energy Distribution (SED) observed among YSOs."
   ]
  },
  {
   "cell_type": "code",
   "execution_count": 14,
   "metadata": {
    "scrolled": false
   },
   "outputs": [
    {
     "data": {
      "image/png": "[encoded data removed]",
      "text/plain": [
       "<matplotlib.figure.Figure at 0x7fad5cc04790>"
      ]
     },
     "metadata": {},
     "output_type": "display_data"
    },
    {
     "name": "stdout",
     "output_type": "stream",
     "text": [
      "contrast=6.21e-06\n"
     ]
    }
   ],
   "source": [
    "h = 6.626e-34\n",
    "c = 3.0e+8\n",
    "k = 1.38e-23\n",
    "\n",
    "temp_disk = [5.5e3, 5e2] #inner and outer disk in K\n",
    "wavelengths = np.arange(0.1e-6, 30e-6, 1e-9)  #towards infrared region\n",
    "\n",
    "I_disk=[]\n",
    "for idx in temp_disk:\n",
    "    I2 = planck(wavelengths, idx)\n",
    "    I_disk.append(I2)\n",
    "\n",
    "#offset the disk/planet's SED to produce bump redward of star's SED\n",
    "offset=1e2\n",
    "\n",
    "#Sum of 2 intensities\n",
    "I_sum = I_disk[0]+I_disk[1]*offset\n",
    "\n",
    "colors = ['r-', 'g-', 'b-', 'm-']\n",
    "counter = 0\n",
    "\n",
    "#ax, fig = subplots(1,2,figsize=(15,4))\n",
    "for j,c in zip(I_disk,colors):\n",
    "    plt.plot(wavelengths*1e6, j, c, label='T={}K'.format(temp_disk[counter]))\n",
    "    counter+=1\n",
    "\n",
    "plt.plot(wavelengths*1e6, I_sum, 'k--', label='sum')\n",
    "plt.ylabel('Intensity (J m$^{-2}$ sr$^{-1}$ Hz$^{-1}$)')\n",
    "#plt.vlines(x=wav_max*1e9, ymin=0, ymax=I_max, color='k', linestyles='dotted')\n",
    "plt.xlabel('$\\lambda$ ($\\mu$m)')\n",
    "#for i,j in zip(wav_max, I_max):\n",
    "#    plt.text(i, j, r'$\\lambda$={:.0f} nm'.format(i*1e9), fontsize=12)\n",
    "plt.yscale('log')\n",
    "#plt.xscale('log')\n",
    "plt.legend()\n",
    "plt.ylim([1e4,1e14])\n",
    "plt.show()\n",
    "\n",
    "contrast = max(I_disk[1])/max(I_disk[0])\n",
    "print('contrast={0:.2e}'.format(contrast))"
   ]
  },
  {
   "cell_type": "code",
   "execution_count": 15,
   "metadata": {},
   "outputs": [
    {
     "name": "stderr",
     "output_type": "stream",
     "text": [
      "Widget Javascript not detected.  It may not be installed or enabled properly.\n"
     ]
    },
    {
     "data": {
      "application/vnd.jupyter.widget-view+json": {
       "model_id": "ce9627982892412d872f25b5d82ffc1c"
      }
     },
     "metadata": {},
     "output_type": "display_data"
    }
   ],
   "source": [
    "from __future__ import print_function\n",
    "from ipywidgets import interact, interactive, fixed\n",
    "import ipywidgets as widgets\n",
    "\n",
    "h = 6.626e-34\n",
    "c = 3.0e+8\n",
    "k = 1.38e-23\n",
    "\n",
    "wavelengths = np.arange(0.1e-6, 30e-6, 1e-9)  #towards infrared region\n",
    "\n",
    "def Wien(T):\n",
    "    return 2.8977729e-3/T #m/K\n",
    "\n",
    "def plotBB(t_star, t_disk, disk_offset):\n",
    "    fig, ax = plt.subplots(nrows=1, ncols=1, figsize=(8,5))\n",
    "    ax.set_xlabel('$\\lambda$ ($\\mu$m)')\n",
    "    ax.set_ylabel('Intensity (J . m$^{-2}$ sr$^{-1}$ Hz$^{-1}$)')\n",
    "    ax.set_xlim(0,15)\n",
    "    ax.set_ylim(1e7,1e14)\n",
    "    ax.set_title('Blackbody curves of a star+disk')\n",
    "    ax.plot(wavelengths*1e6, planck(wavelengths, t_star), 'b-', label='T$_s$={}K'.format(t_star))\n",
    "    ax.plot(wavelengths*1e6, planck(wavelengths, t_disk), 'r-', label='T$_d$={}K'.format(t_disk))\n",
    "    I_sum=planck(wavelengths, t_star)+planck(wavelengths, t_disk)*disk_offset\n",
    "    ax.plot(wavelengths*1e6, I_sum, 'k--', label='sum')\n",
    "    wav_peak_star=Wien(t_star)\n",
    "    wav_peak_disk=Wien(t_disk)\n",
    "    I_peak_star=planck(Wien(t_star), t_star)\n",
    "    I_peak_disk=planck(Wien(t_disk), t_disk)\n",
    "    ax.vlines(x=wav_peak_star*1e6, ymin=0, ymax=I_peak_star, color='k', linestyles='dotted')\n",
    "    ax.vlines(x=wav_peak_disk*1e6, ymin=0, ymax=I_peak_disk, color='k', linestyles='dotted')\n",
    "    ax.text(wav_peak_star, I_peak_star, r'$\\lambda$={:.0f} nm'.format(wav_peak_star*1e9), fontsize=10)\n",
    "    ax.text(wav_peak_disk, I_peak_disk, r'$\\lambda$={:.0f} nm'.format(wav_peak_disk*1e9), fontsize=10)\n",
    "    ax.set_yscale('log')\n",
    "    plt.legend()\n",
    "    plt.show()\n",
    "interact(plotBB, t_star=(5000,7000,100), t_disk=(150,1500,50), disk_offset=(0,1000,100));"
   ]
  },
  {
   "cell_type": "markdown",
   "metadata": {},
   "source": [
    "The temperature range T=150-1500 K corresponds to the higher limits of the inner and outer disk temperatures, respectively."
   ]
  },
  {
   "cell_type": "markdown",
   "metadata": {},
   "source": [
    "## YSO Classes"
   ]
  },
  {
   "cell_type": "markdown",
   "metadata": {},
   "source": [
    "Low-mass protostars have been grouped into an evolutionary sequence (fig.1.2), Class 0 to Class III, on the basis of their spectral energy distributions (SEDs) (e.g., Lada et al. 1987; André et al. 1993). Class 0 represents the earliest evolutional stage of the star formation, while Class III is the most evolved to being on the main sequence. Lada et al. (1987) have performed quantitative classifications of Class 0 to Class III by defining the **spectral index** parameterized by α based on NIR and MIR emission:\n",
    "$$\n",
    "\\alpha_{\\lambda}= \\frac{d\\log(\\lambda F_{\\lambda})}{d\\log(\\lambda)}\n",
    "$$\n",
    "For class I sources 0 $\\leq \\alpha \\lesssim$ 3, for class II sources of −2 $\\lesssim \\alpha \\lesssim$ 0, for class III sources of −3 $\\lesssim \\alpha \\lesssim$ −2.\n",
    "Since class 0 sources are not detected at the NIR, the spectral index of $\\alpha$ for the class 0 sources are not\n",
    "defined. The characteristics of each class is as follows.\n",
    "\n",
    "* Class 0 stage — the earliest stage of the star formation with SEDs that resemble black-bodies with T $\\lesssim$ 30K (André et al. 1993). The luminosity during this early phase is supplied by gravity, which compresses the gas and dust in the molecular cloud into higher density. Since the majority of mass resides in the infalling envelope, these sources are so cool and their envelopes are also so thick that they are **not seen at NIR & MIR** (André et al. 1993). They are **only seen at the wavelengths longer than FIR**, i.e., sub-mm and/or mm continuum radiation (André et al. 1993). The age in this stage is $\\sim$ 10$^4$ yr.\n",
    "\n",
    "* Class I stage — the most luminous at **FIR** around 100 μm (Lada et al. 1987). Since powerful molecular outflows are associated with these objects, bipolar cavities excavated by outflows are seen at NIR wavelengths (e.g., Tamura et al. 1991). The age of the class I stage is $\\sim$ 10$^5$ yr. \n",
    "\n",
    "* Class II stage — the most luminous at **NIR**. The SEDs show flat or decreasing trends at wavelengths longer than NIR (Lada et al. 1987), and thus, these objects show **infrared excesses** more than expected from a stellar photosphere. This signature is due to an **accretion disk** surrounding the central star. Another signature of these sources is to have a strong, broad, asymmetric Hα profile due to high velocities in a nearly free-falling flow (e.g., Hartmann et al. 1994). CO outflows are no longer present. Class II sources correspond to **classical T Tauri stars (CTTS)** and have an age of $\\sim 10^6$ yr.\n",
    "\n",
    "* Class III stage — corresponds to **weak-lined T Tauri stars**. Young stars with H$\\alpha$ equivalent widths of $\\gtrsim$ 10 Å are classified as classical T Tauri stars, while young stars with those of $\\lesssim$ 10 Å are classified as weak-lined T Tauri stars. Since central stars are surrounded by thin disks, their SEDs approach those of a stellar photosphere. These sources are at the most evolved stage and the age is $\\sim 10^7$ yr."
   ]
  },
  {
   "cell_type": "markdown",
   "metadata": {},
   "source": [
    "The specific intensity is derived by considering amount of energy $dE$ which is equal to the intensity of a ray of radiation at a frequency $nu$ passing through a surface area element $dA$ within a solid angle $d\\omega$, at an angle $\\theta$ from the normal of the surface, at time $dt$\n",
    "$$\n",
    "dE = I_{\\nu} \\cos\\theta dA d\\omega dt\n",
    "$$\n",
    "Total intensity $I$ is derived by integrating over all frequencies\n",
    "$$\n",
    "I = \\int_0^{\\infty} {I_{\\nu}d\\nu}. \n",
    "$$\n",
    "The flux or flux density gives the power of the radiation per unit area:\n",
    "$$\n",
    "F_{\\nu} = \\frac{I_{\\nu}}{4\\pi r^2}\n",
    "$$\n",
    "with units [W m$^{-2}$ Hz $^{-1}$ or W m$^{-2}$].\n",
    "Note that the luminosity is given by \n",
    "$$\n",
    "L = 4\\pi r^2 F\n",
    "$$\n",
    "(which is the total intensity?).\n",
    "The surface brightness is defined as the flux density (and hence independent of distance from observer).\n",
    "\n",
    "To compute the $spectral index, \\alpha$, we need to compute $I_{\\nu}$ (at specific $\\nu$ or $\\lambda$) and divide by the surface area $4\\pi r^2$."
   ]
  },
  {
   "cell_type": "code",
   "execution_count": null,
   "metadata": {
    "collapsed": true
   },
   "outputs": [],
   "source": []
  }
 ],
 "metadata": {
  "kernelspec": {
   "display_name": "Python 2",
   "language": "python",
   "name": "python2"
  },
  "language_info": {
   "codemirror_mode": {
    "name": "ipython",
    "version": 2
   },
   "file_extension": ".py",
   "mimetype": "text/x-python",
   "name": "python",
   "nbconvert_exporter": "python",
   "pygments_lexer": "ipython2",
   "version": "2.7.13"
  },
  "widgets": {
   "state": {
    "03e8e1a690b542629d5f68b8b0e007fa": {
     "views": [
      {
       "cell_index": 15
      }
     ]
    },
    "29bc791ace6643dc8a6d28eb8bf46899": {
     "views": [
      {
       "cell_index": 5
      }
     ]
    },
    "99fff4ad97ff4d37bdb66a03237b3a54": {
     "views": [
      {
       "cell_index": 21
      }
     ]
    }
   },
   "version": "1.2.0"
  }
 },
 "nbformat": 4,
 "nbformat_minor": 1
}
