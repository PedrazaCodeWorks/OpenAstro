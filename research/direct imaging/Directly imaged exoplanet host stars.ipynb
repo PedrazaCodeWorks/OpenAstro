{
 "cells": [
  {
   "cell_type": "markdown",
   "metadata": {},
   "source": [
    "# K2FOV\n",
    "\n",
    "Check whether targets are in the field of view of NASA's K2 mission.\n",
    "\n",
    "* [code](https://github.com/KeplerGO/K2fov)"
   ]
  },
  {
   "cell_type": "raw",
   "metadata": {},
   "source": [
    "GQ Lup: 15 49 12.102 -35 39 05.12\n",
    "DH Tau: 04 29 41.66 +26 32 56.5\n",
    "SR 12 AB: 16 27 19.512 -24 41 40.39\n",
    "CT Cha: 11 04 09.090 -76 27 19.38\n",
    "CHXR 73: 11 06 28.774 -77 37 33.16\n",
    "UScoCTIO 108: 16 05 54.08 -18 18 44.4\n",
    "HD 100546: 11 33 25.44058 -70 11 41.2363 \n",
    "AB Pic: 06 19 12.914 -58 03 15.53\n",
    "2MASS 0103 AB: 01 03 35.654 -55 15 56.23\n",
    "ROXs 42: 16 31 14.318 -24 34 15.05\n",
    "HR 8799: 23 07 28.715 +21 08 03.31"
   ]
  },
  {
   "cell_type": "code",
   "execution_count": 1,
   "metadata": {},
   "outputs": [
    {
     "name": "stdout",
     "output_type": "stream",
     "text": [
      "Collecting K2fov\n",
      "  Downloading K2fov-6.2.0.tar.gz (49kB)\n",
      "\u001b[K    100% |████████████████████████████████| 51kB 575kB/s ta 0:00:01\n",
      "\u001b[?25hRequirement already satisfied: numpy>=1.8 in /home/jp/miniconda2/lib/python2.7/site-packages (from K2fov)\n",
      "Building wheels for collected packages: K2fov\n",
      "  Running setup.py bdist_wheel for K2fov ... \u001b[?25ldone\n",
      "\u001b[?25h  Stored in directory: /home/jp/.cache/pip/wheels/00/e9/14/4f7f6d6d1fbcd183e049f29b2c3e161d63132b423aface8318\n",
      "Successfully built K2fov\n",
      "Installing collected packages: K2fov\n",
      "Successfully installed K2fov-6.2.0\n"
     ]
    }
   ],
   "source": [
    "!pip install K2fov"
   ]
  },
  {
   "cell_type": "markdown",
   "metadata": {},
   "source": [
    "First, query RA and DEC using [astroquery](http://astroquery.readthedocs.io/en/latest/index.html) given list of identifiers."
   ]
  },
  {
   "cell_type": "code",
   "execution_count": 2,
   "metadata": {},
   "outputs": [
    {
     "name": "stdout",
     "output_type": "stream",
     "text": [
      "Collecting astroquery\n",
      "  Downloading astroquery-0.3.5.tar.gz (2.9MB)\n",
      "\u001b[K    100% |████████████████████████████████| 2.9MB 395kB/s ta 0:00:01\n",
      "\u001b[?25hRequirement already satisfied: astropy>=0.4.1 in /home/jp/miniconda2/lib/python2.7/site-packages (from astroquery)\n",
      "Requirement already satisfied: requests>=2.4.3 in /home/jp/miniconda2/lib/python2.7/site-packages (from astroquery)\n",
      "Collecting keyring>=4.0 (from astroquery)\n",
      "  Downloading keyring-10.3.2-py2.py3-none-any.whl\n",
      "Collecting beautifulsoup4>=4.3.2 (from astroquery)\n",
      "  Downloading beautifulsoup4-4.6.0-py2-none-any.whl (86kB)\n",
      "\u001b[K    100% |████████████████████████████████| 92kB 1.5MB/s ta 0:00:011\n",
      "\u001b[?25hRequirement already satisfied: html5lib>=0.999 in /home/jp/miniconda2/lib/python2.7/site-packages (from astroquery)\n",
      "Requirement already satisfied: numpy>=1.7.0 in /home/jp/miniconda2/lib/python2.7/site-packages (from astropy>=0.4.1->astroquery)\n",
      "Collecting secretstorage; sys_platform == \"linux2\" or sys_platform == \"linux\" (from keyring>=4.0->astroquery)\n",
      "  Downloading SecretStorage-2.3.1.tar.gz\n",
      "Requirement already satisfied: cryptography in /home/jp/miniconda2/lib/python2.7/site-packages (from secretstorage; sys_platform == \"linux2\" or sys_platform == \"linux\"->keyring>=4.0->astroquery)\n",
      "Requirement already satisfied: idna>=2.0 in /home/jp/miniconda2/lib/python2.7/site-packages (from cryptography->secretstorage; sys_platform == \"linux2\" or sys_platform == \"linux\"->keyring>=4.0->astroquery)\n",
      "Requirement already satisfied: pyasn1>=0.1.8 in /home/jp/miniconda2/lib/python2.7/site-packages (from cryptography->secretstorage; sys_platform == \"linux2\" or sys_platform == \"linux\"->keyring>=4.0->astroquery)\n",
      "Requirement already satisfied: six>=1.4.1 in /home/jp/miniconda2/lib/python2.7/site-packages (from cryptography->secretstorage; sys_platform == \"linux2\" or sys_platform == \"linux\"->keyring>=4.0->astroquery)\n",
      "Requirement already satisfied: setuptools>=11.3 in /home/jp/miniconda2/lib/python2.7/site-packages/setuptools-27.2.0-py2.7.egg (from cryptography->secretstorage; sys_platform == \"linux2\" or sys_platform == \"linux\"->keyring>=4.0->astroquery)\n",
      "Requirement already satisfied: enum34 in /home/jp/miniconda2/lib/python2.7/site-packages (from cryptography->secretstorage; sys_platform == \"linux2\" or sys_platform == \"linux\"->keyring>=4.0->astroquery)\n",
      "Requirement already satisfied: ipaddress in /home/jp/miniconda2/lib/python2.7/site-packages (from cryptography->secretstorage; sys_platform == \"linux2\" or sys_platform == \"linux\"->keyring>=4.0->astroquery)\n",
      "Requirement already satisfied: cffi>=1.4.1 in /home/jp/miniconda2/lib/python2.7/site-packages (from cryptography->secretstorage; sys_platform == \"linux2\" or sys_platform == \"linux\"->keyring>=4.0->astroquery)\n",
      "Requirement already satisfied: pycparser in /home/jp/miniconda2/lib/python2.7/site-packages (from cffi>=1.4.1->cryptography->secretstorage; sys_platform == \"linux2\" or sys_platform == \"linux\"->keyring>=4.0->astroquery)\n",
      "Building wheels for collected packages: astroquery, secretstorage\n",
      "  Running setup.py bdist_wheel for astroquery ... \u001b[?25ldone\n",
      "\u001b[?25h  Stored in directory: /home/jp/.cache/pip/wheels/63/f4/0f/da55c4674f6f56b81bc3b811157f8c3be1c8d335919cee1646\n",
      "  Running setup.py bdist_wheel for secretstorage ... \u001b[?25ldone\n",
      "\u001b[?25h  Stored in directory: /home/jp/.cache/pip/wheels/c7/58/c5/d09bed2136a4e88ed403f68c91f86293b46eecb719c00ef0d6\n",
      "Successfully built astroquery secretstorage\n",
      "Installing collected packages: secretstorage, keyring, beautifulsoup4, astroquery\n",
      "Successfully installed astroquery-0.3.5 beautifulsoup4-4.6.0 keyring-10.3.2 secretstorage-2.3.1\n"
     ]
    }
   ],
   "source": [
    "!pip install astroquery"
   ]
  },
  {
   "cell_type": "markdown",
   "metadata": {},
   "source": [
    "List of directly imaged exoplanet host stars"
   ]
  },
  {
   "cell_type": "code",
   "execution_count": 21,
   "metadata": {},
   "outputs": [
    {
     "name": "stderr",
     "output_type": "stream",
     "text": [
      "/home/jp/miniconda2/lib/python2.7/site-packages/astroquery/simbad/core.py:136: UserWarning: Warning: The script line number 3 raised an error (recorded in the `errors` attribute of the result table): Identifier not found in the database : NAME CXHR 73\n",
      "  (error.line, error.msg))\n"
     ]
    },
    {
     "name": "stdout",
     "output_type": "stream",
     "text": [
      "Error in CXHR 73\n"
     ]
    },
    {
     "name": "stderr",
     "output_type": "stream",
     "text": [
      "/home/jp/miniconda2/lib/python2.7/site-packages/astroquery/simbad/core.py:136: UserWarning: Warning: The script line number 3 raised an error (recorded in the `errors` attribute of the result table): Identifier not found in the database : NAME USCoTIO 108\n",
      "  (error.line, error.msg))\n"
     ]
    },
    {
     "name": "stdout",
     "output_type": "stream",
     "text": [
      "Error in USCoTIO 108\n"
     ]
    }
   ],
   "source": [
    "from astroquery.simbad import Simbad\n",
    "import time\n",
    "\n",
    "ra, dec = [], []\n",
    "\n",
    "#2MASS J01033563-5515561 = UCA3\n",
    "DI_list = ['GQ Lup','DH Tau','SR 12 AB', 'CT Cha', 'CXHR 73', \n",
    "        'USCoTIO 108', 'HD 100546', 'AB Pic', 'UCAC3 70-2386', \n",
    "        'ROXs 42 B', 'HR 8799']\n",
    "\n",
    "for i in DI_list:\n",
    "    try:\n",
    "        result_table = Simbad.query_object(i)\n",
    "        #time.sleep(1.0) # seconds\n",
    "        ra.append(str(result_table['RA'][0]))\n",
    "        dec.append(str(result_table['DEC'][0]))\n",
    "    except, Exception as e:\n",
    "        print('Error:\\n {}\\n in {}'.format(i))"
   ]
  },
  {
   "cell_type": "code",
   "execution_count": 23,
   "metadata": {},
   "outputs": [
    {
     "data": {
      "text/html": [
       "&lt;Table masked=True length=1&gt;\n",
       "<table id=\"table140087623141584\" class=\"table-striped table-bordered table-condensed\">\n",
       "<thead><tr><th>MAIN_ID</th><th>RA</th><th>DEC</th><th>RA_PREC</th><th>DEC_PREC</th><th>COO_ERR_MAJA</th><th>COO_ERR_MINA</th><th>COO_ERR_ANGLE</th><th>COO_QUAL</th><th>COO_WAVELENGTH</th><th>COO_BIBCODE</th></tr></thead>\n",
       "<thead><tr><th></th><th>&quot;h:m:s&quot;</th><th>&quot;d:m:s&quot;</th><th></th><th></th><th>mas</th><th>mas</th><th>deg</th><th></th><th></th><th></th></tr></thead>\n",
       "<thead><tr><th>object</th><th>unicode13</th><th>unicode13</th><th>int16</th><th>int16</th><th>float32</th><th>float32</th><th>int16</th><th>unicode1</th><th>unicode1</th><th>object</th></tr></thead>\n",
       "<tr><td>HD 218396</td><td>23 07 28.7150</td><td>+21 08 03.305</td><td>9</td><td>9</td><td>5.280</td><td>4.050</td><td>91</td><td>A</td><td>O</td><td>2007A&amp;A...474..653V</td></tr>\n",
       "</table>"
      ],
      "text/plain": [
       "<Table masked=True length=1>\n",
       " MAIN_ID        RA           DEC      ... COO_WAVELENGTH     COO_BIBCODE    \n",
       "             \"h:m:s\"       \"d:m:s\"    ...                                   \n",
       "  object    unicode13     unicode13   ...    unicode1           object      \n",
       "--------- ------------- ------------- ... -------------- -------------------\n",
       "HD 218396 23 07 28.7150 +21 08 03.305 ...              O 2007A&A...474..653V"
      ]
     },
     "execution_count": 23,
     "metadata": {},
     "output_type": "execute_result"
    }
   ],
   "source": [
    "result_table"
   ]
  },
  {
   "cell_type": "code",
   "execution_count": 31,
   "metadata": {
    "collapsed": true
   },
   "outputs": [],
   "source": [
    "from astroquery.vizier import Vizier\n",
    "v = Vizier(columns=['_RAJ2000', '_DEJ2000','B-V', 'R', 'Plx'],\n",
    "           keywords=[\"optical\"])\n",
    "\n",
    "result = v.query_object(\"DH Tau\", catalog=[\"NOMAD\", \"UCAC\"])"
   ]
  },
  {
   "cell_type": "code",
   "execution_count": 32,
   "metadata": {},
   "outputs": [
    {
     "data": {
      "text/html": [
       "&lt;Table masked=True length=7&gt;\n",
       "<table id=\"table140087612085584\" class=\"table-striped table-bordered table-condensed\">\n",
       "<thead><tr><th>_RAJ2000</th><th>_DEJ2000</th></tr></thead>\n",
       "<thead><tr><th>deg</th><th>deg</th></tr></thead>\n",
       "<thead><tr><th>float64</th><th>float64</th></tr></thead>\n",
       "<tr><td>67.392489</td><td>26.548159</td></tr>\n",
       "<tr><td>67.400998</td><td>26.573188</td></tr>\n",
       "<tr><td>67.409504</td><td>26.561010</td></tr>\n",
       "<tr><td>67.410037</td><td>26.575033</td></tr>\n",
       "<tr><td>67.411391</td><td>26.521959</td></tr>\n",
       "<tr><td>67.423154</td><td>26.549489</td></tr>\n",
       "<tr><td>67.426989</td><td>26.546995</td></tr>\n",
       "</table>"
      ],
      "text/plain": [
       "<Table masked=True length=7>\n",
       " _RAJ2000   _DEJ2000 \n",
       "   deg        deg    \n",
       " float64    float64  \n",
       "---------- ----------\n",
       " 67.392489  26.548159\n",
       " 67.400998  26.573188\n",
       " 67.409504  26.561010\n",
       " 67.410037  26.575033\n",
       " 67.411391  26.521959\n",
       " 67.423154  26.549489\n",
       " 67.426989  26.546995"
      ]
     },
     "execution_count": 32,
     "metadata": {},
     "output_type": "execute_result"
    }
   ],
   "source": [
    "result['I/322A/out']"
   ]
  },
  {
   "cell_type": "code",
   "execution_count": null,
   "metadata": {
    "collapsed": true
   },
   "outputs": [],
   "source": []
  }
 ],
 "metadata": {
  "kernelspec": {
   "display_name": "Python 2",
   "language": "python",
   "name": "python2"
  },
  "language_info": {
   "codemirror_mode": {
    "name": "ipython",
    "version": 2
   },
   "file_extension": ".py",
   "mimetype": "text/x-python",
   "name": "python",
   "nbconvert_exporter": "python",
   "pygments_lexer": "ipython2",
   "version": "2.7.13"
  }
 },
 "nbformat": 4,
 "nbformat_minor": 2
}
