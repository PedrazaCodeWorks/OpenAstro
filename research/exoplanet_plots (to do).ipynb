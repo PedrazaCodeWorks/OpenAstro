{
 "cells": [
  {
   "cell_type": "code",
   "execution_count": 1,
   "metadata": {
    "collapsed": false,
    "deletable": true,
    "editable": true
   },
   "outputs": [
    {
     "name": "stdout",
     "output_type": "stream",
     "text": [
      "Last accessed on: 2017-06-22 19:27:02.800658\n"
     ]
    }
   ],
   "source": [
    "from datetime import datetime as dt\n",
    "print('Last accessed on: {}'.format(dt.now()))"
   ]
  },
  {
   "cell_type": "code",
   "execution_count": 2,
   "metadata": {
    "collapsed": false,
    "deletable": true,
    "editable": true
   },
   "outputs": [
    {
     "data": {
      "text/html": [
       "<script>\n",
       "code_show=true; \n",
       "function code_toggle() {\n",
       " if (code_show){\n",
       " $('div.input').hide();\n",
       " } else {\n",
       " $('div.input').show();\n",
       " }\n",
       " code_show = !code_show\n",
       "} \n",
       "$( document ).ready(code_toggle);\n",
       "</script>\n",
       "<form action=\"javascript:code_toggle()\"><input type=\"submit\" value=\"Click here to toggle on/off the raw code.\"></form>"
      ],
      "text/plain": [
       "<IPython.core.display.HTML object>"
      ]
     },
     "execution_count": 2,
     "metadata": {},
     "output_type": "execute_result"
    }
   ],
   "source": [
    "from IPython.display import HTML\n",
    "\n",
    "HTML('''<script>\n",
    "code_show=true; \n",
    "function code_toggle() {\n",
    " if (code_show){\n",
    " $('div.input').hide();\n",
    " } else {\n",
    " $('div.input').show();\n",
    " }\n",
    " code_show = !code_show\n",
    "} \n",
    "$( document ).ready(code_toggle);\n",
    "</script>\n",
    "<form action=\"javascript:code_toggle()\"><input type=\"submit\" value=\"Click here to toggle on/off the raw code.\"></form>''')"
   ]
  },
  {
   "cell_type": "markdown",
   "metadata": {
    "deletable": true,
    "editable": true
   },
   "source": [
    "# Exoplanet plots\n",
    "\n",
    "# To Do: \n",
    "* Plots (with uncertainty bars)\n",
    "  * reproduce [these plots](http://exoplanetarchive.ipac.caltech.edu/exoplanetplots/) and [these](http://seagerexoplanets.mit.edu/research.htm) and may be some from [here](http://th.nao.ac.jp/MEMBER/hori/pdf/HORI_2012Dec3-5.pdf); note also useful [formula](http://exoplanetarchive.ipac.caltech.edu/docs/poet_calculations.html#insol_flux); save in folder: `C:\\Users\\Jerome\\Box Sync\\research papers\\images\\plots`\n",
    "    * M vs P\n",
    "    * R vs P\n",
    "    * R vs P\n",
    "    * e vs P\n",
    "    * Irradiation (Insolation flux) vs P\n",
    "    * R vs M → density (solid, rocky, icy, thick atmosphere?)\n",
    "    * discovery per year\n",
    "    * Earth-like planets (HZ shown)\n",
    "* possible grouping\n",
    "  * detection method\n",
    "  * hot Jupiters\n",
    "  * mini-Neptunes\n",
    "\n",
    "* Use clustering algorithm to get planet groups (perhaps refers to distinct planet regimes)\n",
    "* Get mass radius relation for each planet grouping\n",
    "  * Different relations applies for different planet regimes (close-in, far-out)?\n",
    "* Extrapolate the mass of the planet for each regime \n",
    "* Earth-like planets accdg by filtering the ff params:\n",
    "  * radius, temperature, bulk composition, stellar host type, rotation rate, companion moon, big brother gas giant planet, geologic activity, existence of water, atmosphere composition\n",
    "* Regime convergence (transit+RV, imaging+RV, microlensing+RV+transit)\n",
    "  * Overlap between RV and Transiting planets\n",
    "* Use Neural Nets to model the distribution of directly imaged exoplanets and compare it to the empirically-determined distribution for RV planets (see Brandt 2014)\n",
    "* Check plot semi-major axis vs. planetary radius and look for far-away (or long period) super-Earth/mini-Neptunes that can be interesting targets for or direct imaging\n",
    "* Super-Earths or mini-Neptune?\n",
    "* Extreme planets \n",
    "\n",
    "DONE\n",
    "* Kepler's third law in transiting planets\n",
    "* Multiplanet systems trends and distribution\n",
    "  * Explore the architecture in multiple planetary systems (see Hot Jupiters.ipynb)\n",
    "    * https://en.wikipedia.org/wiki/List_of_multiplanetary_systems\n"
   ]
  },
  {
   "cell_type": "markdown",
   "metadata": {
    "deletable": true,
    "editable": true
   },
   "source": [
    "# Objective\n",
    "The objective of this notebook is to query data from NASA exoplanet archive and plot all interesting trends, relations, distributions of exoplanet, and add some statistical analysis\n",
    "\n",
    "# Data\n",
    "The NASA Exoplanet Archive provides data and various tools related to exoplanets. See for example the [table of confirmed exoplanet data](http://exoplanetarchive.ipac.caltech.edu/cgi-bin/TblView/nph-tblView?app=ExoTbls&config=planets) or list of [data catalog](http://exoplanetarchive.ipac.caltech.edu/docs/data.html).\n",
    "\n",
    "While we can make scatter plots and histograms in the website, we would like to play with the data and do some advanced visualization and analysis. Thanks to the provision of the API, we can query data directly from their [website]( \n",
    "http://exoplanetarchive.ipac.caltech.edu/docs/program_interfaces.html). See advanced querying using their [API](http://exoplanetarchive.ipac.caltech.edu/docs/program_interfaces.html)."
   ]
  },
  {
   "cell_type": "code",
   "execution_count": 22,
   "metadata": {
    "collapsed": false,
    "deletable": true,
    "editable": true
   },
   "outputs": [
    {
     "name": "stdout",
     "output_type": "stream",
     "text": [
      "Downloading data from URL:\n",
      "http://exoplanetarchive.ipac.caltech.edu/cgi-bin/nstedAPI/nph-nstedAPI?table=exoplanets\n",
      "Saved file as confirmed_planets_extended_20170622.csv\n"
     ]
    }
   ],
   "source": [
    "# Python 2 and 3 compatible\n",
    "try:\n",
    "    from urllib.request import urlopen, Request\n",
    "    from urllib.error import HTTPError\n",
    "except ImportError:\n",
    "    from urllib2 import urlopen, Request, HTTPError\n",
    "import time\n",
    "import warnings\n",
    "warnings.filterwarnings('ignore')\n",
    "\n",
    "\n",
    "url = 'http://exoplanetarchive.ipac.caltech.edu/cgi-bin/nstedAPI/nph-nstedAPI?table=exoplanets'\n",
    "pl_params = \"pl_hostname,pl_letter,pl_discmethod,pl_disc,pl_pnum,pl_orbper,pl_orbsmax,pl_orbeccen,pl_orbincl,pl_bmassj,pl_radj,pl_radjerr1,pl_radjerr2,pl_dens,pl_instrument,pl_disc_refname,pl_pelink,pl_insol,pl_eqt,\"\n",
    "pl_err = 'pl_bmassjerr1,pl_bmassjerr2,pl_bmassjerr1,pl_bmassjerr2,pl_orbpererr1,pl_orbpererr2,'\n",
    "st_params = \"ra,dec,st_dist,st_teff,st_mass,st_rad,st_plx,gaia_plx,gaia_dist,st_pm,gaia_pm,st_radv,st_spstr,st_logg,st_lum,st_dens,st_metfe,st_age,st_acts,st_bmvj,st_jmh2,\"\n",
    "others = 'pl_instrument,pl_telescope,rowupdate,st_nplc'\n",
    "full_url= url+'&select='+ pl_params + pl_err + st_params+others\n",
    "\n",
    "response = urlopen(full_url)\n",
    "html = response.read()\n",
    "\n",
    "outpath_extended = 'confirmed_planets_extended_{}.csv'.format(time.strftime(\"%Y%m%d\")) #include date of download\n",
    "\n",
    "print(\"Downloading data from URL:\\n{}\".format(url))\n",
    "\n",
    "with open(outpath_extended,'wb') as f:\n",
    "     f.write(html)\n",
    "print(\"Saved file as {}\".format(outpath_extended))"
   ]
  },
  {
   "cell_type": "markdown",
   "metadata": {
    "deletable": true,
    "editable": true
   },
   "source": [
    "Let's check the downloaded file."
   ]
  },
  {
   "cell_type": "code",
   "execution_count": 23,
   "metadata": {
    "collapsed": false,
    "deletable": true,
    "editable": true,
    "scrolled": true
   },
   "outputs": [
    {
     "data": {
      "text/plain": [
       "b'pl_hostname,pl_letter,pl_discmethod,pl_disc,pl_pnum,pl_orbper,pl_orbsmax,pl_orbeccen,pl_orbincl,pl_b'"
      ]
     },
     "execution_count": 23,
     "metadata": {},
     "output_type": "execute_result"
    }
   ],
   "source": [
    "html[:100]"
   ]
  },
  {
   "cell_type": "markdown",
   "metadata": {
    "deletable": true,
    "editable": true
   },
   "source": [
    "Or better yet, parse into table using pandas: "
   ]
  },
  {
   "cell_type": "code",
   "execution_count": 24,
   "metadata": {
    "collapsed": false,
    "deletable": true,
    "editable": true,
    "scrolled": true
   },
   "outputs": [
    {
     "data": {
      "text/html": [
       "<div>\n",
       "<table border=\"1\" class=\"dataframe\">\n",
       "  <thead>\n",
       "    <tr style=\"text-align: right;\">\n",
       "      <th></th>\n",
       "      <th>pl_hostname</th>\n",
       "      <th>pl_letter</th>\n",
       "      <th>pl_discmethod</th>\n",
       "      <th>pl_disc</th>\n",
       "      <th>pl_pnum</th>\n",
       "      <th>pl_orbper</th>\n",
       "      <th>pl_orbsmax</th>\n",
       "      <th>pl_orbeccen</th>\n",
       "      <th>pl_orbincl</th>\n",
       "      <th>pl_bmassj</th>\n",
       "      <th>...</th>\n",
       "      <th>st_dens</th>\n",
       "      <th>st_metfe</th>\n",
       "      <th>st_age</th>\n",
       "      <th>st_acts</th>\n",
       "      <th>st_bmvj</th>\n",
       "      <th>st_jmh2</th>\n",
       "      <th>pl_instrument.1</th>\n",
       "      <th>pl_telescope</th>\n",
       "      <th>rowupdate</th>\n",
       "      <th>st_nplc</th>\n",
       "    </tr>\n",
       "  </thead>\n",
       "  <tbody>\n",
       "    <tr>\n",
       "      <th>0</th>\n",
       "      <td>HD 240237</td>\n",
       "      <td>b</td>\n",
       "      <td>Radial Velocity</td>\n",
       "      <td>2011</td>\n",
       "      <td>1</td>\n",
       "      <td>745.7000</td>\n",
       "      <td>1.90</td>\n",
       "      <td>0.400</td>\n",
       "      <td>NaN</td>\n",
       "      <td>5.300</td>\n",
       "      <td>...</td>\n",
       "      <td>NaN</td>\n",
       "      <td>-0.26</td>\n",
       "      <td>NaN</td>\n",
       "      <td>NaN</td>\n",
       "      <td>1.682</td>\n",
       "      <td>0.633</td>\n",
       "      <td>High Resolution Spectrograph</td>\n",
       "      <td>9.2 m Hobby-Eberly Telescope</td>\n",
       "      <td>2014-11-19</td>\n",
       "      <td>0</td>\n",
       "    </tr>\n",
       "    <tr>\n",
       "      <th>1</th>\n",
       "      <td>HD 290327</td>\n",
       "      <td>b</td>\n",
       "      <td>Radial Velocity</td>\n",
       "      <td>2009</td>\n",
       "      <td>1</td>\n",
       "      <td>2443.0000</td>\n",
       "      <td>3.43</td>\n",
       "      <td>0.080</td>\n",
       "      <td>NaN</td>\n",
       "      <td>2.540</td>\n",
       "      <td>...</td>\n",
       "      <td>NaN</td>\n",
       "      <td>-0.11</td>\n",
       "      <td>NaN</td>\n",
       "      <td>NaN</td>\n",
       "      <td>0.761</td>\n",
       "      <td>0.279</td>\n",
       "      <td>HARPS Spectrograph</td>\n",
       "      <td>3.6 m ESO Telescope</td>\n",
       "      <td>2014-11-19</td>\n",
       "      <td>0</td>\n",
       "    </tr>\n",
       "    <tr>\n",
       "      <th>2</th>\n",
       "      <td>HD 285507</td>\n",
       "      <td>b</td>\n",
       "      <td>Radial Velocity</td>\n",
       "      <td>2013</td>\n",
       "      <td>1</td>\n",
       "      <td>6.0881</td>\n",
       "      <td>NaN</td>\n",
       "      <td>0.086</td>\n",
       "      <td>NaN</td>\n",
       "      <td>0.917</td>\n",
       "      <td>...</td>\n",
       "      <td>NaN</td>\n",
       "      <td>0.13</td>\n",
       "      <td>0.625</td>\n",
       "      <td>NaN</td>\n",
       "      <td>1.415</td>\n",
       "      <td>0.554</td>\n",
       "      <td>TRES Echelle Spectrograph</td>\n",
       "      <td>1.5 m Tillinghast Reflector Telescope</td>\n",
       "      <td>2014-05-14</td>\n",
       "      <td>0</td>\n",
       "    </tr>\n",
       "  </tbody>\n",
       "</table>\n",
       "<p>3 rows × 50 columns</p>\n",
       "</div>"
      ],
      "text/plain": [
       "  pl_hostname pl_letter    pl_discmethod  pl_disc  pl_pnum  pl_orbper  \\\n",
       "0   HD 240237         b  Radial Velocity     2011        1   745.7000   \n",
       "1   HD 290327         b  Radial Velocity     2009        1  2443.0000   \n",
       "2   HD 285507         b  Radial Velocity     2013        1     6.0881   \n",
       "\n",
       "   pl_orbsmax  pl_orbeccen  pl_orbincl  pl_bmassj   ...     st_dens  st_metfe  \\\n",
       "0        1.90        0.400         NaN      5.300   ...         NaN     -0.26   \n",
       "1        3.43        0.080         NaN      2.540   ...         NaN     -0.11   \n",
       "2         NaN        0.086         NaN      0.917   ...         NaN      0.13   \n",
       "\n",
       "   st_age  st_acts st_bmvj st_jmh2               pl_instrument.1  \\\n",
       "0     NaN      NaN   1.682   0.633  High Resolution Spectrograph   \n",
       "1     NaN      NaN   0.761   0.279            HARPS Spectrograph   \n",
       "2   0.625      NaN   1.415   0.554     TRES Echelle Spectrograph   \n",
       "\n",
       "                            pl_telescope   rowupdate  st_nplc  \n",
       "0           9.2 m Hobby-Eberly Telescope  2014-11-19        0  \n",
       "1                    3.6 m ESO Telescope  2014-11-19        0  \n",
       "2  1.5 m Tillinghast Reflector Telescope  2014-05-14        0  \n",
       "\n",
       "[3 rows x 50 columns]"
      ]
     },
     "execution_count": 24,
     "metadata": {},
     "output_type": "execute_result"
    }
   ],
   "source": [
    "import pandas as pd\n",
    "#default\n",
    "df = pd.read_csv(outpath_extended)\n",
    "df.head(3)"
   ]
  },
  {
   "cell_type": "markdown",
   "metadata": {
    "deletable": true,
    "editable": true
   },
   "source": [
    "### Hot Jupiters"
   ]
  },
  {
   "cell_type": "markdown",
   "metadata": {
    "deletable": true,
    "editable": true
   },
   "source": [
    "[Hot Jupiters](https://en.wikipedia.org/wiki/Hot_Jupiter) are a rare and peculiar class of exoplanet that have masses comparable to that of Jupiter ($\\gtrsim$0.1 M$_{Jup}$) on orbits with periods $P$ less than about 10 days (e.g., Gaudi et al. 2005; Wright et al. 2012)."
   ]
  },
  {
   "cell_type": "code",
   "execution_count": null,
   "metadata": {
    "collapsed": true,
    "deletable": true,
    "editable": true
   },
   "outputs": [],
   "source": [
    "df_hot_jup = df.query('0.36 <= pl_bmassj <= 11.8 and pl_orbper <= 10')\n",
    "df_RV_hot_jup = df.query('0.36 <= pl_bmassj <= 11.8 and pl_orbper <= 10')\n",
    "df_transit_hot_jup = df.query('0.36 <= pl_bmassj <= 11.8 and pl_orbper <= 10')\n",
    "df_jup_like = df.query('0.5 <= pl_bmassj <= 11.8 and 1 <= pl_orbsmax <= 10')"
   ]
  },
  {
   "cell_type": "markdown",
   "metadata": {
    "deletable": true,
    "editable": true
   },
   "source": [
    "[Ngo et al. 2015](http://adsabs.harvard.edu/cgi-bin/bib_query?arXiv:1501.00013):\n",
    ">Surveys from the past few years (e.g. Winn et al. 2010; Albrecht et al. 2012) indicate misaligned hot Jupiters are common--18 out of 53 hot Jupiters surveyed to date have [obliquities](https://en.wikipedia.org/wiki/Axial_tilt) that are inconsistent with zero at the [three sigma level](https://en.wikipedia.org/wiki/68%E2%80%9395%E2%80%9399.7_rule) or higher. As a result, it has been arued that a significant fraction of hot Jupiters may have migrated via three-body interactions such as the [Kozai-Lidov mechanism](https://en.wikipedia.org/wiki/Kozai_mechanism) (c.f. [simulation](http://users.monash.edu.au/~dprice/pubs/kozai/)), which naturally results in large orbital inclinations (e.g.  Morton & Johnson 2011; Li et al. 2014). If stellar tides can bring misaligned hot Jupiters back into alignment with the star’s spin axis (Dawson 2014), this fraction may be even higher than the current rate suggests. "
   ]
  },
  {
   "cell_type": "code",
   "execution_count": null,
   "metadata": {
    "collapsed": false,
    "deletable": true,
    "editable": true
   },
   "outputs": [],
   "source": [
    "df_hot_jup.describe()"
   ]
  },
  {
   "cell_type": "code",
   "execution_count": null,
   "metadata": {
    "collapsed": false,
    "deletable": true,
    "editable": true,
    "scrolled": true
   },
   "outputs": [],
   "source": [
    "len(df_hot_jup['pl_orbincl'].dropna())"
   ]
  },
  {
   "cell_type": "code",
   "execution_count": null,
   "metadata": {
    "collapsed": false,
    "deletable": true,
    "editable": true
   },
   "outputs": [],
   "source": [
    "%matplotlib inline\n",
    "from matplotlib import pyplot as plt\n",
    "\n",
    "#note: this is inclination, not obliquity \n",
    "plt.hist(df['pl_orbincl'].dropna(), bins = 20, label='all', normed=True)\n",
    "plt.hist(df_hot_jup['pl_orbincl'].dropna(), bins = 20, label='HJ', normed=True, alpha=0.5)\n",
    "plt.legend(loc='best')"
   ]
  },
  {
   "cell_type": "code",
   "execution_count": null,
   "metadata": {
    "collapsed": false,
    "deletable": true,
    "editable": true
   },
   "outputs": [],
   "source": [
    "import numpy as np\n",
    "\n",
    "mean= np.mean(df_hot_jup['pl_orbincl'].dropna())\n",
    "print('mean= {}'.format(mean))\n",
    "\n",
    "#df_hot_jup['pl_orbincl'].std(axis=0,skipna=True)\n",
    "sigma =np.std(df_hot_jup['pl_orbincl'].dropna())\n",
    "print('sigma= {}'.format(sigma))\n",
    "\n",
    "#df_hot_jup['pl_orbincl'].dropna().query('pl_orbincl > threesigma')"
   ]
  },
  {
   "cell_type": "code",
   "execution_count": null,
   "metadata": {
    "collapsed": false,
    "deletable": true,
    "editable": true
   },
   "outputs": [],
   "source": [
    "#inclination greater than 3sigma\n",
    "\n",
    "#one-liner\n",
    "#[i for i in df_hot_jup['pl_orbincl'].dropna().values if abs(mean-i) > 3*sigma]\n",
    "for i in df_hot_jup['pl_orbincl'].dropna().values:\n",
    "    if abs(mean-i) > 3*sigma:\n",
    "        print(i)"
   ]
  },
  {
   "cell_type": "code",
   "execution_count": null,
   "metadata": {
    "collapsed": false,
    "deletable": true,
    "editable": true
   },
   "outputs": [],
   "source": [
    "#for hot jupiters; see df\n",
    "inc=df_hot_jup['pl_orbincl'].dropna()\n",
    "inc[((inc-inc.mean()).abs()>3*inc.std())]#.index"
   ]
  },
  {
   "cell_type": "code",
   "execution_count": null,
   "metadata": {
    "collapsed": false,
    "deletable": true,
    "editable": true
   },
   "outputs": [],
   "source": [
    "len(inc[((inc-inc.mean()).abs()>3*inc.std())])/float(len(inc))*100"
   ]
  },
  {
   "cell_type": "code",
   "execution_count": null,
   "metadata": {
    "collapsed": false,
    "deletable": true,
    "editable": true
   },
   "outputs": [],
   "source": [
    "#generally for all planets\n",
    "inc2=df['pl_orbincl'].dropna()\n",
    "len(inc2[((inc2-inc2.mean()).abs()>3*inc2.std())])/float(len(inc2))*100"
   ]
  },
  {
   "cell_type": "code",
   "execution_count": null,
   "metadata": {
    "collapsed": true,
    "deletable": true,
    "editable": true
   },
   "outputs": [],
   "source": [
    "#compute z>3 for all float columns\n",
    "from scipy import stats\n",
    "\n",
    "float_values=df_hot_jup.select_dtypes(include=[float])\n",
    "\n",
    "#z>0\n",
    "df_hot_jup[(np.abs(stats.zscore(float_values) > 3))]\n",
    "#df_hot_jup[(np.abs(stats.zscore(df_hot_jup)) < 3).all(axis=1)]\n",
    "\n",
    "#see also 2nd answer http://stackoverflow.com/questions/23199796/detect-and-exclude-outliers-in-pandas-dataframe"
   ]
  },
  {
   "cell_type": "markdown",
   "metadata": {
    "deletable": true,
    "editable": true
   },
   "source": [
    ">Conversely, Dawson et al. (2015) argue that the lack of high-eccentricity Jupiters at intermediate periods in the overall Kepler sample places a strict upper limit on the fraction of hot Jupiters that might have migrated via three-body processes."
   ]
  },
  {
   "cell_type": "code",
   "execution_count": null,
   "metadata": {
    "collapsed": false,
    "deletable": true,
    "editable": true
   },
   "outputs": [],
   "source": [
    "%matplotlib inline\n",
    "from matplotlib import pyplot as plt\n",
    "\n",
    "#note: this is inclination, not obliquity \n",
    "#plt.hist(df['pl_orbsmax'].dropna(), bins = 20, label='all', normed=True)\n",
    "plt.hist(df_transit_hot_jup['pl_orbsmax'].dropna(), bins = 20, label='HJ', normed=True, alpha=0.5)\n",
    "plt.legend(loc='best')"
   ]
  },
  {
   "cell_type": "code",
   "execution_count": null,
   "metadata": {
    "collapsed": false,
    "deletable": true,
    "editable": true
   },
   "outputs": [],
   "source": [
    "fig, ax = plt.subplots()\n",
    "df.plot('pl_orbsmax', 'pl_orbeccen', kind='scatter', label='all', color='red', alpha=0.5, logx=True, logy=False, ax=ax, title='All Hot Jupiters')\n",
    "df_hot_jup.plot('pl_orbsmax', 'pl_orbeccen', kind='scatter', label='HJ', logx=True, logy=False, ax=ax)#, loglog=True)# doesn't work well"
   ]
  },
  {
   "cell_type": "code",
   "execution_count": null,
   "metadata": {
    "collapsed": false,
    "deletable": true,
    "editable": true
   },
   "outputs": [],
   "source": [
    "import numpy as np\n",
    "import matplotlib.pyplot as plt\n",
    "from scipy.stats import gaussian_kde\n",
    "\n",
    "#df[['x', 'y']].dropna() makes sure pair has equal len\n",
    "x=df_transit[['pl_orbsmax', 'pl_orbeccen']].dropna()['pl_orbsmax'].values\n",
    "y=df_transit[['pl_orbsmax', 'pl_orbeccen']].dropna()['pl_orbeccen'].values\n",
    "\n",
    "# Calculate the point density\n",
    "xy = np.vstack([x,y])\n",
    "z = gaussian_kde(xy)(xy)\n",
    "\n",
    "fig, ax = plt.subplots()\n",
    "ax.scatter(x, y, c=z, s=100, edgecolor='')\n",
    "#ax.set_xscale('log')"
   ]
  },
  {
   "cell_type": "code",
   "execution_count": null,
   "metadata": {
    "collapsed": false,
    "deletable": true,
    "editable": true
   },
   "outputs": [],
   "source": [
    "fig, ax = plt.subplots()\n",
    "df_transit.plot('pl_orbsmax', 'pl_orbeccen', kind='scatter', label='all', color='red', alpha=0.5, logx=True, logy=False, ax=ax, title='Transiting Planets')\n",
    "df_transit_hot_jup.plot('pl_orbsmax', 'pl_orbeccen', kind='scatter', label='HJ', logx=True, logy=False, ax=ax)#, loglog=True)# doesn't work well\n",
    "#density plot seems not scaled with two plots above\n",
    "#df_transit_hot_jup.plot.density(x='pl_orbsmax', y='pl_orbeccen', c='b', ax=ax);"
   ]
  },
  {
   "cell_type": "code",
   "execution_count": null,
   "metadata": {
    "collapsed": false,
    "deletable": true,
    "editable": true
   },
   "outputs": [],
   "source": [
    "#fraction of hot jupiters\n",
    "len(df_transit_hot_jup['pl_orbeccen'].dropna())/float(len(df_transit['pl_orbeccen'].dropna()))*100"
   ]
  },
  {
   "cell_type": "markdown",
   "metadata": {
    "deletable": true,
    "editable": true
   },
   "source": [
    ">Misaligned hot Jupiters may also result from migration in a tilted disk, which could be caused by torque from a distant stellar companion (Batygin 2012). Moreover, significant star-disk misalignments may naturally arise from the physical evolution of the star and the disk in a perturbed system (Batygin & Adams 2013; Spalding & Batygin 2014a). This suggests that a hot Jupiter’s obliquity, which can be measured with the Rossiter–McLaughlin effect (Winn et al. 2005) or via Doppler tomography (e.g., Collier Cameron et al. 2010; Brown et al. 2012), might provide a clue to whether or not a third body has influenced the planetary system."
   ]
  },
  {
   "cell_type": "markdown",
   "metadata": {
    "deletable": true,
    "editable": true
   },
   "source": [
    "Number of planets in a binary system"
   ]
  },
  {
   "cell_type": "code",
   "execution_count": null,
   "metadata": {
    "collapsed": false,
    "deletable": true,
    "editable": true
   },
   "outputs": [],
   "source": [
    "#plt.hist(df.query('pl_cbflag == 1')['pl_pnum'], bins=[1,2,3,4,5])\n",
    "df.query('pl_cbflag == 1')['pl_pnum'].plot(kind='hist')"
   ]
  },
  {
   "cell_type": "markdown",
   "metadata": {
    "deletable": true,
    "editable": true
   },
   "source": [
    "#### RV planet distribution"
   ]
  },
  {
   "cell_type": "code",
   "execution_count": null,
   "metadata": {
    "collapsed": false,
    "deletable": true,
    "editable": true
   },
   "outputs": [],
   "source": [
    "%matplotlib inline\n",
    "from matplotlib import pyplot as plt\n",
    "\n",
    "#plt.hist(df_RV['pl_orbsmax'].dropna(), bins=40)\n",
    "\n",
    "import numpy as np\n",
    "import matplotlib.pyplot as plt\n",
    "from astroML.plotting import hist\n",
    "#x = np.random.normal(size=1000)\n",
    "x = df_RV['pl_orbsmax'].dropna().values\n",
    "x2 = df_RV_hot_jup['pl_orbsmax'].dropna().values\n",
    "\n",
    "fig = plt.figure(figsize=(10, 4))\n",
    "fig.subplots_adjust(left=0.1, right=0.95, bottom=0.15)\n",
    "\n",
    "for bins, title, subplot in zip(['knuth', 'blocks'],\n",
    "                                [\"Knuth's rule\", 'Bayesian blocks'],\n",
    "                                [121, 122]):\n",
    "    ax = fig.add_subplot(subplot)\n",
    "\n",
    "    # plot a standard histogram in the background, with alpha transparency\n",
    "    hist(np.log(x), bins=100, histtype='stepfilled',\n",
    "         alpha=0.2, normed=True, label='standard histogram')\n",
    "\n",
    "    # plot an adaptive-width histogram on top\n",
    "    hist(np.log(x), bins=bins, ax=ax, color='black',\n",
    "         histtype='step', normed=True, label=title)\n",
    "\n",
    "    ax.legend(loc='best', prop=dict(size=12))\n",
    "    ax.set_xlabel('$\\log$ Semi-major axis (AU)')\n",
    "    ax.set_ylabel('Count')\n",
    "\n",
    "for bins, title, subplot in zip(['knuth', 'blocks'],\n",
    "                                [\"Hot Jupiter (Knuth)\", 'Hot Jupiter (Bayesian)'],\n",
    "                                [121, 122]):\n",
    "    ax = fig.add_subplot(subplot)\n",
    "\n",
    "    # plot a standard histogram in the background, with alpha transparency\n",
    "    hist(np.log(x2), bins=100, histtype='stepfilled',\n",
    "         alpha=0.2, normed=True, label='Hot Jupiter (standard)')\n",
    "\n",
    "    # plot an adaptive-width histogram on top\n",
    "    hist(np.log(x2), bins=bins, ax=ax, color='black',\n",
    "         histtype='step', normed=True, label=title)\n",
    "\n",
    "    ax.legend(loc='best', prop=dict(size=12))\n",
    "    ax.set_xlabel('$\\log$ Semi-major axis (AU)')\n",
    "    ax.set_ylabel('Count')\n",
    "    \n",
    "plt.show()"
   ]
  },
  {
   "cell_type": "markdown",
   "metadata": {
    "deletable": true,
    "editable": true
   },
   "source": [
    "### Transit planet distribution"
   ]
  },
  {
   "cell_type": "code",
   "execution_count": null,
   "metadata": {
    "collapsed": false,
    "deletable": true,
    "editable": true
   },
   "outputs": [],
   "source": [
    "%matplotlib inline\n",
    "from matplotlib import pyplot as plt\n",
    "\n",
    "#plt.hist(df_RV['pl_orbsmax'].dropna(), bins=40)\n",
    "\n",
    "import numpy as np\n",
    "import matplotlib.pyplot as plt\n",
    "from astroML.plotting import hist\n",
    "#x = np.random.normal(size=1000)\n",
    "x = df_transit['pl_orbsmax'].dropna().values\n",
    "x2 = df_transit_hot_jup['pl_orbsmax'].dropna().values\n",
    "\n",
    "fig = plt.figure(figsize=(12, 4))\n",
    "fig.subplots_adjust(left=0.1, right=0.95, bottom=0.15)\n",
    "\n",
    "for bins, title, subplot in zip(['knuth', 'blocks'],\n",
    "                                [\"Knuth's rule\", 'Bayesian blocks'],\n",
    "                                [121, 122]):\n",
    "    ax = fig.add_subplot(subplot)\n",
    "\n",
    "    # plot a standard histogram in the background, with alpha transparency\n",
    "    hist(np.log(x), bins=100, histtype='stepfilled',\n",
    "         alpha=0.2, normed=True, label='standard histogram')\n",
    "\n",
    "    # plot an adaptive-width histogram on top\n",
    "    hist(np.log(x), bins=bins, ax=ax, color='black',\n",
    "         histtype='step', normed=True, label=title)\n",
    "\n",
    "    ax.legend(loc='best', prop=dict(size=10))\n",
    "    ax.set_xlabel('$\\log$ Semi-major axis (AU)')\n",
    "    ax.set_ylabel('Count')\n",
    "\n",
    "for bins, title, subplot in zip(['knuth', 'blocks'],\n",
    "                                [\"Hot Jupiter (Knuth)\", 'Hot Jupiter (Bayesian)'],\n",
    "                                [121, 122]):\n",
    "    ax = fig.add_subplot(subplot)\n",
    "\n",
    "    # plot a standard histogram in the background, with alpha transparency\n",
    "    hist(np.log(x2), bins=100, histtype='stepfilled',\n",
    "         alpha=0.2, normed=True, label='Hot Jupiter (standard)')\n",
    "\n",
    "    # plot an adaptive-width histogram on top\n",
    "    hist(np.log(x2), bins=bins, ax=ax, color='black',\n",
    "         histtype='step', normed=True, label=title)\n",
    "\n",
    "    ax.legend(loc='best', prop=dict(size=12))\n",
    "    ax.set_xlabel('$\\log$ Semi-major axis (AU)')\n",
    "    ax.set_ylabel('Count')\n",
    "    \n",
    "plt.show()"
   ]
  },
  {
   "cell_type": "markdown",
   "metadata": {
    "deletable": true,
    "editable": true
   },
   "source": [
    "### Multiple planet vs Single planet distribution (RV)"
   ]
  },
  {
   "cell_type": "markdown",
   "metadata": {
    "deletable": true,
    "editable": true
   },
   "source": [
    "> [Figure 5](http://iopscience.iop.org/article/10.1086/659427/pdf) shows that among the multiplanet systems, the semimajor-axis distribution is quite distinct: multiplanet\n",
    "systems are much less likely to include a close-in planet, and there also does not appear to be a 1-AU jump among the multiplanet systems. \n",
    "\n",
    "> This has been interpreted as evidence for migration, and is used as a test for different migration scenarios (e.g., Beaugé & Nesvorný 2012)."
   ]
  },
  {
   "cell_type": "code",
   "execution_count": null,
   "metadata": {
    "collapsed": false,
    "deletable": true,
    "editable": true
   },
   "outputs": [],
   "source": [
    "df.query('pl_pnum > 1').head(3)"
   ]
  },
  {
   "cell_type": "code",
   "execution_count": null,
   "metadata": {
    "collapsed": false,
    "deletable": true,
    "editable": true
   },
   "outputs": [],
   "source": [
    "%matplotlib inline\n",
    "from matplotlib import pyplot as plt\n",
    "\n",
    "#plt.hist(df_RV['pl_orbsmax'].dropna(), bins=40)\n",
    "\n",
    "import numpy as np\n",
    "import matplotlib.pyplot as plt\n",
    "from astroML.plotting import hist\n",
    "#x = np.random.normal(size=1000)\n",
    "x = df_RV.query('pl_pnum > 1')\n",
    "x = x['pl_orbsmax'].dropna().values\n",
    "x2 = df_RV_hot_jup.query('pl_pnum > 1')\n",
    "x2 = x2['pl_orbsmax'].dropna().values\n",
    "\n",
    "fig = plt.figure(figsize=(12, 4))\n",
    "fig.subplots_adjust(left=0.1, right=0.95, bottom=0.15)\n",
    "\n",
    "for bins, title, subplot in zip(['knuth', 'blocks'],\n",
    "                                [\"Knuth's rule\", 'Bayesian blocks'],\n",
    "                                [121, 122]):\n",
    "    ax = fig.add_subplot(subplot)\n",
    "\n",
    "    # plot a standard histogram in the background, with alpha transparency\n",
    "    hist(np.log(x), bins=100, histtype='stepfilled',\n",
    "         alpha=0.2, normed=True, label='standard histogram')\n",
    "\n",
    "    # plot an adaptive-width histogram on top\n",
    "    hist(np.log(x), bins=bins, ax=ax, color='black',\n",
    "         histtype='step', normed=True, label=title)\n",
    "\n",
    "    ax.legend(loc='best', prop=dict(size=10))\n",
    "    ax.set_xlabel('$\\log$ Semi-major axis (AU)')\n",
    "    ax.set_ylabel('Count')\n",
    "\n",
    "for bins, title, subplot in zip(['knuth', 'blocks'],\n",
    "                                [\"Hot Jupiter (Knuth)\", 'Hot Jupiter (Bayesian)'],\n",
    "                                [121, 122]):\n",
    "    ax = fig.add_subplot(subplot)\n",
    "\n",
    "    # plot a standard histogram in the background, with alpha transparency\n",
    "    hist(np.log(x2), bins=100, histtype='stepfilled',\n",
    "         alpha=0.2, normed=True, label='Hot Jupiter (standard)')\n",
    "\n",
    "    # plot an adaptive-width histogram on top\n",
    "    hist(np.log(x2), bins=bins, ax=ax, color='black',\n",
    "         histtype='step', normed=True, label=title)\n",
    "\n",
    "    ax.legend(loc='best', prop=dict(size=12))\n",
    "    ax.set_xlabel('$\\log$ Semi-major axis (AU)')\n",
    "    ax.set_ylabel('Count')\n",
    "    \n",
    "plt.show()"
   ]
  },
  {
   "cell_type": "markdown",
   "metadata": {
    "deletable": true,
    "editable": true
   },
   "source": [
    "---"
   ]
  },
  {
   "cell_type": "markdown",
   "metadata": {
    "deletable": true,
    "editable": true
   },
   "source": [
    "# Mass-orbital radius distribution"
   ]
  },
  {
   "cell_type": "code",
   "execution_count": null,
   "metadata": {
    "collapsed": false,
    "deletable": true,
    "editable": true
   },
   "outputs": [],
   "source": [
    "print(plt.style.available)"
   ]
  },
  {
   "cell_type": "raw",
   "metadata": {
    "deletable": true,
    "editable": true
   },
   "source": [
    "df.groupby('pl_discmethod').groups"
   ]
  },
  {
   "cell_type": "code",
   "execution_count": null,
   "metadata": {
    "collapsed": false,
    "deletable": true,
    "editable": true
   },
   "outputs": [],
   "source": [
    "from matplotlib import pyplot as plt\n",
    "%matplotlib inline\n",
    "plt.style.use('seaborn-whitegrid')\n",
    "\n",
    "fig, ax = plt.subplots() #figsize=(10,8)\n",
    "\n",
    "groups=df.groupby('pl_discmethod')\n",
    "\n",
    "colors = [\"#476A2A\", \"#7851B8\", \"#BD3430\", \"#4A2D4E\", \"#875525\",\n",
    "          \"#A83683\", \"#4E655E\", \"#853541\", \"#3A3120\",\"#535D8E\"]\n",
    "\n",
    "#i=0\n",
    "for name, group in groups:\n",
    "    group.plot(x='pl_orbsmax', y='pl_bmassj', kind='scatter', alpha=0.6, label=str(name), ax=ax)#, color=colors[i])\n",
    "    #i+=1\n",
    "\n",
    "plt.xscale('log')\n",
    "plt.yscale('log')\n",
    "plt.ylabel('Mass [$M_{Jup}$]')\n",
    "plt.xlabel('Semi-major axis [AU]')\n",
    "plt.ylabel('Mass [$M_{Jup}$]')\n",
    "plt.ylabel('Mass [$M_{Jup}$]')\n",
    "plt.xlim([1e-3, 5e4])\n",
    "plt.ylim([1e-3, 5e2])\n",
    "\n",
    "#'''\n",
    "#make a colormap\n",
    "colormap = plt.cm.gist_ncar #nipy_spectral, Set1,Paired  \n",
    "colorst = [colormap(i) for i in np.linspace(0, 0.9,len(ax.collections))]       \n",
    "for t,j1 in enumerate(ax.collections):\n",
    "    j1.set_color(colorst[t])\n",
    "#'''\n",
    "\n",
    "\n",
    "ax.legend(fontsize='small', loc=4)\n",
    "plt.show()"
   ]
  },
  {
   "cell_type": "code",
   "execution_count": null,
   "metadata": {
    "collapsed": false,
    "deletable": true,
    "editable": true,
    "scrolled": false
   },
   "outputs": [],
   "source": [
    "from matplotlib import pylab as pl\n",
    "%pylab inline\n",
    "\n",
    "pl.plot(df_transit['pl_orbsmax'],df_transit['pl_bmassj'],'bo', label='transit ({})'.format(np.count_nonzero(df_transit['pl_bmassj']>0)))\n",
    "pl.plot(df_RV['pl_orbsmax'],df_RV['pl_bmassj'],'ro', label='RV ({})'.format(np.count_nonzero(df_RV['pl_bmassj']>0)))\n",
    "pl.plot(df_ML['pl_orbsmax'],df_ML['pl_bmassj'],'go', label='microlensing ({})'.format(np.count_nonzero(df_ML['pl_bmassj']>0)))\n",
    "pl.plot(df_DI['pl_orbsmax'],df_DI['pl_bmassj'],'mo', label='direct imaging ({})'.format(np.count_nonzero(df_DI['pl_bmassj']>0)))\n",
    "pl.plot(df_TTV['pl_orbsmax'],df_TTV['pl_bmassj'],'yo', label='TTV ({})'.format(np.count_nonzero(df_TTV['pl_bmassj']>0)))\n",
    "pl.plot(df_OBM['pl_orbsmax'],df_OBM['pl_bmassj'],'co', label='orb. br. mod. ({})'.format(np.count_nonzero(df_OBM['pl_bmassj']>0)))\n",
    "pl.xlabel('Semi-major axis [AU]')\n",
    "pl.ylabel('Planet Mass [$M_{Jup}$]')\n",
    "pl.xlim([5e-3, 5e5])\n",
    "pl.xscale('log')\n",
    "pl.yscale('log')\n",
    "pl.plot(a_E/a_E,M_E/M_J,'k*', markersize=10, label='Earth')\n",
    "pl.plot(a_J/a_E,M_J/M_J,'ks', markersize=10, label='Jupiter')\n",
    "pl.plot(a_N/a_E,M_N/M_J,'k^', markersize=10, label='Neptune')\n",
    "pl.legend(loc=4, numpoints = 1, fontsize=10)\n",
    "pl.show()\n",
    "#fname='../mass_SMA_11.13.png'\n",
    "# pl.savefig(fname, dpi=None, facecolor='w', edgecolor='w',\n",
    "#         orientation='portrait', papertype=None, format=None,\n",
    "#         transparent=False, bbox_inches=None, pad_inches=0.1,\n",
    "#         frameon=None)"
   ]
  },
  {
   "cell_type": "code",
   "execution_count": null,
   "metadata": {
    "collapsed": false,
    "deletable": true,
    "editable": true
   },
   "outputs": [],
   "source": [
    "matplotlib.rcParams.update({'font.size': 16})\n",
    "\n",
    "#Constants that will be useful later\n",
    "M_E = 5.972e24 #kg\n",
    "a_E = 149.60e6 #m \n",
    "R_E = 6371e3 #km\n",
    "P_E = 365 #d\n",
    "\n",
    "M_J = 1.898e27 #kg\n",
    "a_J = 778.57e6 #m\n",
    "R_J = 69911e3 #m\n",
    "P_J = 11.86*P_E\n",
    "\n",
    "M_N = 1.024e26\n",
    "a_N = 4495.06e6 #m\n",
    "R_N = 24622e3 #m\n",
    "P_N = 164.8*P_E\n",
    "\n",
    "from matplotlib import pylab as pl\n",
    "%pylab inline\n",
    "\n",
    "pl.plot(df_transit['pl_orbsmax'],df_transit['pl_bmassj'],'bo', alpha=0.5, label='transit ({})'.format(np.count_nonzero(df_transit['pl_bmassj']>0)))\n",
    "pl.plot(df_RV['pl_orbsmax'],df_RV['pl_bmassj'],'ro', alpha=0.5, label='RV ({})'.format(np.count_nonzero(df_RV['pl_bmassj']>0)))\n",
    "pl.plot(df_ML['pl_orbsmax'],df_ML['pl_bmassj'],'go', alpha=0.5, label='microlensing ({})'.format(np.count_nonzero(df_ML['pl_bmassj']>0)))\n",
    "pl.plot(df_DI['pl_orbsmax'],df_DI['pl_bmassj'],'mo', alpha=0.5, label='direct imaging ({})'.format(np.count_nonzero(df_DI['pl_bmassj']>0)))\n",
    "pl.plot(df_TTV['pl_orbsmax'],df_TTV['pl_bmassj'],'yo', alpha=0.5, label='TTV ({})'.format(np.count_nonzero(df_TTV['pl_bmassj']>0)))\n",
    "pl.plot(df_OBM['pl_orbsmax'],df_OBM['pl_bmassj'],'co', alpha=0.5, label='orb. br. mod. ({})'.format(np.count_nonzero(df_OBM['pl_bmassj']>0)))\n",
    "pl.xlabel('Semi-major axis [AU]')\n",
    "pl.ylabel('Planet mass [$M_{J}$]')\n",
    "pl.xlim([1e-2, 1e5])\n",
    "pl.xscale('log')\n",
    "pl.yscale('log')\n",
    "#pl.plot(a_E/a_E,M_E/M_J,'k*', markersize=15, label='Earth')\n",
    "#pl.plot(a_J/a_E,M_J/M_J,'kD', markersize=12, label='Jupiter')\n",
    "#pl.plot(a_N/a_E,M_N/M_J,'k^', markersize=15, label='Neptune')\n",
    "pl.xlim([1e-3,1e4])\n",
    "pl.legend(loc=4, numpoints = 1, fontsize=10)\n",
    "pl.show()"
   ]
  },
  {
   "cell_type": "markdown",
   "metadata": {
    "deletable": true,
    "editable": true
   },
   "source": [
    "What is that blue dot below the star (Earth)?"
   ]
  },
  {
   "cell_type": "code",
   "execution_count": null,
   "metadata": {
    "collapsed": false,
    "deletable": true,
    "editable": true
   },
   "outputs": [],
   "source": [
    "sample2 = df_transit.query('pl_bmassj <= 1e-3 and pl_orbsmax <= 1')\n",
    "#idx = df_sample2.index\n",
    "sample2"
   ]
  },
  {
   "cell_type": "markdown",
   "metadata": {
    "deletable": true,
    "editable": true
   },
   "source": [
    "### With mpdld3 \n",
    "\n",
    "#### interactive tooltip"
   ]
  },
  {
   "cell_type": "code",
   "execution_count": null,
   "metadata": {
    "collapsed": false,
    "deletable": true,
    "editable": true
   },
   "outputs": [],
   "source": [
    "#planets with known orbital a, M, and R\n",
    "len(df_transit.query('pl_radj > 0 & pl_orbsmax > 0 & pl_bmassj > 0'))"
   ]
  },
  {
   "cell_type": "code",
   "execution_count": null,
   "metadata": {
    "collapsed": false,
    "deletable": true,
    "editable": true
   },
   "outputs": [],
   "source": [
    "#to fix log axis format, see: http://nbviewer.jupyter.org/gist/aflaxman/988cb466117430e8ba1b\n",
    "import matplotlib.pyplot as plt\n",
    "import numpy as np\n",
    "import mpld3\n",
    "\n",
    "fig, ax = plt.subplots(subplot_kw=dict(axisbg='#EEEEEE'))\n",
    "\n",
    "#cannot use df_transit.plot('pl_orbsmax', 'pl_bmassj', kind='scatter', alpha=0.3)\n",
    "#too few s=df_transit['pl_radj']*100\n",
    "trans = ax.scatter(df_transit['pl_orbsmax'],df_transit['pl_bmassj'], alpha=0.3)#, label='transit ({})'.format(np.count_nonzero(df_transit['pl_bmassj']>0)))\n",
    "#pl.plot(df_RV['pl_orbsmax'],df_RV['pl_bmassj'],'ro', label='RV ({})'.format(np.count_nonzero(df_RV['pl_bmassj']>0)))\n",
    "#pl.plot(df_ML['pl_orbsmax'],df_ML['pl_bmassj'],'go', label='microlensing ({})'.format(np.count_nonzero(df_ML['pl_bmassj']>0)))\n",
    "#pl.plot(df_DI['pl_orbsmax'],df_DI['pl_bmassj'],'mo', label='direct imaging ({})'.format(np.count_nonzero(df_DI['pl_bmassj']>0)))\n",
    "#pl.plot(df_TTV['pl_orbsmax'],df_TTV['pl_bmassj'],'yo', label='TTV ({})'.format(np.count_nonzero(df_TTV['pl_bmassj']>0)))\n",
    "#pl.plot(df_OBM['pl_orbsmax'],df_OBM['pl_bmassj'],'co', label='orb. br. mod. ({})'.format(np.count_nonzero(df_OBM['pl_bmassj']>0)))\n",
    "\n",
    "ax.grid(color='white', linestyle='solid')\n",
    "ax.set_xlabel('Semi-major axis [AU]')\n",
    "ax.set_ylabel('Planet Mass [M_J]')\n",
    "ax.set_xlim([5e-3, 5e5])\n",
    "ax.set_ylim([1e-4, 1e2])\n",
    "ax.set_xscale('log')\n",
    "ax.set_yscale('log')\n",
    "#pl.plot(a_E/a_E,M_E/M_J,'k*', markersize=15, label='Earth')\n",
    "#pl.plot(a_J/a_E,M_J/M_J,'ks', markersize=12, label='Jupiter')\n",
    "#pl.plot(a_N/a_E,M_N/M_J,'k^', markersize=15, label='Neptune')\n",
    "\n",
    "name = list(df_transit.pl_hostname.values)\n",
    "labels = ['{0}'.format(str(i) for i in name)]\n",
    "#connect label and plot\n",
    "tooltip = mpld3.plugins.PointLabelTooltip(trans, labels=labels)\n",
    "#connect fig and tooltip\n",
    "mpld3.plugins.connect(fig, tooltip)\n",
    "\n",
    "mpld3.display()"
   ]
  },
  {
   "cell_type": "markdown",
   "metadata": {
    "deletable": true,
    "editable": true
   },
   "source": [
    "Things to fix mpld3 rending:\n",
    "* label does not work: generator ids showup instead of names\n",
    "* fig zooming is enabled but not in datapoints "
   ]
  },
  {
   "cell_type": "markdown",
   "metadata": {
    "deletable": true,
    "editable": true
   },
   "source": [
    "### With bokeh\n",
    "\n",
    "see exopanet plot (interactive).ipynb, bokeh-notebooks-master/02 - column data source.ipynb"
   ]
  },
  {
   "cell_type": "markdown",
   "metadata": {
    "deletable": true,
    "editable": true
   },
   "source": [
    "# Density plot\n",
    "See Seager et al. 2008"
   ]
  },
  {
   "cell_type": "markdown",
   "metadata": {
    "deletable": true,
    "editable": true
   },
   "source": [
    "# Hot Jupiters\n",
    "http://www.nature.com/nature/journal/v537/n7621/full/nature19430.html\n",
    "1. There is an excess of objects that have orbital periods shorter than about 10 days and masses similar to that of Jupiter\n",
    "2. The objects rarely have companion planets on nearby orbits\n",
    "3. Nearly one-third of hot Jupiters have orbital paths that are inclined with respect to their star's equator, and several planets in the population rotate in the opposite direction to the star"
   ]
  },
  {
   "cell_type": "code",
   "execution_count": null,
   "metadata": {
    "collapsed": false,
    "deletable": true,
    "editable": true
   },
   "outputs": [],
   "source": [
    "#There is an excess of objects that have orbital periods shorter than about 10 days and masses similar to that of Jupiter\n",
    "df_hot_jup = df.query('0.36 < pl_bmassj <= 11.8 and pl_orbper < 7')\n",
    "df_hot_jup.head()"
   ]
  },
  {
   "cell_type": "code",
   "execution_count": null,
   "metadata": {
    "collapsed": false,
    "deletable": true,
    "editable": true
   },
   "outputs": [],
   "source": [
    "from matplotlib import pylab as pl\n",
    "%pylab inline\n",
    "matplotlib.rcParams.update({'font.size': 16})\n",
    "\n",
    "#plot all\n",
    "pl.plot(df['pl_orbsmax'],df['pl_bmassj'],'ro', alpha=0.1)\n",
    "#plot Hot Jupiter\n",
    "pl.plot(df_hot_jup['pl_orbsmax'],df_hot_jup['pl_bmassj'],'bo')\n",
    "pl.xlabel('Semi-major axis [AU]')\n",
    "pl.ylabel('Planet Mass [$M_{Jup}$]')\n",
    "pl.xlim([5e-3, 1e4])\n",
    "#pl.title('Hot Jupiters')\n",
    "#scale in log to avoid over-crowding\n",
    "pl.xscale('log')\n",
    "pl.yscale('log')\n",
    "#indicate E and J\n",
    "pl.plot(a_E/a_E,M_E/M_J,'ko', markersize=8, label='Earth')\n",
    "pl.text(a_E/a_E+0.5,M_E/M_J,'Earth')\n",
    "pl.plot(a_J/a_E,M_J/M_J,'ko', markersize=8, label='Jupiter')\n",
    "pl.text(a_J/a_E+2,M_J/M_J,'Jupiter')\n",
    "#pl.plot(a_N/a_E,M_N/M_J,'k^', markersize=15, label='Neptune')\n",
    "label1=str('confirmed \\nexoplanets ({})'.format(len(df)))\n",
    "label2=str('Hot Jupiter ({})'.format(len(df_hot_jup)))\n",
    "leg = pl.legend([label1,label2], fancybox=False, loc=4, numpoints = 1, fontsize=12)\n",
    "leg.get_frame().set_alpha(0.5)\n",
    "pl.show()"
   ]
  },
  {
   "cell_type": "markdown",
   "metadata": {
    "deletable": true,
    "editable": true
   },
   "source": [
    "# Giant Planet near the Snow Line"
   ]
  },
  {
   "cell_type": "code",
   "execution_count": null,
   "metadata": {
    "collapsed": false,
    "deletable": true,
    "editable": true
   },
   "outputs": [],
   "source": [
    "#There is an excess of objects that have orbital periods shorter than about 10 days and masses similar to that of Jupiter\n",
    "df_SL = df.query('0.36 < pl_bmassj <= 11.8 and 300 < pl_orbper < 1460') #4 years\n",
    "df_SL.head()"
   ]
  },
  {
   "cell_type": "markdown",
   "metadata": {
    "deletable": true,
    "editable": true
   },
   "source": [
    "# mini-Neptunes and Super-Earth"
   ]
  },
  {
   "cell_type": "code",
   "execution_count": null,
   "metadata": {
    "collapsed": true,
    "deletable": true,
    "editable": true
   },
   "outputs": [],
   "source": [
    "M_E = 5.972e24\n",
    "M_J = 1.898e27\n",
    "M_mNep1 = 3*M_E/M_J\n",
    "M_mNep2 = 10*M_E/M_J"
   ]
  },
  {
   "cell_type": "code",
   "execution_count": null,
   "metadata": {
    "collapsed": false,
    "deletable": true,
    "editable": true
   },
   "outputs": [],
   "source": [
    "M_mNep1, M_mNep2"
   ]
  },
  {
   "cell_type": "code",
   "execution_count": null,
   "metadata": {
    "collapsed": true,
    "deletable": true,
    "editable": true
   },
   "outputs": [],
   "source": [
    "df_mini_Nep = df.query('0094 < pl_bmassj <= 0315 and 300 < pl_orbper < 1460') #4 years\n",
    "#df_super_Earth = "
   ]
  },
  {
   "cell_type": "code",
   "execution_count": null,
   "metadata": {
    "collapsed": false,
    "deletable": true,
    "editable": true
   },
   "outputs": [],
   "source": [
    "from matplotlib import pylab as pl\n",
    "%pylab inline\n",
    "matplotlib.rcParams.update({'font.size': 16})\n",
    "\n",
    "#plot all\n",
    "pl.plot(df['pl_orbsmax'],df['pl_bmassj'],'go', alpha=0.1)\n",
    "#plot Hot Jupiter\n",
    "pl.plot(df_hot_jup['pl_orbsmax'],df_hot_jup['pl_bmassj'],'ro')\n",
    "pl.plot(df_SL['pl_orbsmax'],df_SL['pl_bmassj'],'go')\n",
    "pl.xlabel('Semi-major axis [AU]')\n",
    "pl.ylabel('Planet Mass [$M_{Jup}$]')\n",
    "pl.xlim([5e-3, 1e4])\n",
    "#pl.title('Hot Jupiters')\n",
    "#scale in log to avoid over-crowding\n",
    "pl.xscale('log')\n",
    "pl.yscale('log')\n",
    "#vetical lines\n",
    "#pl.axvline(300^(2/3), c='k',ls='--')\n",
    "#pl.axvline(1460^(2/3), c='k',ls='--')\n",
    "#indicate E and J\n",
    "pl.plot(a_E/a_E,M_E/M_J,'ko', markersize=8, label='Earth')\n",
    "pl.text(a_E/a_E+0.5,M_E/M_J,'Earth')\n",
    "pl.plot(a_J/a_E,M_J/M_J,'ko', markersize=8, label='Jupiter')\n",
    "pl.text(a_J/a_E+2,M_J/M_J,'Jupiter')\n",
    "#pl.plot(a_N/a_E,M_N/M_J,'k^', markersize=15, label='Neptune')\n",
    "label1=str('confirmed \\nexoplanets ({})'.format(len(df)))\n",
    "label2=str('Hot Jupiter ({})'.format(len(df_hot_jup)))\n",
    "label3=str('GP near Snow Line ({})'.format(len(df_SL)))\n",
    "leg = pl.legend([label1,label2,label3], fancybox=False, loc=4, numpoints = 1, fontsize=12)\n",
    "leg.get_frame().set_alpha(0.5)\n",
    "pl.show()"
   ]
  },
  {
   "cell_type": "markdown",
   "metadata": {
    "deletable": true,
    "editable": true
   },
   "source": [
    "## Histograms\n",
    "\n",
    "Bayesian Blocks is a dynamic histogramming method which optimizes one of several possible fitness functions to determine an optimal binning for data, where the bins are not necessarily uniform width. The astroML implementation is based on [1]. For more discussion of this technique, see the blog post at [2].\n",
    "\n",
    "See [astroml page](http://www.astroml.org/user_guide/density_estimation.html) for density estimation using histogram recipes."
   ]
  },
  {
   "cell_type": "code",
   "execution_count": null,
   "metadata": {
    "collapsed": false,
    "deletable": true,
    "editable": true
   },
   "outputs": [],
   "source": [
    "import numpy as np\n",
    "import matplotlib.pyplot as plt\n",
    "from astroML.plotting import hist\n",
    "#x = np.random.normal(size=1000)\n",
    "x = df['pl_orbsmax'].dropna().values\n",
    "\n",
    "fig = plt.figure(figsize=(10, 4))\n",
    "fig.subplots_adjust(left=0.1, right=0.95, bottom=0.15)\n",
    "\n",
    "for bins, title, subplot in zip(['knuth', 'blocks'],\n",
    "                                [\"Knuth's rule\", 'Bayesian blocks'],\n",
    "                                [121, 122]):\n",
    "    ax = fig.add_subplot(subplot)\n",
    "\n",
    "    # plot a standard histogram in the background, with alpha transparency\n",
    "    hist(np.log(x), bins=100, histtype='stepfilled',\n",
    "         alpha=0.2, normed=True, label='standard histogram')\n",
    "\n",
    "    # plot an adaptive-width histogram on top\n",
    "    hist(np.log(x), bins=bins, ax=ax, color='black',\n",
    "         histtype='step', normed=True, label=title)\n",
    "\n",
    "    ax.legend(prop=dict(size=12))\n",
    "    ax.set_xlabel('$\\log$ Semi-major axis (AU)')\n",
    "    ax.set_ylabel('Count')\n",
    "\n",
    "plt.show()"
   ]
  },
  {
   "cell_type": "markdown",
   "metadata": {
    "deletable": true,
    "editable": true
   },
   "source": [
    "A comparison of different density estimation methods for two simulated one-dimensional data sets (same as in figure 6.5). Density estimators are Bayesian blocks (Section 5.7.2), KDE (Section 6.1.1), and a Gaussian mixture model. In the latter, the optimal number of Gaussian components is chosen using the BIC (eq. 5.35). In the top panel, GMM solution has three components but one of the components has a very large width and effectively acts as a nearly flat background.\n",
    "\n",
    "See http://www.astroml.org/book_figures/chapter6/fig_GMM_density_estimation.html"
   ]
  },
  {
   "cell_type": "raw",
   "metadata": {
    "collapsed": false,
    "deletable": true,
    "editable": true
   },
   "source": [
    "import numpy as np\n",
    "from matplotlib import pyplot as plt\n",
    "from scipy import stats\n",
    "\n",
    "from astroML.plotting import hist\n",
    "from sklearn.mixture import GMM\n",
    "\n",
    "# Scikit-learn 0.14 added sklearn.neighbors.KernelDensity, which is a very\n",
    "# fast kernel density estimator based on a KD Tree.  We'll use this if\n",
    "# available (and raise a warning if it isn't).\n",
    "try:\n",
    "    from sklearn.neighbors import KernelDensity\n",
    "    use_sklearn_KDE = True\n",
    "except:\n",
    "    import warnings\n",
    "    warnings.warn(\"KDE will be removed in astroML version 0.3.  Please \"\n",
    "                  \"upgrade to scikit-learn 0.14+ and use \"\n",
    "                  \"sklearn.neighbors.KernelDensity.\", DeprecationWarning)\n",
    "    from astroML.density_estimation import KDE\n",
    "    use_sklearn_KDE = False\n",
    "\n",
    "x = df['pl_orbsmax'].dropna().values\n",
    "\n",
    "fig = plt.figure(figsize=(5, 5))\n",
    "fig.subplots_adjust(bottom=0.08, top=0.95, right=0.95, hspace=0.1)\n",
    "N_values = (50, 500)\n",
    "subplots = (211, 212)\n",
    "k_values = (10, 100)\n",
    "\n",
    "for N, k, subplot in zip(N_values, k_values, subplots):\n",
    "    ax = fig.add_subplot(subplot)\n",
    "    xN = x[:N]\n",
    "    #t = np.linspace(-10, 30, 1000)\n",
    "\n",
    "    # Compute density with KDE\n",
    "    if use_sklearn_KDE:\n",
    "        kde = KernelDensity(0.1, kernel='gaussian')\n",
    "        kde.fit(xN[:, None])\n",
    "        dens_kde = np.exp(kde.score_samples(t[:, None]))\n",
    "    else:\n",
    "        kde = KDE('gaussian', h=0.1).fit(xN[:, None])\n",
    "        dens_kde = kde.eval(t[:, None]) / N\n",
    "\n",
    "    # Compute density via Gaussian Mixtures\n",
    "    # we'll try several numbers of clusters\n",
    "    n_components = np.arange(3, 16)\n",
    "    gmms = [GMM(n_components=n).fit(xN) for n in n_components]\n",
    "    BICs = [gmm.bic(xN) for gmm in gmms]\n",
    "    i_min = np.argmin(BICs)\n",
    "    t = np.linspace(-10, 30, 1000)\n",
    "    logprob, responsibilities = gmms[i_min].eval(t)\n",
    "\n",
    "    # plot the results\n",
    "    ax.plot(t, true_pdf(t), ':', color='black', zorder=3,\n",
    "            label=\"Generating Distribution\")\n",
    "    ax.plot(xN, -0.005 * np.ones(len(xN)), '|k', lw=1.5)\n",
    "    hist(xN, bins='blocks', ax=ax, normed=True, zorder=1,\n",
    "         histtype='stepfilled', lw=1.5, color='k', alpha=0.2,\n",
    "         label=\"Bayesian Blocks\")\n",
    "    ax.plot(x, np.exp(logprob), '-', color='gray',\n",
    "            label=\"Mixture Model\\n(%i components)\" % n_components[i_min])\n",
    "    ax.plot(x, dens_kde, '-', color='black', zorder=3,\n",
    "            label=\"Kernel Density $(h=0.1)$\")\n",
    "\n",
    "    # label the plot\n",
    "    ax.text(0.02, 0.95, \"%i points\" % N, ha='left', va='top',\n",
    "            transform=ax.transAxes)\n",
    "    ax.set_ylabel('$p(x)$')\n",
    "    ax.legend(loc='upper right')\n",
    "\n",
    "    if subplot == 212:\n",
    "        ax.set_xlabel('$x$')\n",
    "\n",
    "    ax.set_xlim(0, 20)\n",
    "    ax.set_ylim(-0.01, 0.4001)\n",
    "\n",
    "plt.show()"
   ]
  },
  {
   "cell_type": "raw",
   "metadata": {
    "collapsed": false,
    "deletable": true,
    "editable": true
   },
   "source": [
    "n_components"
   ]
  },
  {
   "cell_type": "raw",
   "metadata": {
    "collapsed": false,
    "deletable": true,
    "editable": true
   },
   "source": [
    "[GMM(n_components=n).fit(xN) for n in n_components]"
   ]
  },
  {
   "cell_type": "markdown",
   "metadata": {
    "deletable": true,
    "editable": true
   },
   "source": [
    "# Super-Earths and mini-Neptunes"
   ]
  },
  {
   "cell_type": "code",
   "execution_count": null,
   "metadata": {
    "collapsed": false,
    "deletable": true,
    "editable": true
   },
   "outputs": [],
   "source": [
    "pl.plot(df_transit['pl_radj'],df_transit['pl_orbper'],'bo', label='transit ({})'.format(np.count_nonzero(df_transit['pl_radj']>0)))\n",
    "#pl.plot(df_RV['pl_radj'],df_RV['pl_orbper'],'ro', label='RV ({})'.format(np.count_nonzero(df_RV['pl_radj']>0)))\n",
    "#pl.plot(df_TTV['pl_radj'],df_TTV['pl_orbper'],'go', label='TTV ({})'.format(np.count_nonzero(df_TTV['pl_radj']>0)))\n",
    "#pl.plot(df_DI['pl_radj'],df_DI['pl_orbper'],'mo', label='direct imaging ({})'.format(np.count_nonzero(df_DI['pl_radj']>0)))\n",
    "pl.xlabel('Planet Radius [AU]')\n",
    "pl.ylabel('Orbital Period [days]')\n",
    "pl.title('Transiting Super-Earths')\n",
    "#pl.xlim([5e-3, 1e5])\n",
    "pl.xscale('log')\n",
    "pl.yscale('log')\n",
    "pl.plot(R_E/R_J,P_E,'k^', markersize=12, label='Earth')\n",
    "pl.plot(R_N/R_J,P_N,'k*', markersize=15, label='Neptune')\n",
    "pl.legend(loc=2, numpoints = 1)"
   ]
  },
  {
   "cell_type": "markdown",
   "metadata": {
    "deletable": true,
    "editable": true
   },
   "source": [
    "## Photospheric temperature - Discovery Year"
   ]
  },
  {
   "cell_type": "code",
   "execution_count": null,
   "metadata": {
    "collapsed": false,
    "deletable": true,
    "editable": true
   },
   "outputs": [],
   "source": [
    "import matplotlib.pyplot as pl\n",
    "%matplotlib inline\n",
    "pl.scatter(df['pl_disc'], df['st_teff'])\n",
    "pl.ylabel('Photospheric temperature')\n",
    "pl.xlabel('Year of discovery')\n",
    "#change to logarithmic scale\n",
    "#pl.xscale('log')\n",
    "pl.yscale('log')\n",
    "#pl.legend(loc='best', numpoints = 1, fontsize=12, handlelength=0.5, fancybox=True, framealpha=0.5)\n",
    "pl.show()"
   ]
  },
  {
   "cell_type": "markdown",
   "metadata": {
    "deletable": true,
    "editable": true
   },
   "source": [
    "## Planet - (Stellar) metallicity correlation"
   ]
  },
  {
   "cell_type": "code",
   "execution_count": null,
   "metadata": {
    "collapsed": true,
    "deletable": true,
    "editable": true
   },
   "outputs": [],
   "source": [
    "import matplotlib.pyplot as pl\n",
    "%matplotlib inline\n",
    "pl.hist(df['st_metfe'], bins=100)\n",
    "pl.ylabel('Frequency')\n",
    "pl.xlabel('Metallicity [Fe/H]')\n",
    "#pl.legend(loc='best', numpoints = 1, fontsize=12, handlelength=0.5, fancybox=True, framealpha=0.5)\n",
    "pl.show()"
   ]
  },
  {
   "cell_type": "markdown",
   "metadata": {
    "collapsed": true,
    "deletable": true,
    "editable": true
   },
   "source": [
    "# Scatter matrix"
   ]
  },
  {
   "cell_type": "code",
   "execution_count": null,
   "metadata": {
    "collapsed": false,
    "deletable": true,
    "editable": true
   },
   "outputs": [],
   "source": [
    "from pandas.tools.plotting import scatter_matrix\n",
    "\n",
    "scatter_matrix(df[['pl_radj', 'pl_bmassj', 'pl_orbsmax']], alpha=0.2, figsize=(6, 6), diagonal='kde');"
   ]
  },
  {
   "cell_type": "markdown",
   "metadata": {
    "deletable": true,
    "editable": true
   },
   "source": [
    "Another powerful python library is called [seaborn](http://seaborn.pydata.org/). It offers more advanced plotting capabilities so be sure to learn how to use them. The following is an example.\n",
    "\n",
    "## Pairplots\n",
    "This is a powerful way to survey relationship among variables. A particular scattered pairplot implies no correlation while a distribution with a definite slope implies otherwise. Be sure to try varying the keyword parameters."
   ]
  },
  {
   "cell_type": "code",
   "execution_count": null,
   "metadata": {
    "collapsed": false,
    "deletable": true,
    "editable": true
   },
   "outputs": [],
   "source": [
    "import seaborn as sb\n",
    "\n",
    "variables=df[['pl_radj', 'pl_bmassj', 'pl_dens', 'pl_orbsmax',\"st_mass\",\"st_teff\",\"st_rad\"]].dropna()\n",
    "sb.pairplot(variables, diag_kind=\"kde\", plot_kws=dict(s=50, edgecolor=\"b\", linewidth=1), diag_kws=dict(shade=True));\n",
    "#, hue=\"pl_discmethod\", markers=\"+\""
   ]
  },
  {
   "cell_type": "markdown",
   "metadata": {
    "deletable": true,
    "editable": true
   },
   "source": [
    "# What stellar properties are good predictor of hosting planets?"
   ]
  },
  {
   "cell_type": "code",
   "execution_count": null,
   "metadata": {
    "collapsed": true,
    "deletable": true,
    "editable": true
   },
   "outputs": [],
   "source": [
    "labels = df.[['[pl_]','']]\n",
    "features = df[['st_','st_']],\n",
    "\n",
    "#transform the strings \"male\" and \"female\" into binary variables\n",
    "pd.get_dummies(features).head()"
   ]
  },
  {
   "cell_type": "code",
   "execution_count": null,
   "metadata": {
    "collapsed": false,
    "deletable": true,
    "editable": true
   },
   "outputs": [],
   "source": [
    "#1. scale stellar params\n",
    "from sklearn.preprocessing import StandardScaler\n",
    "scaler = StandardScaler()"
   ]
  },
  {
   "cell_type": "code",
   "execution_count": null,
   "metadata": {
    "collapsed": false,
    "deletable": true,
    "editable": true
   },
   "outputs": [],
   "source": [
    "#scaler.fit(df[['pl_bmassj','pl_radj']].dropna())"
   ]
  },
  {
   "cell_type": "code",
   "execution_count": null,
   "metadata": {
    "collapsed": false,
    "deletable": true,
    "editable": true
   },
   "outputs": [],
   "source": [
    "plt.scatter(, c=y, linewidths=0, s=30)\n",
    "plt.xlabel(\"feature 1\")\n",
    "plt.ylabel(\"feature 2\");"
   ]
  },
  {
   "cell_type": "code",
   "execution_count": null,
   "metadata": {
    "collapsed": true,
    "deletable": true,
    "editable": true
   },
   "outputs": [],
   "source": [
    "X_train, X_test, y_train, y_test = train_test_split(iris.data, iris.target, random_state=0)"
   ]
  }
 ],
 "metadata": {
  "kernelspec": {
   "display_name": "Python 3",
   "language": "python",
   "name": "python3"
  },
  "language_info": {
   "codemirror_mode": {
    "name": "ipython",
    "version": 3
   },
   "file_extension": ".py",
   "mimetype": "text/x-python",
   "name": "python",
   "nbconvert_exporter": "python",
   "pygments_lexer": "ipython3",
   "version": "3.5.3"
  }
 },
 "nbformat": 4,
 "nbformat_minor": 1
}
