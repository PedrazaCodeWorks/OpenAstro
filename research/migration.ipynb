{
 "cells": [
  {
   "cell_type": "code",
   "execution_count": 1,
   "metadata": {},
   "outputs": [],
   "source": [
    "import numpy as np\n",
    "import matplotlib.pyplot as plt\n",
    "%matplotlib inline\n",
    "\n",
    "M_sun=1.989E30\n",
    "M_E=5.972E24\n",
    "M_Jup=1.898E27     #kg\n",
    "r_E=149.60E9       #meters\n",
    "r_Jup= r_E * 5.2   #5.2 AU in meters\n",
    "P_E= 365           #days\n",
    "P_Jup= P_E*12   \n",
    "i=30.0\n",
    "e=0.05"
   ]
  },
  {
   "cell_type": "code",
   "execution_count": 2,
   "metadata": {
    "scrolled": false
   },
   "outputs": [],
   "source": [
    "P_p = np.linspace(0,10000,10) #days\n",
    "Mass_p = np.linspace(0.01,10,10) #M_Jup\n",
    "\n",
    "def K_RV(P_p, M_p,inc,M_star,ecc):\n",
    "    K = 203.*(P_p**(-1./3.))*(((M_p/M_Jup)*np.sin(inc))/(((M_star/M_sun)+9.548E-4*(M_p/M_Jup))**(2./3.)))/(np.sqrt(1-ecc**2))\n",
    "    return abs(K)\n",
    "\n",
    "# RV=[]\n",
    "# for j in range(len(P_p)):\n",
    "#     RV_i = K_RV(P_p[j], M_Jup, i, M_sun, e)\n",
    "#     RV.append(RV_i)"
   ]
  },
  {
   "cell_type": "code",
   "execution_count": 3,
   "metadata": {
    "scrolled": true
   },
   "outputs": [
    {
     "data": {
      "text/plain": [
       "True"
      ]
     },
     "execution_count": 3,
     "metadata": {},
     "output_type": "execute_result"
    }
   ],
   "source": [
    "range(len(P_p))==range(len(Mass_p))"
   ]
  },
  {
   "cell_type": "code",
   "execution_count": 5,
   "metadata": {},
   "outputs": [
    {
     "name": "stdout",
     "output_type": "stream",
     "text": [
      "{1: [inf]}\n",
      "{2: [inf, 1.0215549349463355e-25]}\n",
      "{3: [inf, 1.0215549349463355e-25, 8.1080868918855929e-26]}\n",
      "{4: [inf, 1.0215549349463355e-25, 8.1080868918855929e-26, 7.08306631513571e-26]}\n",
      "{5: [inf, 1.0215549349463355e-25, 8.1080868918855929e-26, 7.08306631513571e-26, 6.4353928308143804e-26]}\n",
      "{6: [inf, 1.0215549349463355e-25, 8.1080868918855929e-26, 7.08306631513571e-26, 6.4353928308143804e-26, 5.9740895006839517e-26]}\n",
      "{7: [inf, 1.0215549349463355e-25, 8.1080868918855929e-26, 7.08306631513571e-26, 6.4353928308143804e-26, 5.9740895006839517e-26, 5.6218334599034714e-26]}\n",
      "{8: [inf, 1.0215549349463355e-25, 8.1080868918855929e-26, 7.08306631513571e-26, 6.4353928308143804e-26, 5.9740895006839517e-26, 5.6218334599034714e-26, 5.3402597236446729e-26]}\n",
      "{9: [inf, 1.0215549349463355e-25, 8.1080868918855929e-26, 7.08306631513571e-26, 6.4353928308143804e-26, 5.9740895006839517e-26, 5.6218334599034714e-26, 5.3402597236446729e-26, 5.1077746747316777e-26]}\n",
      "{10: [inf, 1.0215549349463355e-25, 8.1080868918855929e-26, 7.08306631513571e-26, 6.4353928308143804e-26, 5.9740895006839517e-26, 5.6218334599034714e-26, 5.3402597236446729e-26, 5.1077746747316777e-26, 4.91112388657255e-26]}\n"
     ]
    },
    {
     "name": "stderr",
     "output_type": "stream",
     "text": [
      "/home/jp/miniconda2/envs/astroconda/lib/python2.7/site-packages/ipykernel_launcher.py:5: RuntimeWarning: divide by zero encountered in double_scalars\n",
      "  \"\"\"\n"
     ]
    },
    {
     "ename": "KeyError",
     "evalue": "9",
     "output_type": "error",
     "traceback": [
      "\u001b[0;31m---------------------------------------------------------------------------\u001b[0m",
      "\u001b[0;31mKeyError\u001b[0m                                  Traceback (most recent call last)",
      "\u001b[0;32m<ipython-input-5-dab24e7adac5>\u001b[0m in \u001b[0;36m<module>\u001b[0;34m()\u001b[0m\n\u001b[1;32m     12\u001b[0m     \u001b[0;31m#RV.update(RV_j)\u001b[0m\u001b[0;34m\u001b[0m\u001b[0;34m\u001b[0m\u001b[0m\n\u001b[1;32m     13\u001b[0m     \u001b[0;32mprint\u001b[0m\u001b[0;34m(\u001b[0m\u001b[0mRV_j\u001b[0m\u001b[0;34m)\u001b[0m\u001b[0;34m\u001b[0m\u001b[0m\n\u001b[0;32m---> 14\u001b[0;31m \u001b[0mplt\u001b[0m\u001b[0;34m.\u001b[0m\u001b[0mplot\u001b[0m\u001b[0;34m(\u001b[0m\u001b[0mP_p\u001b[0m\u001b[0;34m[\u001b[0m\u001b[0mj\u001b[0m\u001b[0;34m]\u001b[0m\u001b[0;34m,\u001b[0m\u001b[0mRV\u001b[0m\u001b[0;34m[\u001b[0m\u001b[0mj\u001b[0m\u001b[0;34m]\u001b[0m\u001b[0;34m,\u001b[0m\u001b[0;34m'bo'\u001b[0m\u001b[0;34m)\u001b[0m\u001b[0;34m\u001b[0m\u001b[0m\n\u001b[0m",
      "\u001b[0;31mKeyError\u001b[0m: 9"
     ]
    }
   ],
   "source": [
    "RV={}\n",
    "RV_j={}\n",
    "RV_i=[]\n",
    "for j in range(len(P_p)):\n",
    "    #RV[j] = K_RV(P_p[j], M_Jup, i, M_sun, e)\n",
    "    for k in range(len(Mass_p)):\n",
    "        item = K_RV(P_p[j], Mass_p[k], i, M_sun, e)\n",
    "        #print(j,k)\n",
    "    RV_i.append(item)\n",
    "    #print(shape(RV_i))\n",
    "    RV_j = {j+1 : RV_i}\n",
    "    #RV.update(RV_j)\n",
    "    print(RV_j)\n",
    "plt.plot(P_p[j],RV[j],'bo')"
   ]
  },
  {
   "cell_type": "code",
   "execution_count": 6,
   "metadata": {},
   "outputs": [
    {
     "data": {
      "image/png": "[encoded data removed]",
      "text/plain": [
       "<matplotlib.figure.Figure at 0x7eff881c4090>"
      ]
     },
     "metadata": {},
     "output_type": "display_data"
    }
   ],
   "source": [
    "K_Jup=K_RV(P_Jup, M_Jup,1.31,M_sun,0.0483)\n",
    "K_E=K_RV(P_E, M_E,0,M_sun,0.0167)\n",
    "    \n",
    "plt.vlines(P_E, 0, 400, color='blue', lw=3, alpha=0.25) #Earth\n",
    "plt.hlines(K_E, 0, 400, color='blue', lw=3, alpha=0.25)\n",
    "#plt.vlines(P_Jup, 0, 400, color='blue', lw=3, alpha=0.25) #Jup\n",
    "#plt.hlines(K_Jup, 0, 400, color='blue', lw=3, alpha=0.25)\n",
    "plt.ylabel('K [m/s]')\n",
    "plt.xlabel('orbital period [days]')\n",
    "#plt.xscale('log')\n",
    "plt.yscale('log')\n",
    "plt.xlim([0,400])\n",
    "plt.ylim([-100,100])\n",
    "plt.show()"
   ]
  },
  {
   "cell_type": "code",
   "execution_count": null,
   "metadata": {
    "collapsed": true
   },
   "outputs": [],
   "source": []
  }
 ],
 "metadata": {
  "kernelspec": {
   "display_name": "Python 2",
   "language": "python",
   "name": "python2"
  },
  "language_info": {
   "codemirror_mode": {
    "name": "ipython",
    "version": 2
   },
   "file_extension": ".py",
   "mimetype": "text/x-python",
   "name": "python",
   "nbconvert_exporter": "python",
   "pygments_lexer": "ipython2",
   "version": "2.7.13"
  }
 },
 "nbformat": 4,
 "nbformat_minor": 1
}
