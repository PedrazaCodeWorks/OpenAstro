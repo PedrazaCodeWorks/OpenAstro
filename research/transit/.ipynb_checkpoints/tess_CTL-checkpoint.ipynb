{
 "cells": [
  {
   "cell_type": "markdown",
   "metadata": {},
   "source": [
    "# TESS CTL\n",
    "\n",
    "* [TESS Candidate Target List (CTL) filtergraph](https://filtergraph.com/tess_ctl)\n",
    "* [CTL download (1.7 Gb)](http://astro.phy.vanderbilt.edu/~oelkerrj/tic6_ctl_20180108.tar.gz)\n",
    "* [filtergraph](https://filtergraph.com/tess_ctl)"
   ]
  },
  {
   "cell_type": "markdown",
   "metadata": {},
   "source": [
    "CTL file is divided into 0-2, 2-4, ... 24 sectors. I only check 0-2 below. \n",
    "\n",
    "Stars are considered for the CTL if they are: \n",
    "1) identified as RPMJ dwarfs with greater than 2-sigma confidence; and \n",
    "2) meet one of the following temperature/magnitude criteria: (TESSmag < 12 and Teff >= 5500K) or (TESSmag < 13 and Teff < 5500K). \n",
    "Alternatively, a star is included in the CTL, regardless of the conditions above, if the star is a member of the bright star list (TESSmag < 6) or the specially curated cool dwarf list. \n",
    "\n",
    "Users who are interested only in the top 200K or 400K stars may use a filter on the priority of 0.0022 and 0.0015 respectively."
   ]
  },
  {
   "cell_type": "code",
   "execution_count": 2,
   "metadata": {
    "ExecuteTime": {
     "end_time": "2018-02-18T07:39:41.776520Z",
     "start_time": "2018-02-18T07:39:41.766593Z"
    },
    "collapsed": true
   },
   "outputs": [],
   "source": [
    "fileloc='/home/jp/data/transit/tess/ctl/'\n",
    "\n",
    "with open(fileloc+'header.txt') as f:\n",
    "    hdr=f.read()\n",
    "    \n",
    "cols = hdr.split(',')"
   ]
  },
  {
   "cell_type": "code",
   "execution_count": 3,
   "metadata": {
    "ExecuteTime": {
     "end_time": "2018-02-18T07:39:45.071536Z",
     "start_time": "2018-02-18T07:39:41.780652Z"
    }
   },
   "outputs": [
    {
     "name": "stderr",
     "output_type": "stream",
     "text": [
      "/home/jp/miniconda3/envs/astroconda35/lib/python3.6/site-packages/IPython/core/interactiveshell.py:2698: DtypeWarning: Columns (31) have mixed types. Specify dtype option on import or set low_memory=False.\n",
      "  interactivity=interactivity, compiler=compiler, result=result)\n"
     ]
    }
   ],
   "source": [
    "import pandas as pd\n",
    "\n",
    "df = pd.read_csv(fileloc+'00-02.csv')\n",
    "df.columns = cols"
   ]
  },
  {
   "cell_type": "code",
   "execution_count": 4,
   "metadata": {
    "ExecuteTime": {
     "end_time": "2018-02-18T07:39:45.100405Z",
     "start_time": "2018-02-18T07:39:45.076964Z"
    }
   },
   "outputs": [
    {
     "data": {
      "text/plain": [
       "(279213, 49)"
      ]
     },
     "execution_count": 4,
     "metadata": {},
     "output_type": "execute_result"
    }
   ],
   "source": [
    "df.shape"
   ]
  },
  {
   "cell_type": "code",
   "execution_count": 5,
   "metadata": {
    "ExecuteTime": {
     "end_time": "2018-02-18T07:39:45.171891Z",
     "start_time": "2018-02-18T07:39:45.113021Z"
    }
   },
   "outputs": [
    {
     "data": {
      "text/html": [
       "<div>\n",
       "<table border=\"1\" class=\"dataframe\">\n",
       "  <thead>\n",
       "    <tr style=\"text-align: right;\">\n",
       "      <th></th>\n",
       "      <th>RA</th>\n",
       "      <th>DEC</th>\n",
       "      <th>TESSMAG</th>\n",
       "      <th>TEFF</th>\n",
       "      <th>PRIORITY</th>\n",
       "      <th>RADIUS</th>\n",
       "      <th>MASS</th>\n",
       "      <th>CONTRATIO</th>\n",
       "      <th>ECLONG</th>\n",
       "      <th>ECLAT</th>\n",
       "      <th>...</th>\n",
       "      <th>TEFF_SRC_FLAG</th>\n",
       "      <th>STARCHAR_FLAG</th>\n",
       "      <th>RADIUS_ERR</th>\n",
       "      <th>MASS_ERR</th>\n",
       "      <th>LOGG</th>\n",
       "      <th>LOGG_ERR</th>\n",
       "      <th>RHO</th>\n",
       "      <th>RHO_ERR</th>\n",
       "      <th>LUM</th>\n",
       "      <th>LUM_ERR</th>\n",
       "    </tr>\n",
       "  </thead>\n",
       "  <tbody>\n",
       "    <tr>\n",
       "      <th>0</th>\n",
       "      <td>9.405677</td>\n",
       "      <td>-11.782400</td>\n",
       "      <td>10.638</td>\n",
       "      <td>5702.0</td>\n",
       "      <td>0.001589</td>\n",
       "      <td>1.10355</td>\n",
       "      <td>1.015728</td>\n",
       "      <td>0.009509</td>\n",
       "      <td>3.883191</td>\n",
       "      <td>-14.535637</td>\n",
       "      <td>...</td>\n",
       "      <td>dered</td>\n",
       "      <td>spline</td>\n",
       "      <td>1.10355</td>\n",
       "      <td>0.123769</td>\n",
       "      <td>4.35962</td>\n",
       "      <td>2.003710</td>\n",
       "      <td>0.755785</td>\n",
       "      <td>2.26736</td>\n",
       "      <td>1.159817</td>\n",
       "      <td>1.159817</td>\n",
       "    </tr>\n",
       "    <tr>\n",
       "      <th>1</th>\n",
       "      <td>9.385747</td>\n",
       "      <td>-9.109179</td>\n",
       "      <td>15.036</td>\n",
       "      <td>3481.0</td>\n",
       "      <td>0.000410</td>\n",
       "      <td>0.37800</td>\n",
       "      <td>0.389000</td>\n",
       "      <td>0.002543</td>\n",
       "      <td>4.972744</td>\n",
       "      <td>-12.081564</td>\n",
       "      <td>...</td>\n",
       "      <td>cdwrf</td>\n",
       "      <td>cdwrf</td>\n",
       "      <td>0.06300</td>\n",
       "      <td>0.079000</td>\n",
       "      <td>4.87339</td>\n",
       "      <td>0.390326</td>\n",
       "      <td>7.202350</td>\n",
       "      <td>3.60117</td>\n",
       "      <td>0.018901</td>\n",
       "      <td>0.006300</td>\n",
       "    </tr>\n",
       "    <tr>\n",
       "      <th>2</th>\n",
       "      <td>9.406185</td>\n",
       "      <td>-6.062733</td>\n",
       "      <td>14.784</td>\n",
       "      <td>3599.0</td>\n",
       "      <td>0.000405</td>\n",
       "      <td>0.44000</td>\n",
       "      <td>0.465000</td>\n",
       "      <td>0.000015</td>\n",
       "      <td>6.230063</td>\n",
       "      <td>-9.296763</td>\n",
       "      <td>...</td>\n",
       "      <td>cdwrf</td>\n",
       "      <td>cdwrf</td>\n",
       "      <td>0.06800</td>\n",
       "      <td>0.087000</td>\n",
       "      <td>4.81898</td>\n",
       "      <td>0.361307</td>\n",
       "      <td>5.458770</td>\n",
       "      <td>2.53088</td>\n",
       "      <td>0.029264</td>\n",
       "      <td>0.009045</td>\n",
       "    </tr>\n",
       "  </tbody>\n",
       "</table>\n",
       "<p>3 rows × 49 columns</p>\n",
       "</div>"
      ],
      "text/plain": [
       "         RA        DEC  TESSMAG    TEFF  PRIORITY   RADIUS      MASS  \\\n",
       "0  9.405677 -11.782400   10.638  5702.0  0.001589  1.10355  1.015728   \n",
       "1  9.385747  -9.109179   15.036  3481.0  0.000410  0.37800  0.389000   \n",
       "2  9.406185  -6.062733   14.784  3599.0  0.000405  0.44000  0.465000   \n",
       "\n",
       "   CONTRATIO    ECLONG      ECLAT    ...      TEFF_SRC_FLAG  STARCHAR_FLAG  \\\n",
       "0   0.009509  3.883191 -14.535637    ...              dered         spline   \n",
       "1   0.002543  4.972744 -12.081564    ...              cdwrf          cdwrf   \n",
       "2   0.000015  6.230063  -9.296763    ...              cdwrf          cdwrf   \n",
       "\n",
       "  RADIUS_ERR  MASS_ERR     LOGG  LOGG_ERR       RHO  RHO_ERR       LUM  \\\n",
       "0    1.10355  0.123769  4.35962  2.003710  0.755785  2.26736  1.159817   \n",
       "1    0.06300  0.079000  4.87339  0.390326  7.202350  3.60117  0.018901   \n",
       "2    0.06800  0.087000  4.81898  0.361307  5.458770  2.53088  0.029264   \n",
       "\n",
       "   LUM_ERR\\n  \n",
       "0   1.159817  \n",
       "1   0.006300  \n",
       "2   0.009045  \n",
       "\n",
       "[3 rows x 49 columns]"
      ]
     },
     "execution_count": 5,
     "metadata": {},
     "output_type": "execute_result"
    }
   ],
   "source": [
    "df.head(3)"
   ]
  },
  {
   "cell_type": "code",
   "execution_count": 6,
   "metadata": {
    "ExecuteTime": {
     "end_time": "2018-02-18T07:39:45.440622Z",
     "start_time": "2018-02-18T07:39:45.174512Z"
    }
   },
   "outputs": [
    {
     "data": {
      "text/html": [
       "<div>\n",
       "<table border=\"1\" class=\"dataframe\">\n",
       "  <thead>\n",
       "    <tr style=\"text-align: right;\">\n",
       "      <th></th>\n",
       "      <th>RA</th>\n",
       "      <th>DEC</th>\n",
       "      <th>TESSMAG</th>\n",
       "      <th>TEFF</th>\n",
       "      <th>PRIORITY</th>\n",
       "      <th>RADIUS</th>\n",
       "      <th>MASS</th>\n",
       "      <th>CONTRATIO</th>\n",
       "      <th>ECLONG</th>\n",
       "      <th>ECLAT</th>\n",
       "      <th>...</th>\n",
       "      <th>TEFF_SRC_FLAG</th>\n",
       "      <th>STARCHAR_FLAG</th>\n",
       "      <th>RADIUS_ERR</th>\n",
       "      <th>MASS_ERR</th>\n",
       "      <th>LOGG</th>\n",
       "      <th>LOGG_ERR</th>\n",
       "      <th>RHO</th>\n",
       "      <th>RHO_ERR</th>\n",
       "      <th>LUM</th>\n",
       "      <th>LUM_ERR</th>\n",
       "    </tr>\n",
       "  </thead>\n",
       "  <tbody>\n",
       "    <tr>\n",
       "      <th>260994</th>\n",
       "      <td>20.080444</td>\n",
       "      <td>77.571065</td>\n",
       "      <td>5.325</td>\n",
       "      <td>4984.4</td>\n",
       "      <td>1.0</td>\n",
       "      <td>17.191100</td>\n",
       "      <td>2.650012</td>\n",
       "      <td>0.005071</td>\n",
       "      <td>66.104046</td>\n",
       "      <td>60.064233</td>\n",
       "      <td>...</td>\n",
       "      <td>spec</td>\n",
       "      <td>spec</td>\n",
       "      <td>1.597320</td>\n",
       "      <td>0.246196</td>\n",
       "      <td>2.38247</td>\n",
       "      <td>0.055824</td>\n",
       "      <td>0.000522</td>\n",
       "      <td>0.000145</td>\n",
       "      <td>164.344237</td>\n",
       "      <td>30.540140</td>\n",
       "    </tr>\n",
       "    <tr>\n",
       "      <th>261401</th>\n",
       "      <td>22.809004</td>\n",
       "      <td>70.264289</td>\n",
       "      <td>5.246</td>\n",
       "      <td>6293.9</td>\n",
       "      <td>1.0</td>\n",
       "      <td>NaN</td>\n",
       "      <td>NaN</td>\n",
       "      <td>0.011037</td>\n",
       "      <td>57.811378</td>\n",
       "      <td>54.244511</td>\n",
       "      <td>...</td>\n",
       "      <td>spec</td>\n",
       "      <td>NaN</td>\n",
       "      <td>NaN</td>\n",
       "      <td>NaN</td>\n",
       "      <td>NaN</td>\n",
       "      <td>NaN</td>\n",
       "      <td>NaN</td>\n",
       "      <td>NaN</td>\n",
       "      <td>NaN</td>\n",
       "      <td>NaN</td>\n",
       "    </tr>\n",
       "    <tr>\n",
       "      <th>261141</th>\n",
       "      <td>3.308949</td>\n",
       "      <td>15.183578</td>\n",
       "      <td>3.137</td>\n",
       "      <td>NaN</td>\n",
       "      <td>1.0</td>\n",
       "      <td>NaN</td>\n",
       "      <td>NaN</td>\n",
       "      <td>0.000114</td>\n",
       "      <td>9.156018</td>\n",
       "      <td>12.599921</td>\n",
       "      <td>...</td>\n",
       "      <td>NaN</td>\n",
       "      <td>NaN</td>\n",
       "      <td>NaN</td>\n",
       "      <td>NaN</td>\n",
       "      <td>NaN</td>\n",
       "      <td>NaN</td>\n",
       "      <td>NaN</td>\n",
       "      <td>NaN</td>\n",
       "      <td>NaN</td>\n",
       "      <td>NaN</td>\n",
       "    </tr>\n",
       "    <tr>\n",
       "      <th>261142</th>\n",
       "      <td>3.266330</td>\n",
       "      <td>-22.470090</td>\n",
       "      <td>5.656</td>\n",
       "      <td>4791.0</td>\n",
       "      <td>1.0</td>\n",
       "      <td>15.208500</td>\n",
       "      <td>0.773434</td>\n",
       "      <td>0.001865</td>\n",
       "      <td>353.585263</td>\n",
       "      <td>-21.814713</td>\n",
       "      <td>...</td>\n",
       "      <td>nondered</td>\n",
       "      <td>tplx</td>\n",
       "      <td>2.956120</td>\n",
       "      <td>0.091007</td>\n",
       "      <td>1.96268</td>\n",
       "      <td>0.406163</td>\n",
       "      <td>0.000220</td>\n",
       "      <td>0.000128</td>\n",
       "      <td>109.792369</td>\n",
       "      <td>42.681319</td>\n",
       "    </tr>\n",
       "    <tr>\n",
       "      <th>261143</th>\n",
       "      <td>5.149407</td>\n",
       "      <td>8.190312</td>\n",
       "      <td>4.234</td>\n",
       "      <td>4188.8</td>\n",
       "      <td>1.0</td>\n",
       "      <td>0.681297</td>\n",
       "      <td>0.655378</td>\n",
       "      <td>0.000051</td>\n",
       "      <td>7.978856</td>\n",
       "      <td>5.472520</td>\n",
       "      <td>...</td>\n",
       "      <td>spec</td>\n",
       "      <td>spline</td>\n",
       "      <td>0.058848</td>\n",
       "      <td>0.071171</td>\n",
       "      <td>4.58825</td>\n",
       "      <td>0.204050</td>\n",
       "      <td>2.072450</td>\n",
       "      <td>0.537031</td>\n",
       "      <td>0.128744</td>\n",
       "      <td>0.022241</td>\n",
       "    </tr>\n",
       "  </tbody>\n",
       "</table>\n",
       "<p>5 rows × 49 columns</p>\n",
       "</div>"
      ],
      "text/plain": [
       "               RA        DEC  TESSMAG    TEFF  PRIORITY     RADIUS      MASS  \\\n",
       "260994  20.080444  77.571065    5.325  4984.4       1.0  17.191100  2.650012   \n",
       "261401  22.809004  70.264289    5.246  6293.9       1.0        NaN       NaN   \n",
       "261141   3.308949  15.183578    3.137     NaN       1.0        NaN       NaN   \n",
       "261142   3.266330 -22.470090    5.656  4791.0       1.0  15.208500  0.773434   \n",
       "261143   5.149407   8.190312    4.234  4188.8       1.0   0.681297  0.655378   \n",
       "\n",
       "        CONTRATIO      ECLONG      ECLAT    ...      TEFF_SRC_FLAG  \\\n",
       "260994   0.005071   66.104046  60.064233    ...               spec   \n",
       "261401   0.011037   57.811378  54.244511    ...               spec   \n",
       "261141   0.000114    9.156018  12.599921    ...                NaN   \n",
       "261142   0.001865  353.585263 -21.814713    ...           nondered   \n",
       "261143   0.000051    7.978856   5.472520    ...               spec   \n",
       "\n",
       "        STARCHAR_FLAG RADIUS_ERR  MASS_ERR     LOGG  LOGG_ERR       RHO  \\\n",
       "260994           spec   1.597320  0.246196  2.38247  0.055824  0.000522   \n",
       "261401            NaN        NaN       NaN      NaN       NaN       NaN   \n",
       "261141            NaN        NaN       NaN      NaN       NaN       NaN   \n",
       "261142           tplx   2.956120  0.091007  1.96268  0.406163  0.000220   \n",
       "261143         spline   0.058848  0.071171  4.58825  0.204050  2.072450   \n",
       "\n",
       "         RHO_ERR         LUM  LUM_ERR\\n  \n",
       "260994  0.000145  164.344237  30.540140  \n",
       "261401       NaN         NaN        NaN  \n",
       "261141       NaN         NaN        NaN  \n",
       "261142  0.000128  109.792369  42.681319  \n",
       "261143  0.537031    0.128744   0.022241  \n",
       "\n",
       "[5 rows x 49 columns]"
      ]
     },
     "execution_count": 6,
     "metadata": {},
     "output_type": "execute_result"
    }
   ],
   "source": [
    "df.sort_values(by='PRIORITY',ascending=False).head()"
   ]
  },
  {
   "cell_type": "markdown",
   "metadata": {},
   "source": [
    "## Filters"
   ]
  },
  {
   "cell_type": "code",
   "execution_count": 7,
   "metadata": {
    "ExecuteTime": {
     "end_time": "2018-02-18T07:39:45.462084Z",
     "start_time": "2018-02-18T07:39:45.445492Z"
    },
    "collapsed": true
   },
   "outputs": [],
   "source": [
    "d = df.query('PRIORITY == 1.0')"
   ]
  },
  {
   "cell_type": "code",
   "execution_count": 8,
   "metadata": {
    "ExecuteTime": {
     "end_time": "2018-02-18T07:39:45.471497Z",
     "start_time": "2018-02-18T07:39:45.465716Z"
    }
   },
   "outputs": [
    {
     "data": {
      "text/plain": [
       "912"
      ]
     },
     "execution_count": 8,
     "metadata": {},
     "output_type": "execute_result"
    }
   ],
   "source": [
    "len(d)"
   ]
  },
  {
   "cell_type": "code",
   "execution_count": 15,
   "metadata": {
    "ExecuteTime": {
     "end_time": "2018-02-18T07:41:06.833150Z",
     "start_time": "2018-02-18T07:41:06.491673Z"
    }
   },
   "outputs": [
    {
     "data": {
      "text/plain": [
       "<matplotlib.colorbar.Colorbar at 0x7fbdd05c0e48>"
      ]
     },
     "execution_count": 15,
     "metadata": {},
     "output_type": "execute_result"
    },
    {
     "data": {
      "image/png": "[encoded data removed]",
      "text/plain": [
       "<matplotlib.figure.Figure at 0x7fbdd0778b38>"
      ]
     },
     "metadata": {},
     "output_type": "display_data"
    }
   ],
   "source": [
    "import matplotlib.pyplot as pl\n",
    "%matplotlib inline\n",
    "\n",
    "fig = pl.figure(figsize=(10,10))\n",
    "pl.scatter(d['RA'],d['DEC'],c=d['TESSMAG'],s=d['TEFF']/1000)\n",
    "#pl.clim(5,15)\n",
    "pl.ylabel('RA')\n",
    "pl.xlabel('DEC')\n",
    "pl.colorbar(label='TESS Mag')"
   ]
  },
  {
   "cell_type": "code",
   "execution_count": 10,
   "metadata": {
    "ExecuteTime": {
     "end_time": "2018-02-18T07:39:46.298564Z",
     "start_time": "2018-02-18T07:39:46.287819Z"
    }
   },
   "outputs": [
    {
     "data": {
      "text/plain": [
       "Index(['RA', 'DEC', 'TESSMAG', 'TEFF', 'PRIORITY', 'RADIUS', 'MASS',\n",
       "       'CONTRATIO', 'ECLONG', 'ECLAT', 'GLONG', 'GLAT', 'LUM_CLASS', 'PLX',\n",
       "       'DIST', 'TOT_PM', 'V', 'J', 'H', 'Ks', 'G', 'u', 'g', 'r', 'i', 'z',\n",
       "       'W1', 'W2', 'W3', 'W4', 'HIP', 'TYCHO2', '2MASS', 'TICID', 'SPEC_LIST',\n",
       "       'PRIO_TIC4', 'PRIO_TIC5', 'PRIO_NO_CRATIO', 'PRIO_NO_BOOST',\n",
       "       'TEFF_SRC_FLAG', 'STARCHAR_FLAG', 'RADIUS_ERR', 'MASS_ERR', 'LOGG',\n",
       "       'LOGG_ERR', 'RHO', 'RHO_ERR', 'LUM', 'LUM_ERR\\n'],\n",
       "      dtype='object')"
      ]
     },
     "execution_count": 10,
     "metadata": {},
     "output_type": "execute_result"
    }
   ],
   "source": [
    "d.columns"
   ]
  },
  {
   "cell_type": "code",
   "execution_count": 29,
   "metadata": {
    "ExecuteTime": {
     "end_time": "2018-02-18T07:43:59.041209Z",
     "start_time": "2018-02-18T07:43:58.302604Z"
    }
   },
   "outputs": [
    {
     "data": {
      "image/png": "[encoded data removed]",
      "text/plain": [
       "<matplotlib.figure.Figure at 0x7fbdcbcdecc0>"
      ]
     },
     "metadata": {},
     "output_type": "display_data"
    }
   ],
   "source": [
    "#import seaborn as sb\n",
    "\n",
    "params = 'TEFF,RADIUS,MASS,RHO'.split(',')\n",
    "\n",
    "n = len(params)\n",
    "fig, ax = pl.subplots(n,1,figsize=(5,5*n))\n",
    "\n",
    "for i,p in enumerate(params):\n",
    "    try:\n",
    "        ax[i].hist(d[p].dropna().ravel(),bins=30);\n",
    "        ax[i].set_title(p)\n",
    "    except:\n",
    "        pass"
   ]
  },
  {
   "cell_type": "code",
   "execution_count": null,
   "metadata": {
    "collapsed": true
   },
   "outputs": [],
   "source": []
  }
 ],
 "metadata": {
  "kernelspec": {
   "display_name": "Python 3",
   "language": "python",
   "name": "python3"
  },
  "language_info": {
   "codemirror_mode": {
    "name": "ipython",
    "version": 3
   },
   "file_extension": ".py",
   "mimetype": "text/x-python",
   "name": "python",
   "nbconvert_exporter": "python",
   "pygments_lexer": "ipython3",
   "version": "3.6.1"
  }
 },
 "nbformat": 4,
 "nbformat_minor": 2
}
