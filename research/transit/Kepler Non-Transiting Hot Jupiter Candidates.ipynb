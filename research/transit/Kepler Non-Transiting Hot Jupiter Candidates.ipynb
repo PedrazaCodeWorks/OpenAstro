{
 "cells": [
  {
   "cell_type": "markdown",
   "metadata": {},
   "source": [
    "# Kepler Non-Transiting Hot Jupiter Candidates\n",
    "\n",
    "* [information](https://smillholland.github.io/Non-transiting_HJs/)"
   ]
  },
  {
   "cell_type": "code",
   "execution_count": 1,
   "metadata": {},
   "outputs": [
    {
     "data": {
      "text/html": [
       "<div>\n",
       "<style>\n",
       "    .dataframe thead tr:only-child th {\n",
       "        text-align: right;\n",
       "    }\n",
       "\n",
       "    .dataframe thead th {\n",
       "        text-align: left;\n",
       "    }\n",
       "\n",
       "    .dataframe tbody tr th {\n",
       "        vertical-align: top;\n",
       "    }\n",
       "</style>\n",
       "<table border=\"1\" class=\"dataframe\">\n",
       "  <thead>\n",
       "    <tr style=\"text-align: right;\">\n",
       "      <th></th>\n",
       "      <th># KepID</th>\n",
       "      <th>RA (deg)</th>\n",
       "      <th>Dec (deg)</th>\n",
       "      <th>Teff</th>\n",
       "      <th>Rs</th>\n",
       "      <th>Ms</th>\n",
       "      <th>FeH</th>\n",
       "      <th>Kp</th>\n",
       "      <th>period</th>\n",
       "      <th>period_unc</th>\n",
       "      <th>Ksini</th>\n",
       "      <th>Ksini_unc</th>\n",
       "      <th>T_0_ellip (BJD)</th>\n",
       "      <th>T_0_refl (BJD)</th>\n",
       "      <th>A_refl</th>\n",
       "      <th>A_ellip</th>\n",
       "      <th>phase_offsets</th>\n",
       "      <th>SNR</th>\n",
       "      <th>probability</th>\n",
       "    </tr>\n",
       "  </thead>\n",
       "  <tbody>\n",
       "    <tr>\n",
       "      <th>0</th>\n",
       "      <td>2706947</td>\n",
       "      <td>290.01038</td>\n",
       "      <td>37.925758</td>\n",
       "      <td>6771</td>\n",
       "      <td>1.29</td>\n",
       "      <td>1.15</td>\n",
       "      <td>-0.44</td>\n",
       "      <td>13.7</td>\n",
       "      <td>2.5762</td>\n",
       "      <td>0.0018</td>\n",
       "      <td>150</td>\n",
       "      <td>144</td>\n",
       "      <td>2456423.956</td>\n",
       "      <td>2456424.276</td>\n",
       "      <td>48.0</td>\n",
       "      <td>3.9</td>\n",
       "      <td>0.124</td>\n",
       "      <td>0.70</td>\n",
       "      <td>0.981</td>\n",
       "    </tr>\n",
       "    <tr>\n",
       "      <th>1</th>\n",
       "      <td>2708787</td>\n",
       "      <td>290.44894</td>\n",
       "      <td>37.988708</td>\n",
       "      <td>4243</td>\n",
       "      <td>0.63</td>\n",
       "      <td>0.62</td>\n",
       "      <td>-0.12</td>\n",
       "      <td>15.1</td>\n",
       "      <td>1.8296</td>\n",
       "      <td>0.0008</td>\n",
       "      <td>326</td>\n",
       "      <td>188</td>\n",
       "      <td>2456423.177</td>\n",
       "      <td>2456423.266</td>\n",
       "      <td>49.6</td>\n",
       "      <td>6.0</td>\n",
       "      <td>0.048</td>\n",
       "      <td>0.30</td>\n",
       "      <td>0.987</td>\n",
       "    </tr>\n",
       "    <tr>\n",
       "      <th>2</th>\n",
       "      <td>3217078</td>\n",
       "      <td>285.78049</td>\n",
       "      <td>38.345821</td>\n",
       "      <td>4780</td>\n",
       "      <td>0.77</td>\n",
       "      <td>0.75</td>\n",
       "      <td>0.14</td>\n",
       "      <td>15.7</td>\n",
       "      <td>1.8530</td>\n",
       "      <td>0.0008</td>\n",
       "      <td>389</td>\n",
       "      <td>200</td>\n",
       "      <td>2456423.703</td>\n",
       "      <td>2456423.990</td>\n",
       "      <td>50.7</td>\n",
       "      <td>9.2</td>\n",
       "      <td>0.155</td>\n",
       "      <td>0.24</td>\n",
       "      <td>0.984</td>\n",
       "    </tr>\n",
       "  </tbody>\n",
       "</table>\n",
       "</div>"
      ],
      "text/plain": [
       "   # KepID   RA (deg)   Dec (deg)   Teff    Rs    Ms   FeH    Kp   period  \\\n",
       "0  2706947  290.01038   37.925758   6771  1.29  1.15 -0.44  13.7   2.5762   \n",
       "1  2708787  290.44894   37.988708   4243  0.63  0.62 -0.12  15.1   1.8296   \n",
       "2  3217078  285.78049   38.345821   4780  0.77  0.75  0.14  15.7   1.8530   \n",
       "\n",
       "    period_unc   Ksini   Ksini_unc   T_0_ellip (BJD)   T_0_refl (BJD)  \\\n",
       "0       0.0018     150         144       2456423.956      2456424.276   \n",
       "1       0.0008     326         188       2456423.177      2456423.266   \n",
       "2       0.0008     389         200       2456423.703      2456423.990   \n",
       "\n",
       "    A_refl   A_ellip   phase_offsets   SNR   probability  \n",
       "0     48.0       3.9           0.124  0.70         0.981  \n",
       "1     49.6       6.0           0.048  0.30         0.987  \n",
       "2     50.7       9.2           0.155  0.24         0.984  "
      ]
     },
     "execution_count": 1,
     "metadata": {},
     "output_type": "execute_result"
    }
   ],
   "source": [
    "import pandas as pd\n",
    "\n",
    "url = 'https://smillholland.github.io/Non-transiting_HJs/Non_transiting_HJ_Candidates_GitHub_061917.csv'\n",
    "\n",
    "df = pd.read_csv(url)\n",
    "df.head(3)"
   ]
  },
  {
   "cell_type": "markdown",
   "metadata": {},
   "source": [
    "## get KIC list"
   ]
  },
  {
   "cell_type": "code",
   "execution_count": 2,
   "metadata": {
    "collapsed": true
   },
   "outputs": [],
   "source": [
    "# Python 2 and 3 compatible\n",
    "try:\n",
    "    from urllib.request import urlopen, Request\n",
    "    from urllib.error import HTTPError\n",
    "except ImportError:\n",
    "    from urllib2 import urlopen, Request, HTTPError\n",
    "import time\n",
    "import warnings\n",
    "warnings.filterwarnings('ignore')\n",
    "\n",
    "webpage='https://smillholland.github.io/Non-transiting_HJs/'\n",
    "response = urlopen(webpage)\n",
    "html = response.read()"
   ]
  },
  {
   "cell_type": "code",
   "execution_count": 3,
   "metadata": {
    "collapsed": true
   },
   "outputs": [],
   "source": [
    "html = html.split('.html')"
   ]
  },
  {
   "cell_type": "code",
   "execution_count": 8,
   "metadata": {},
   "outputs": [
    {
     "name": "stdout",
     "output_type": "stream",
     "text": [
      "['KIC2706947', 'KIC2708787', 'KIC3217078', 'KIC3347307', 'KIC3539728', 'KIC3964318', 'KIC4753174', 'KIC4914087', 'KIC5001685', 'KIC5354490', 'KIC5435675', 'KIC5479689', 'KIC5566612', 'KIC5597644', 'KIC5716330', 'KIC5781247', 'KIC5878307', 'KIC6047853', 'KIC6065597', 'KIC6388466', 'KIC6603087', 'KIC6613542', 'KIC6675953', 'KIC6783562', 'KIC6976754', 'KIC7045031', 'KIC7512130', 'KIC7596734', 'KIC7735171', 'KIC7938689', 'KIC7978458', 'KIC8026887', 'KIC8042004', 'KIC8098079', 'KIC8121913', 'KIC8122501', 'KIC8358253', 'KIC8364428', 'KIC8389838', 'KIC8410490', 'KIC8499974', 'KIC8559208', 'KIC8752590', 'KIC8832613', 'KIC8847921', 'KIC8885337', 'KIC9040864', 'KIC9287646', 'KIC9475045', 'KIC9570402', 'KIC9724972']\n"
     ]
    }
   ],
   "source": [
    "kic=[]\n",
    "for i in html:\n",
    "    word=i[-10:]\n",
    "    if word[0] == 'K':\n",
    "        kic.append(i[-10:])\n",
    "    elif i[0] == 'I':\n",
    "        kic.append('K'+i)\n",
    "print(kic)"
   ]
  },
  {
   "cell_type": "markdown",
   "metadata": {},
   "source": [
    "download data from [MAST](https://archive.stsci.edu/kepler/stellar17/search.php) probably using an API."
   ]
  },
  {
   "cell_type": "code",
   "execution_count": null,
   "metadata": {
    "collapsed": true
   },
   "outputs": [],
   "source": []
  }
 ],
 "metadata": {
  "kernelspec": {
   "display_name": "Python 2",
   "language": "python",
   "name": "python2"
  },
  "language_info": {
   "codemirror_mode": {
    "name": "ipython",
    "version": 2
   },
   "file_extension": ".py",
   "mimetype": "text/x-python",
   "name": "python",
   "nbconvert_exporter": "python",
   "pygments_lexer": "ipython2",
   "version": "2.7.13"
  }
 },
 "nbformat": 4,
 "nbformat_minor": 2
}
